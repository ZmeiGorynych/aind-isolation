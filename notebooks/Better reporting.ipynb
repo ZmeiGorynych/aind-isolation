{
 "cells": [
  {
   "cell_type": "code",
   "execution_count": 1,
   "metadata": {},
   "outputs": [],
   "source": [
    "import sys\n",
    "sys.path.append('..')\n",
    "from tournament import tournament, Agent, CustomPlayerComp, improved_score_fast_x2"
   ]
  },
  {
   "cell_type": "code",
   "execution_count": null,
   "metadata": {},
   "outputs": [
    {
     "name": "stdout",
     "output_type": "stream",
     "text": [
      "\n",
      "This script evaluates the performance of the custom heuristic function by\n",
      "comparing the strength of an agent using iterative deepening (ID) search with\n",
      "alpha-beta pruning against the strength rating of agents using other heuristic\n",
      "functions.  The `ID_Improved` agent provides a baseline by measuring the\n",
      "performance of a basic agent using Iterative Deepening and the \"improved\"\n",
      "heuristic (from lecture) on your hardware.  The `Student` agent then measures\n",
      "the performance of Iterative Deepening and the custom heuristic against the\n",
      "same opponents.\n",
      "\n",
      "\n",
      "*************************\n",
      "   Evaluating: Trainee   \n",
      "*************************\n",
      "\n",
      "Playing Matches:\n",
      "----------\n",
      "  Match 1:   Trainee   vs   Random    timeout!\n"
     ]
    },
    {
     "name": "stderr",
     "output_type": "stream",
     "text": [
      "..\\tournament.py:106: UserWarning: One or more agents lost a match this round due to timeout. The get_move() function must return before time_left() reaches 0 ms. You will need to leave some time for the function to return, and may need to increase this margin to avoid timeouts during  tournament play.\n",
      "  warnings.warn(TIMEOUT_WARNING)\n"
     ]
    },
    {
     "name": "stdout",
     "output_type": "stream",
     "text": [
      "timeout!\n",
      "timeout!\n",
      "timeout!\n",
      "timeout!\n",
      "timeout!\n",
      "timeout!\n",
      "timeout!\n",
      "timeout!\n",
      "timeout!\n",
      "timeout!\n",
      "timeout!\n",
      "timeout!\n",
      "timeout!\n",
      "timeout!\n",
      "timeout!\n",
      "timeout!\n",
      "timeout!\n",
      "timeout!\n",
      "timeout!\n",
      "timeout!\n"
     ]
    }
   ],
   "source": [
    "CUSTOM_ARGS = {\"method\": 'alphabeta', 'iterative': True}\n",
    "trainee = Agent(CustomPlayerComp(score_fn=improved_score_fast_x2, name = \"Trainee\", **CUSTOM_ARGS), \"Trainee\")\n",
    "result = tournament(1000, test_agents = [trainee])"
   ]
  },
  {
   "cell_type": "code",
   "execution_count": 3,
   "metadata": {},
   "outputs": [
    {
     "name": "stdout",
     "output_type": "stream",
     "text": [
      "Trainee\n",
      "dict_keys(['depth', 'score', 'allscores', 'active_player', 'game_', 'simple_score', 'move'])\n",
      "{'depth': 11, 'score': inf, 'allscores': None, 'active_player': None, 'game_': None, 'simple_score': -8.0, 'move': (0, 1), 'winner': 1.0, 'game': array([ 1.,  1.,  0.,  1.,  1.,  0.,  1.,  1.,  1.,  1.,  1.,  1.,  1.,\n",
      "        1.,  1.,  1.]), 'pos': (2, 5), 'G': 0.96059601}\n"
     ]
    }
   ],
   "source": [
    "from reporting import get_depths\n",
    "\n",
    "nice_name = 'Trainee'\n",
    "game = result[1]\n",
    "print(game['winner'].name)\n",
    "print(game['moves'][1].keys())\n",
    "nice_data = get_depths(result, [trainee], lambda x:x, 0.99)\n",
    "#print(result[1]['winner'])\n",
    "print(nice_data['Trainee'][0][0])\n",
    "\n",
    "# for each game determine which player is "
   ]
  },
  {
   "cell_type": "code",
   "execution_count": 7,
   "metadata": {
    "collapsed": true
   },
   "outputs": [],
   "source": [
    "import pickle\n",
    "with open('../data/4x4tiny.pickle', 'wb') as handle:\n",
    "    pickle.dump([nice_data], handle)"
   ]
  }
 ],
 "metadata": {
  "kernelspec": {
   "display_name": "Python [conda env:aind]",
   "language": "python",
   "name": "conda-env-aind-py"
  },
  "language_info": {
   "codemirror_mode": {
    "name": "ipython",
    "version": 3
   },
   "file_extension": ".py",
   "mimetype": "text/x-python",
   "name": "python",
   "nbconvert_exporter": "python",
   "pygments_lexer": "ipython3",
   "version": "3.6.1"
  }
 },
 "nbformat": 4,
 "nbformat_minor": 2
}
