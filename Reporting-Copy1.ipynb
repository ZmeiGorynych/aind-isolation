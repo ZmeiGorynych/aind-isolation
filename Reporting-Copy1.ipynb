{
 "cells": [
  {
   "cell_type": "code",
   "execution_count": 1,
   "metadata": {
    "collapsed": false,
    "deletable": true,
    "editable": true
   },
   "outputs": [],
   "source": [
    "from tournament import tournament\n",
    "from reporting import Reporting\n",
    "import importlib\n",
    "from collections import namedtuple\n",
    "from game_agent_comp import CustomPlayerComp\n",
    "from value_functions import improved_score_fast_x2,improved_score_fast,\\\n",
    "    improved_score_fast_x3, partition_score_x2\n",
    "from sample_players import null_score\n",
    "from policy import SimplePolicy\n",
    "#importlib.reload(reporting)"
   ]
  },
  {
   "cell_type": "code",
   "execution_count": 29,
   "metadata": {
    "collapsed": false,
    "deletable": true,
    "editable": true
   },
   "outputs": [
    {
     "name": "stdout",
     "output_type": "stream",
     "text": [
      "['result0.pickle', 'result1.pickle', 'result2.pickle', 'result3.pickle', 'result4.pickle', 'result5.pickle', 'result6.pickle', 'result7.pickle', 'result8.pickle', 'result9.pickle']\n",
      "dict_keys(['Faster improved', 'improved, two steps exact, with reporting', 'improved, three steps exact'])\n"
     ]
    }
   ],
   "source": [
    "import pickle, glob\n",
    "\n",
    "files = glob.glob('result*.pickle')\n",
    "print(files)\n",
    "\n",
    "depths = {}\n",
    "for file in files[:1]:\n",
    "    try:\n",
    "        with open(file, 'rb') as handle:\n",
    "            old_depths = pickle.load(handle)\n",
    "            #print(old_depths)\n",
    "    except:\n",
    "        old_depths={}\n",
    "\n",
    "    #print(old_depths)\n",
    "    for d in old_depths:\n",
    "        for p, v in d.items():\n",
    "            if p not in depths:\n",
    "                depths[p]=v\n",
    "            else:\n",
    "                depths[p] = depths[p]+v\n",
    "\n",
    "#with open('result.pickle', 'wb') as handle:\n",
    "#    pickle.dump(depths, handle)\n",
    "print(depths.keys())\n",
    "\n"
   ]
  },
  {
   "cell_type": "code",
   "execution_count": 31,
   "metadata": {
    "collapsed": false
   },
   "outputs": [
    {
     "name": "stdout",
     "output_type": "stream",
     "text": [
      "{'depth': 6, 'score': 0.0, 'game': array([ 1.,  1.,  0.,  1.,  1.,  1.,  1.,  1.,  0.,  1.,  1.,  1.,  1.,\n",
      "        1.,  1.,  0.,  1.,  1.,  1.,  1.,  1.,  1.,  1.,  0.,  1.,  1.,\n",
      "        1.,  1.,  1.,  1.,  1.,  1.,  1.,  1.,  1.,  1.,  1.,  1.,  1.,\n",
      "        1.,  1.,  1.,  1.,  1.,  1.,  1.,  1.,  1.,  1.]), 'pos': (8, 15), 'simple_score': -7.0, 'move': (3, 2), 'allscores': [(-1.0, (0, 3)), (0.0, (3, 2)), (-1.0, (3, 0))]}\n"
     ]
    }
   ],
   "source": [
    "def softmax(x):\n",
    "    \"\"\"Compute softmax values for each sets of scores in x.\"\"\"\n",
    "    e_x = np.exp(x - np.max(x))\n",
    "    return e_x / e_x.sum()\n",
    "\n",
    "example = depths['improved, three steps exact'][0]\n",
    "move = example[1]\n",
    "print(move)\n"
   ]
  },
  {
   "cell_type": "code",
   "execution_count": 3,
   "metadata": {
    "collapsed": false
   },
   "outputs": [
    {
     "name": "stdout",
     "output_type": "stream",
     "text": [
      "1308\n"
     ]
    }
   ],
   "source": [
    "# collate all moves in one big list\n",
    "moves = []\n",
    "#for player, games in depths.items():\n",
    "games=depths['improved, three steps exact']\n",
    "for game in games:\n",
    "    for move in game:\n",
    "        if move['score'] != float('inf') and move['score'] != float('-inf'):\n",
    "            moves.append(move)\n",
    "print(len(moves))"
   ]
  },
  {
   "cell_type": "code",
   "execution_count": 4,
   "metadata": {
    "collapsed": false,
    "scrolled": true
   },
   "outputs": [
    {
     "name": "stdout",
     "output_type": "stream",
     "text": [
      "1 797\n",
      "train:  1.00814822617\n",
      "test:  1.00404461153\n",
      "train:  1.00416601026\n",
      "test:  1.00170380924\n",
      "train:  1.00135766159\n",
      "test:  1.00004442707\n",
      "train:  0.999230749539\n",
      "test:  0.998745976651\n",
      "train:  0.997431032404\n",
      "test:  0.997608809176\n",
      "train:  0.995762434587\n",
      "test:  0.996539476944\n",
      "train:  0.994153261169\n",
      "test:  0.995512990708\n",
      "train:  0.992600675791\n",
      "test:  0.994534688396\n",
      "train:  0.991125650984\n",
      "test:  0.99361791433\n",
      "train:  0.989749252526\n",
      "test:  0.992772052133\n",
      "train:  0.988482080531\n",
      "test:  0.991999946612\n",
      "train:  0.987325791058\n",
      "test:  0.99130000372\n",
      "train:  0.98627623065\n",
      "test:  0.990667894385\n",
      "train:  0.985325958871\n",
      "test:  0.990097948667\n",
      "train:  0.984466129345\n",
      "test:  0.989584067596\n",
      "train:  0.983687681217\n",
      "test:  0.989120288062\n",
      "train:  0.982981865104\n",
      "test:  0.988700988822\n",
      "train:  0.982340591441\n",
      "test:  0.988321056244\n",
      "train:  0.981756570248\n",
      "test:  0.987975937252\n",
      "train:  0.98122332679\n",
      "test:  0.987661606388\n",
      "train:  0.980735122572\n",
      "test:  0.987374511988\n",
      "train:  0.980286927063\n",
      "test:  0.987111564634\n",
      "train:  0.979874355239\n",
      "test:  0.986870082822\n",
      "train:  0.979493577825\n",
      "test:  0.986647715302\n",
      "train:  0.979141239207\n",
      "test:  0.986442415404\n"
     ]
    },
    {
     "ename": "KeyboardInterrupt",
     "evalue": "",
     "output_type": "error",
     "traceback": [
      "\u001b[1;31m---------------------------------------------------------------------------\u001b[0m",
      "\u001b[1;31mKeyboardInterrupt\u001b[0m                         Traceback (most recent call last)",
      "\u001b[1;32m<ipython-input-4-c58144130d63>\u001b[0m in \u001b[0;36m<module>\u001b[1;34m()\u001b[0m\n\u001b[0;32m     21\u001b[0m         \u001b[1;31m#square_print(nn(inp))\u001b[0m\u001b[1;33m\u001b[0m\u001b[1;33m\u001b[0m\u001b[0m\n\u001b[0;32m     22\u001b[0m         \u001b[1;31m#print(np.linalg.norm(diff))\u001b[0m\u001b[1;33m\u001b[0m\u001b[1;33m\u001b[0m\u001b[0m\n\u001b[1;32m---> 23\u001b[1;33m         \u001b[0mgr\u001b[0m \u001b[1;33m=\u001b[0m \u001b[0mval\u001b[0m\u001b[1;33m.\u001b[0m\u001b[0mnn\u001b[0m\u001b[1;33m.\u001b[0m\u001b[0mgrad\u001b[0m\u001b[1;33m(\u001b[0m\u001b[1;33m)\u001b[0m\u001b[1;33m\u001b[0m\u001b[0m\n\u001b[0m\u001b[0;32m     24\u001b[0m         \u001b[0mgr\u001b[0m \u001b[1;33m=\u001b[0m \u001b[0mgr\u001b[0m \u001b[1;33m/\u001b[0m\u001b[1;33m(\u001b[0m\u001b[1;36m1\u001b[0m \u001b[1;33m+\u001b[0m \u001b[0mnp\u001b[0m\u001b[1;33m.\u001b[0m\u001b[0mlinalg\u001b[0m\u001b[1;33m.\u001b[0m\u001b[0mnorm\u001b[0m\u001b[1;33m(\u001b[0m\u001b[0mgr\u001b[0m\u001b[1;33m)\u001b[0m\u001b[1;33m)\u001b[0m\u001b[1;33m\u001b[0m\u001b[0m\n\u001b[0;32m     25\u001b[0m         \u001b[0mcoeff\u001b[0m \u001b[1;33m=\u001b[0m \u001b[0mval\u001b[0m\u001b[1;33m.\u001b[0m\u001b[0mnn\u001b[0m\u001b[1;33m.\u001b[0m\u001b[0mget_coeff\u001b[0m\u001b[1;33m(\u001b[0m\u001b[1;33m)\u001b[0m \u001b[1;33m+\u001b[0m \u001b[0mgr\u001b[0m\u001b[1;33m.\u001b[0m\u001b[0mdot\u001b[0m\u001b[1;33m(\u001b[0m\u001b[0mtrain_diff\u001b[0m\u001b[1;33m[\u001b[0m\u001b[0mm\u001b[0m\u001b[1;33m]\u001b[0m\u001b[1;33m)\u001b[0m\u001b[1;33m.\u001b[0m\u001b[0mtranspose\u001b[0m\u001b[1;33m(\u001b[0m\u001b[1;33m)\u001b[0m\u001b[1;33m[\u001b[0m\u001b[1;36m0\u001b[0m\u001b[1;33m]\u001b[0m\u001b[1;33m*\u001b[0m\u001b[1;36m0.001\u001b[0m\u001b[1;33m\u001b[0m\u001b[0m\n",
      "\u001b[1;32mC:\\Users\\Egor\\Dropbox\\GitHub\\aind\\aind-isolation\\neural.py\u001b[0m in \u001b[0;36mgrad\u001b[1;34m(self, mask)\u001b[0m\n\u001b[0;32m    280\u001b[0m         \u001b[0moutput\u001b[0m \u001b[1;33m=\u001b[0m \u001b[1;32mNone\u001b[0m\u001b[1;33m\u001b[0m\u001b[0m\n\u001b[0;32m    281\u001b[0m         \u001b[1;32mfor\u001b[0m \u001b[0ms\u001b[0m \u001b[1;32min\u001b[0m \u001b[0mself\u001b[0m\u001b[1;33m.\u001b[0m\u001b[0mstages\u001b[0m\u001b[1;33m:\u001b[0m\u001b[1;33m\u001b[0m\u001b[0m\n\u001b[1;32m--> 282\u001b[1;33m             \u001b[0mnew_grad\u001b[0m \u001b[1;33m=\u001b[0m \u001b[0ms\u001b[0m\u001b[1;33m.\u001b[0m\u001b[0mgrad\u001b[0m\u001b[1;33m(\u001b[0m\u001b[1;34m'p'\u001b[0m\u001b[1;33m,\u001b[0m \u001b[0mmask\u001b[0m\u001b[1;33m)\u001b[0m\u001b[1;33m\u001b[0m\u001b[0m\n\u001b[0m\u001b[0;32m    283\u001b[0m             \u001b[1;32mif\u001b[0m \u001b[0moutput\u001b[0m \u001b[1;32mis\u001b[0m \u001b[1;32mNone\u001b[0m\u001b[1;33m:\u001b[0m\u001b[1;33m\u001b[0m\u001b[0m\n\u001b[0;32m    284\u001b[0m                 \u001b[0moutput\u001b[0m \u001b[1;33m=\u001b[0m \u001b[0mnew_grad\u001b[0m\u001b[1;33m\u001b[0m\u001b[0m\n",
      "\u001b[1;32mC:\\Users\\Egor\\Dropbox\\GitHub\\aind\\aind-isolation\\neural.py\u001b[0m in \u001b[0;36mgrad\u001b[1;34m(self, type, mask)\u001b[0m\n\u001b[0;32m    232\u001b[0m             \u001b[1;32mfor\u001b[0m \u001b[0md1\u001b[0m\u001b[1;33m,\u001b[0m \u001b[0mul\u001b[0m \u001b[1;32min\u001b[0m \u001b[0menumerate\u001b[0m\u001b[1;33m(\u001b[0m\u001b[0mself\u001b[0m\u001b[1;33m.\u001b[0m\u001b[0munits\u001b[0m\u001b[1;33m)\u001b[0m\u001b[1;33m:\u001b[0m\u001b[1;33m\u001b[0m\u001b[0m\n\u001b[0;32m    233\u001b[0m                 \u001b[1;32mfor\u001b[0m \u001b[0md2\u001b[0m\u001b[1;33m,\u001b[0m \u001b[0munit\u001b[0m \u001b[1;32min\u001b[0m \u001b[0menumerate\u001b[0m\u001b[1;33m(\u001b[0m\u001b[0mul\u001b[0m\u001b[1;33m)\u001b[0m\u001b[1;33m:\u001b[0m\u001b[1;33m\u001b[0m\u001b[0m\n\u001b[1;32m--> 234\u001b[1;33m                     \u001b[0mpart_grad\u001b[0m \u001b[1;33m=\u001b[0m \u001b[0munit\u001b[0m\u001b[1;33m.\u001b[0m\u001b[0mgrad\u001b[0m\u001b[1;33m(\u001b[0m\u001b[0mtype\u001b[0m\u001b[1;33m,\u001b[0m \u001b[0mmask\u001b[0m\u001b[1;33m)\u001b[0m\u001b[1;33m\u001b[0m\u001b[0m\n\u001b[0m\u001b[0;32m    235\u001b[0m                     \u001b[0mlen1\u001b[0m\u001b[1;33m,\u001b[0m \u001b[0mlen2\u001b[0m \u001b[1;33m=\u001b[0m \u001b[0mpart_grad\u001b[0m\u001b[1;33m.\u001b[0m\u001b[0mshape\u001b[0m\u001b[1;33m\u001b[0m\u001b[0m\n\u001b[0;32m    236\u001b[0m                     \u001b[1;32mif\u001b[0m \u001b[0moutput\u001b[0m \u001b[1;32mis\u001b[0m \u001b[1;32mNone\u001b[0m\u001b[1;33m:\u001b[0m\u001b[1;33m\u001b[0m\u001b[0m\n",
      "\u001b[1;32mC:\\Users\\Egor\\Dropbox\\GitHub\\aind\\aind-isolation\\neural.py\u001b[0m in \u001b[0;36mgrad\u001b[1;34m(self, type, mask)\u001b[0m\n\u001b[0;32m    184\u001b[0m         \u001b[1;32melse\u001b[0m\u001b[1;33m:\u001b[0m\u001b[1;33m\u001b[0m\u001b[0m\n\u001b[0;32m    185\u001b[0m             \u001b[0mmy_mask\u001b[0m \u001b[1;33m=\u001b[0m \u001b[0mmask\u001b[0m\u001b[1;33m\u001b[0m\u001b[0m\n\u001b[1;32m--> 186\u001b[1;33m         \u001b[1;32mreturn\u001b[0m \u001b[0mmove_convolution_grad\u001b[0m\u001b[1;33m(\u001b[0m\u001b[0mself\u001b[0m\u001b[1;33m.\u001b[0m\u001b[0minput_vec\u001b[0m\u001b[1;33m,\u001b[0m \u001b[0mself\u001b[0m\u001b[1;33m.\u001b[0m\u001b[0mcoeff\u001b[0m\u001b[1;33m,\u001b[0m \u001b[0mself\u001b[0m\u001b[1;33m.\u001b[0m\u001b[0mjoint_indices\u001b[0m\u001b[1;33m,\u001b[0m \u001b[0mtype\u001b[0m\u001b[1;33m,\u001b[0m \u001b[0mmy_mask\u001b[0m\u001b[1;33m)\u001b[0m\u001b[1;33m\u001b[0m\u001b[0m\n\u001b[0m\u001b[0;32m    187\u001b[0m \u001b[1;33m\u001b[0m\u001b[0m\n\u001b[0;32m    188\u001b[0m \u001b[1;32mclass\u001b[0m \u001b[0mConvolutionStage\u001b[0m\u001b[1;33m:\u001b[0m\u001b[1;33m\u001b[0m\u001b[0m\n",
      "\u001b[1;32mC:\\Users\\Egor\\Dropbox\\GitHub\\aind\\aind-isolation\\neural.py\u001b[0m in \u001b[0;36mmove_convolution_grad\u001b[1;34m(move_vec, coeff_vec, joint_indices, type, mask, result_grad)\u001b[0m\n\u001b[0;32m    138\u001b[0m     \u001b[1;32mif\u001b[0m \u001b[0mtype\u001b[0m \u001b[1;33m==\u001b[0m \u001b[1;34m'p'\u001b[0m\u001b[1;33m:\u001b[0m\u001b[1;33m\u001b[0m\u001b[0m\n\u001b[0;32m    139\u001b[0m         \u001b[1;32mif\u001b[0m \u001b[0mresult_grad\u001b[0m \u001b[1;32mis\u001b[0m \u001b[1;32mNone\u001b[0m\u001b[1;33m:\u001b[0m\u001b[1;33m\u001b[0m\u001b[0m\n\u001b[1;32m--> 140\u001b[1;33m             \u001b[0mresult_grad\u001b[0m\u001b[1;33m=\u001b[0m \u001b[0mnp\u001b[0m\u001b[1;33m.\u001b[0m\u001b[0mzeros\u001b[0m\u001b[1;33m(\u001b[0m\u001b[1;33m[\u001b[0m\u001b[0mlen\u001b[0m\u001b[1;33m(\u001b[0m\u001b[0mcoeff_vec\u001b[0m\u001b[1;33m)\u001b[0m\u001b[1;33m,\u001b[0m\u001b[0mlen\u001b[0m\u001b[1;33m(\u001b[0m\u001b[0mmove_vec\u001b[0m\u001b[1;33m)\u001b[0m\u001b[1;33m]\u001b[0m\u001b[1;33m)\u001b[0m\u001b[1;33m\u001b[0m\u001b[0m\n\u001b[0m\u001b[0;32m    141\u001b[0m \u001b[1;33m\u001b[0m\u001b[0m\n\u001b[0;32m    142\u001b[0m         \u001b[1;32mfor\u001b[0m \u001b[0mindex\u001b[0m\u001b[1;33m,\u001b[0m \u001b[0mindlist\u001b[0m \u001b[1;32min\u001b[0m \u001b[0mjoint_indices\u001b[0m\u001b[1;33m.\u001b[0m\u001b[0mitems\u001b[0m\u001b[1;33m(\u001b[0m\u001b[1;33m)\u001b[0m\u001b[1;33m:\u001b[0m\u001b[1;33m\u001b[0m\u001b[0m\n",
      "\u001b[1;31mKeyboardInterrupt\u001b[0m: "
     ]
    }
   ],
   "source": [
    "from neural import NNValueFunction\n",
    "import numpy as np\n",
    "from copy import copy\n",
    "from sklearn.model_selection import train_test_split\n",
    "\n",
    "train_moves, test_moves = train_test_split(moves, test_size = 0.2)\n",
    "\n",
    "\n",
    "val = NNValueFunction([1,3,3])\n",
    "val.set_coeff(np.random.normal(size =val.coeff_len)*0.3)\n",
    "n = 0\n",
    "train_diff = np.zeros(len(train_moves))\n",
    "train_base = copy(train_diff)\n",
    "test_diff = np.zeros(len(test_moves))\n",
    "test_base = copy(test_diff)\n",
    "while True:\n",
    "    for m, move in  enumerate(train_moves):\n",
    "        train_diff[m] = move['score'] - val(input_vec = move['game'], pos = move['pos'])\n",
    "        train_base[m] = move['score']\n",
    "        #square_print(nn(inp))\n",
    "        #print(np.linalg.norm(diff))\n",
    "        gr = val.nn.grad()\n",
    "        gr = gr /(1 + np.linalg.norm(gr))\n",
    "        coeff = val.nn.get_coeff() + gr.dot(train_diff[m]).transpose()[0]*0.001\n",
    "        #print(coeff.shape)\n",
    "        val.nn.set_coeff(coeff)\n",
    "        #if m%100 == 0\n",
    "    for m,move in enumerate(test_moves):\n",
    "        test_diff[m] = move['score'] - val(input_vec = move['game'], pos = move['pos'])\n",
    "        test_base[m] = move['score']\n",
    "    print('train: ',np.linalg.norm(train_diff)/np.linalg.norm(train_base))\n",
    "    print('test: ',np.linalg.norm(test_diff)/np.linalg.norm(test_base))\n"
   ]
  },
  {
   "cell_type": "code",
   "execution_count": null,
   "metadata": {
    "collapsed": false,
    "deletable": true,
    "editable": true
   },
   "outputs": [],
   "source": [
    "def transpose_list_of_lists(lol):\n",
    "    \n",
    "    transp = []\n",
    "\n",
    "    for game in lol:\n",
    "        for m, move_depth in enumerate(game):\n",
    "            if len(transp) <= m:\n",
    "                transp.append([])\n",
    "            transp[m].append(move_depth)\n",
    "    return transp\n",
    "\n"
   ]
  },
  {
   "cell_type": "code",
   "execution_count": null,
   "metadata": {
    "collapsed": false,
    "deletable": true,
    "editable": true
   },
   "outputs": [],
   "source": [
    "#%pdb\n",
    "from statistics import mean, stdev, median\n",
    "import numpy as np\n",
    "\n",
    "def get_mean_std(lol):\n",
    "    result = {'mu':[], 'std':[],'median':[], 'strict_win':[], 'strict_loss':[]}\n",
    "    \n",
    "    for move in lol:\n",
    "        if len(move) > 2:\n",
    "            result['mu'].append(mean([m['depth'] for m in move]))\n",
    "            result['std'].append(stdev([m['depth'] for m in move]))\n",
    "            result['median'].append(median([m['depth'] for m in move]))\n",
    "            result['strict_win'].append(\\\n",
    "                len([ m['score'] for m in move if m['score'] == float('inf')]) / len(move))\n",
    "            result['strict_loss'].append(\\\n",
    "                len([ m['score'] for m in move if m['score'] == float('-inf')]) / len(move))\n",
    "            \n",
    "            \n",
    "    result['mu'] = np.array(result['mu'] )\n",
    "    result['std'] = np.array(result['std'])\n",
    "    result['median'] = np.array(result['median'])\n",
    "    result['strict_win'] = np.array(result['strict_win'])\n",
    "    result['strict_loss'] = np.array(result['strict_loss'])\n",
    "    return result\n",
    "\n",
    "player_stats = {}\n",
    "for p, d in depths.items():\n",
    "    tmp = transpose_list_of_lists(d)\n",
    "    #print(tmp)\n",
    "    player_stats[p] = get_mean_std(transpose_list_of_lists(d))\n"
   ]
  },
  {
   "cell_type": "code",
   "execution_count": null,
   "metadata": {
    "collapsed": false,
    "deletable": true,
    "editable": true
   },
   "outputs": [],
   "source": [
    "player_stats\n"
   ]
  },
  {
   "cell_type": "code",
   "execution_count": null,
   "metadata": {
    "collapsed": false,
    "deletable": true,
    "editable": true
   },
   "outputs": [],
   "source": [
    "#import numpy as np\n",
    "import matplotlib.pyplot as plt\n",
    "%matplotlib inline\n",
    "\n",
    "plt.figure()\n",
    "ax = plt.axes()\n",
    "#ax.set_yscale(\"log\")\n",
    "lines = []\n",
    "legend = []\n",
    "n=0\n",
    "lastpt = 12\n",
    "for p, stats in player_stats.items():\n",
    "    lines.append(\\\n",
    "        plt.errorbar(np.array(range(lastpt))+n,stats['mu'][0:lastpt], \n",
    "                     yerr=stats['std'][0:lastpt], fmt='o'))\n",
    "    legend.append(p)\n",
    "    n+= 0.1\n",
    "\n",
    "plt.legend(lines,legend)\n",
    "plt.show()"
   ]
  },
  {
   "cell_type": "code",
   "execution_count": null,
   "metadata": {
    "collapsed": false,
    "deletable": true,
    "editable": true
   },
   "outputs": [],
   "source": [
    "plt.figure()\n",
    "ax = plt.axes()\n",
    "#ax.set_yscale(\"log\")\n",
    "lines = []\n",
    "legend =[]\n",
    "for p, stats in player_stats.items():\n",
    "    lines.append(\\\n",
    "        plt.plot(range(len(stats['mu'])),stats['strict_win'] + stats['strict_loss']))\n",
    "    legend.append(p)\n",
    "plt.legend(legend)\n",
    "plt.grid()\n",
    "plt.show()"
   ]
  },
  {
   "cell_type": "code",
   "execution_count": null,
   "metadata": {
    "collapsed": false,
    "deletable": true,
    "editable": true
   },
   "outputs": [],
   "source": [
    "plt.figure()\n",
    "ax = plt.axes()\n",
    "#ax.set_yscale(\"log\")\n",
    "lines = []\n",
    "legend =[]\n",
    "for p, stats in player_stats.items():\n",
    "    lines.append(\\\n",
    "        plt.plot(range(len(stats['mu'])),stats['strict_win']-stats['strict_loss']))\n",
    "    legend.append(p)\n",
    "plt.legend(legend)\n",
    "plt.grid()\n",
    "plt.show()"
   ]
  }
 ],
 "metadata": {
  "kernelspec": {
   "display_name": "Python 3",
   "language": "python",
   "name": "python3"
  },
  "language_info": {
   "codemirror_mode": {
    "name": "ipython",
    "version": 3
   },
   "file_extension": ".py",
   "mimetype": "text/x-python",
   "name": "python",
   "nbconvert_exporter": "python",
   "pygments_lexer": "ipython3",
   "version": "3.6.0"
  }
 },
 "nbformat": 4,
 "nbformat_minor": 2
}
