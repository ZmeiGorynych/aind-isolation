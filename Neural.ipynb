{
 "cells": [
  {
   "cell_type": "code",
   "execution_count": 1,
   "metadata": {
    "collapsed": false
   },
   "outputs": [
    {
     "name": "stdout",
     "output_type": "stream",
     "text": [
      "1 797\n"
     ]
    }
   ],
   "source": [
    "from neural import *\n",
    "import copy"
   ]
  },
  {
   "cell_type": "code",
   "execution_count": 2,
   "metadata": {
    "collapsed": false
   },
   "outputs": [],
   "source": [
    "#%%timeit\n",
    "\n",
    "def grad_(nn):\n",
    "    nn2 = copy.deepcopy(nn)\n",
    "    val = nn.output_vector\n",
    "    dx = 0.01\n",
    "    grad_ = np.zeros([nn.coeff_len,nn.output_len])\n",
    "    coeff = nn2.get_coeff()\n",
    "    for i in range(len(coeff)):\n",
    "        tmp = coeff[i]\n",
    "        coeff[i]= coeff[i] + dx\n",
    "        nn2.set_coeff(coeff)\n",
    "        newval = nn2(inp)\n",
    "        grad_[i,:] = copy.copy(-(val - newval)/dx)\n",
    "        coeff[i] = tmp\n",
    "    return grad_\n",
    "\n",
    "\n"
   ]
  },
  {
   "cell_type": "code",
   "execution_count": 3,
   "metadata": {
    "collapsed": false
   },
   "outputs": [
    {
     "name": "stdout",
     "output_type": "stream",
     "text": [
      "53 53\n",
      "(53, 49)\n",
      "21.7715410571 4.64088310332e-13\n"
     ]
    }
   ],
   "source": [
    "\n",
    "nn = ConvolutionNetwork([1, 1], relu=False)\n",
    "print(nn.coeff_len, nn.stages[0].units[0][0].coeff_len)\n",
    "coeff = np.ones(nn.coeff_len)#+ 0.01*np.random.normal(size=nn.coeff_len)\n",
    "inp = np.ones(nn.input_len)\n",
    "nn.set_coeff(coeff)\n",
    "nn(inp)\n",
    "nn.grad()\n",
    "print(nn.grad().shape)\n",
    "#timeit \n",
    "g = grad_(nn)\n",
    "g2 = nn.grad()\n",
    "#print(g2)\n",
    "delta = g-g2\n",
    "#square_print((10*delta).astype(int))\n",
    "print(np.linalg.norm(g),np.linalg.norm(g-g2) )\n",
    "#square_print((g - g2).astype(int))\n",
    "\n",
    "#square_print((nn.grad() - g).astype(int))\n",
    "#print((10*delta).sum(0))\n",
    "if False:\n",
    "    n=0\n",
    "    while n*53 <len(coeff):\n",
    "        coeff[(n*53):(n*53+10)] = 0 # offsets\n",
    "        n += 1\n",
    "    try:\n",
    "        pass\n",
    "        #coeff[53:63] =0\n",
    "    except:\n",
    "        pass\n",
    "    #coeff[:] = 1 # self\n",
    "    #coeff = np.vectorize(abs)(10*np.random.normal(size=nn.coeff_len)).astype(int)\n",
    "    inp = np.zeros(nn.input_len)\n",
    "    inp[25] = 1\n",
    "    #mask = np.ones(49)\n",
    "    #mask[0:21] = 0\n",
    "    #inp = inp*mask\n",
    "    nn.set_coeff(coeff)\n",
    "    val = copy.copy(nn(inp))\n",
    "    square_print(val)\n",
    "    coeff[20] += 20\n",
    "    print(coeff)\n",
    "    nn.set_coeff(coeff)\n",
    "    square_print(nn(inp) - val)\n"
   ]
  },
  {
   "cell_type": "code",
   "execution_count": 4,
   "metadata": {
    "collapsed": false
   },
   "outputs": [
    {
     "name": "stdout",
     "output_type": "stream",
     "text": [
      "10 loops, best of 3: 40.2 ms per loop\n"
     ]
    },
    {
     "data": {
      "text/plain": [
       "11024"
      ]
     },
     "execution_count": 4,
     "metadata": {},
     "output_type": "execute_result"
    }
   ],
   "source": [
    "nn = ConvolutionNetwork([1,8,8,8,8,1])\n",
    "nn.set_coeff(np.ones(nn.coeff_len))\n",
    "%timeit(nn(np.ones(nn.output_len)))\n",
    "nn.coeff_len"
   ]
  },
  {
   "cell_type": "code",
   "execution_count": 9,
   "metadata": {
    "collapsed": false
   },
   "outputs": [
    {
     "name": "stdout",
     "output_type": "stream",
     "text": [
      "1 797\n",
      "6.54836185277e-11 -6.18456397206e-11\n"
     ]
    }
   ],
   "source": [
    "val = NNValueFunction([1, 3, 3])\n",
    "val.set_coeff(np.ones(val.coeff_len))\n",
    "val.nn.stages[-1].set_loc(23, 45)\n",
    "val.nn(np.ones(49), np.ones(49))\n",
    "print(val.nn.output_len, val.nn.coeff_len)\n",
    "val.nn.grad().shape\n",
    "delta = grad_(val.nn) -val.nn.grad()\n",
    "print(delta.max(), delta.min())"
   ]
  },
  {
   "cell_type": "code",
   "execution_count": 6,
   "metadata": {
    "collapsed": false
   },
   "outputs": [
    {
     "name": "stdout",
     "output_type": "stream",
     "text": [
      "0.646898669926\n",
      "0.180186426745\n",
      "0.0619766309652\n",
      "0.0218839999356\n",
      "0.0077444975493\n",
      "0.00274118612539\n",
      "0.000970264595367\n",
      "0.000343433266712\n",
      "0.000121561088206\n",
      "4.30275681293e-05\n",
      "1.52299691257e-05\n",
      "5.39077548778e-06\n",
      "1.90811026024e-06\n",
      "6.75391652383e-07\n",
      "2.39060547358e-07\n",
      "8.46174894598e-08\n",
      "2.99510707347e-08\n",
      "1.06014328427e-08\n",
      "3.75246611562e-09\n",
      "1.32821664779e-09\n",
      "4.70133043635e-10\n",
      "1.66409108784e-10\n",
      "5.89019945253e-11\n",
      "2.08486566054e-11\n"
     ]
    },
    {
     "ename": "KeyboardInterrupt",
     "evalue": "",
     "output_type": "error",
     "traceback": [
      "\u001b[1;31m---------------------------------------------------------------------------\u001b[0m",
      "\u001b[1;31mKeyboardInterrupt\u001b[0m                         Traceback (most recent call last)",
      "\u001b[1;32m<ipython-input-6-f9b23034a9fd>\u001b[0m in \u001b[0;36m<module>\u001b[1;34m()\u001b[0m\n\u001b[0;32m     17\u001b[0m     \u001b[1;31m#square_print(nn(inp))\u001b[0m\u001b[1;33m\u001b[0m\u001b[1;33m\u001b[0m\u001b[0m\n\u001b[0;32m     18\u001b[0m     \u001b[1;31m#print(np.linalg.norm(diff))\u001b[0m\u001b[1;33m\u001b[0m\u001b[1;33m\u001b[0m\u001b[0m\n\u001b[1;32m---> 19\u001b[1;33m     \u001b[0mgr\u001b[0m \u001b[1;33m=\u001b[0m \u001b[0mnn\u001b[0m\u001b[1;33m.\u001b[0m\u001b[0mgrad\u001b[0m\u001b[1;33m(\u001b[0m\u001b[1;33m)\u001b[0m\u001b[1;33m\u001b[0m\u001b[0m\n\u001b[0m\u001b[0;32m     20\u001b[0m     \u001b[0mgr\u001b[0m \u001b[1;33m=\u001b[0m \u001b[0mgr\u001b[0m \u001b[1;33m/\u001b[0m\u001b[1;33m(\u001b[0m\u001b[1;36m1\u001b[0m \u001b[1;33m+\u001b[0m \u001b[0mnp\u001b[0m\u001b[1;33m.\u001b[0m\u001b[0mlinalg\u001b[0m\u001b[1;33m.\u001b[0m\u001b[0mnorm\u001b[0m\u001b[1;33m(\u001b[0m\u001b[0mgr\u001b[0m\u001b[1;33m)\u001b[0m\u001b[1;33m)\u001b[0m\u001b[1;33m\u001b[0m\u001b[0m\n\u001b[0;32m     21\u001b[0m     \u001b[0mcoeff\u001b[0m \u001b[1;33m=\u001b[0m \u001b[0mnn\u001b[0m\u001b[1;33m.\u001b[0m\u001b[0mget_coeff\u001b[0m\u001b[1;33m(\u001b[0m\u001b[1;33m)\u001b[0m \u001b[1;33m+\u001b[0m \u001b[0mgr\u001b[0m\u001b[1;33m.\u001b[0m\u001b[0mdot\u001b[0m\u001b[1;33m(\u001b[0m\u001b[0mdiff\u001b[0m\u001b[1;33m)\u001b[0m\u001b[1;33m*\u001b[0m\u001b[1;36m0.1\u001b[0m\u001b[1;33m\u001b[0m\u001b[0m\n",
      "\u001b[1;32mC:\\Users\\Egor\\Dropbox\\GitHub\\aind\\aind-isolation\\neural.py\u001b[0m in \u001b[0;36mgrad\u001b[1;34m(self, mask)\u001b[0m\n\u001b[0;32m    284\u001b[0m                 \u001b[0moutput\u001b[0m \u001b[1;33m=\u001b[0m \u001b[0mnew_grad\u001b[0m\u001b[1;33m\u001b[0m\u001b[0m\n\u001b[0;32m    285\u001b[0m             \u001b[1;32melse\u001b[0m\u001b[1;33m:\u001b[0m\u001b[1;33m\u001b[0m\u001b[0m\n\u001b[1;32m--> 286\u001b[1;33m                 \u001b[0moutput\u001b[0m \u001b[1;33m=\u001b[0m \u001b[0mnp\u001b[0m\u001b[1;33m.\u001b[0m\u001b[0mconcatenate\u001b[0m\u001b[1;33m(\u001b[0m\u001b[1;33m(\u001b[0m\u001b[0moutput\u001b[0m\u001b[1;33m.\u001b[0m\u001b[0mdot\u001b[0m\u001b[1;33m(\u001b[0m\u001b[0ms\u001b[0m\u001b[1;33m.\u001b[0m\u001b[0mgrad\u001b[0m\u001b[1;33m(\u001b[0m\u001b[1;34m'x'\u001b[0m\u001b[1;33m,\u001b[0m \u001b[0mmask\u001b[0m\u001b[1;33m)\u001b[0m\u001b[1;33m)\u001b[0m\u001b[1;33m,\u001b[0m \u001b[0mnew_grad\u001b[0m\u001b[1;33m)\u001b[0m\u001b[1;33m)\u001b[0m\u001b[1;33m\u001b[0m\u001b[0m\n\u001b[0m\u001b[0;32m    287\u001b[0m         \u001b[1;32mreturn\u001b[0m \u001b[0moutput\u001b[0m\u001b[1;33m\u001b[0m\u001b[0m\n\u001b[0;32m    288\u001b[0m \u001b[1;33m\u001b[0m\u001b[0m\n",
      "\u001b[1;32mC:\\Users\\Egor\\Dropbox\\GitHub\\aind\\aind-isolation\\neural.py\u001b[0m in \u001b[0;36mgrad\u001b[1;34m(self, type, mask)\u001b[0m\n\u001b[0;32m    243\u001b[0m             \u001b[1;32mfor\u001b[0m \u001b[0md1\u001b[0m\u001b[1;33m,\u001b[0m \u001b[0mul\u001b[0m \u001b[1;32min\u001b[0m \u001b[0menumerate\u001b[0m\u001b[1;33m(\u001b[0m\u001b[0mself\u001b[0m\u001b[1;33m.\u001b[0m\u001b[0munits\u001b[0m\u001b[1;33m)\u001b[0m\u001b[1;33m:\u001b[0m\u001b[1;33m\u001b[0m\u001b[0m\n\u001b[0;32m    244\u001b[0m                 \u001b[1;32mfor\u001b[0m \u001b[0md2\u001b[0m\u001b[1;33m,\u001b[0m \u001b[0munit\u001b[0m \u001b[1;32min\u001b[0m \u001b[0menumerate\u001b[0m\u001b[1;33m(\u001b[0m\u001b[0mul\u001b[0m\u001b[1;33m)\u001b[0m\u001b[1;33m:\u001b[0m\u001b[1;33m\u001b[0m\u001b[0m\n\u001b[1;32m--> 245\u001b[1;33m                     \u001b[0mpart_grad\u001b[0m \u001b[1;33m=\u001b[0m \u001b[0munit\u001b[0m\u001b[1;33m.\u001b[0m\u001b[0mgrad\u001b[0m\u001b[1;33m(\u001b[0m\u001b[0mtype\u001b[0m\u001b[1;33m,\u001b[0m \u001b[0mmask\u001b[0m\u001b[1;33m)\u001b[0m\u001b[1;33m\u001b[0m\u001b[0m\n\u001b[0m\u001b[0;32m    246\u001b[0m                     \u001b[0mlen1\u001b[0m\u001b[1;33m,\u001b[0m \u001b[0mlen2\u001b[0m \u001b[1;33m=\u001b[0m \u001b[0mpart_grad\u001b[0m\u001b[1;33m.\u001b[0m\u001b[0mshape\u001b[0m\u001b[1;33m\u001b[0m\u001b[0m\n\u001b[0;32m    247\u001b[0m                     \u001b[1;32mif\u001b[0m \u001b[0moutput\u001b[0m \u001b[1;32mis\u001b[0m \u001b[1;32mNone\u001b[0m\u001b[1;33m:\u001b[0m\u001b[1;33m\u001b[0m\u001b[0m\n",
      "\u001b[1;32mC:\\Users\\Egor\\Dropbox\\GitHub\\aind\\aind-isolation\\neural.py\u001b[0m in \u001b[0;36mgrad\u001b[1;34m(self, type, mask)\u001b[0m\n\u001b[0;32m    184\u001b[0m         \u001b[1;32melse\u001b[0m\u001b[1;33m:\u001b[0m\u001b[1;33m\u001b[0m\u001b[0m\n\u001b[0;32m    185\u001b[0m             \u001b[0mmy_mask\u001b[0m \u001b[1;33m=\u001b[0m \u001b[0mmask\u001b[0m\u001b[1;33m\u001b[0m\u001b[0m\n\u001b[1;32m--> 186\u001b[1;33m         \u001b[1;32mreturn\u001b[0m \u001b[0mmove_convolution_grad\u001b[0m\u001b[1;33m(\u001b[0m\u001b[0mself\u001b[0m\u001b[1;33m.\u001b[0m\u001b[0minput_vec\u001b[0m\u001b[1;33m,\u001b[0m \u001b[0mself\u001b[0m\u001b[1;33m.\u001b[0m\u001b[0mcoeff\u001b[0m\u001b[1;33m,\u001b[0m \u001b[0mself\u001b[0m\u001b[1;33m.\u001b[0m\u001b[0mjoint_indices\u001b[0m\u001b[1;33m,\u001b[0m \u001b[0mtype\u001b[0m\u001b[1;33m,\u001b[0m \u001b[0mmy_mask\u001b[0m\u001b[1;33m)\u001b[0m\u001b[1;33m\u001b[0m\u001b[0m\n\u001b[0m\u001b[0;32m    187\u001b[0m \u001b[1;33m\u001b[0m\u001b[0m\n\u001b[0;32m    188\u001b[0m \u001b[1;32mclass\u001b[0m \u001b[0mConvolutionStage\u001b[0m\u001b[1;33m:\u001b[0m\u001b[1;33m\u001b[0m\u001b[0m\n",
      "\u001b[1;32mC:\\Users\\Egor\\Dropbox\\GitHub\\aind\\aind-isolation\\neural.py\u001b[0m in \u001b[0;36mmove_convolution_grad\u001b[1;34m(move_vec, coeff_vec, joint_indices, type, mask, result_grad)\u001b[0m\n\u001b[0;32m    148\u001b[0m     \u001b[1;32melif\u001b[0m \u001b[0mtype\u001b[0m \u001b[1;33m==\u001b[0m \u001b[1;34m'x'\u001b[0m\u001b[1;33m:\u001b[0m\u001b[1;33m\u001b[0m\u001b[0m\n\u001b[0;32m    149\u001b[0m         \u001b[1;32mif\u001b[0m \u001b[0mresult_grad\u001b[0m \u001b[1;32mis\u001b[0m \u001b[1;32mNone\u001b[0m\u001b[1;33m:\u001b[0m\u001b[1;33m\u001b[0m\u001b[0m\n\u001b[1;32m--> 150\u001b[1;33m             \u001b[0mresult_grad\u001b[0m \u001b[1;33m=\u001b[0m \u001b[0mnp\u001b[0m\u001b[1;33m.\u001b[0m\u001b[0mzeros\u001b[0m\u001b[1;33m(\u001b[0m\u001b[1;33m[\u001b[0m\u001b[0mlen\u001b[0m\u001b[1;33m(\u001b[0m\u001b[0mmove_vec\u001b[0m\u001b[1;33m)\u001b[0m\u001b[1;33m,\u001b[0m \u001b[0mlen\u001b[0m\u001b[1;33m(\u001b[0m\u001b[0mmove_vec\u001b[0m\u001b[1;33m)\u001b[0m\u001b[1;33m]\u001b[0m\u001b[1;33m)\u001b[0m\u001b[1;33m\u001b[0m\u001b[0m\n\u001b[0m\u001b[0;32m    151\u001b[0m \u001b[1;33m\u001b[0m\u001b[0m\n\u001b[0;32m    152\u001b[0m         \u001b[1;32mfor\u001b[0m \u001b[0mindex\u001b[0m\u001b[1;33m,\u001b[0m \u001b[0mindlist\u001b[0m \u001b[1;32min\u001b[0m \u001b[0mjoint_indices\u001b[0m\u001b[1;33m.\u001b[0m\u001b[0mitems\u001b[0m\u001b[1;33m(\u001b[0m\u001b[1;33m)\u001b[0m\u001b[1;33m:\u001b[0m\u001b[1;33m\u001b[0m\u001b[0m\n",
      "\u001b[1;31mKeyboardInterrupt\u001b[0m: "
     ]
    }
   ],
   "source": [
    "import pickle\n",
    "target = np.ones(49)\n",
    "inp = target.copy()\n",
    "nn = ConvolutionNetwork([1,3,1])\n",
    "coeff = np.random.normal(size=nn.coeff_len)\n",
    "\n",
    "n=0\n",
    "while n*53 < len(coeff):\n",
    "    coeff[(n*53):(n*53+10)] = 0\n",
    "    n += 1\n",
    "    \n",
    "nn.set_coeff(coeff)\n",
    "\n",
    "n=0\n",
    "while True:\n",
    "    diff = target - nn(inp)\n",
    "    #square_print(nn(inp))\n",
    "    #print(np.linalg.norm(diff))\n",
    "    gr = nn.grad()\n",
    "    gr = gr /(1 + np.linalg.norm(gr))\n",
    "    coeff = nn.get_coeff() + gr.dot(diff)*0.1\n",
    "    nn.set_coeff(coeff)\n",
    "    n+=1\n",
    "    if n%100 == 0 and n>0:\n",
    "        print(np.linalg.norm(diff))\n",
    "        with open('silly.pickle', 'wb') as handle:\n",
    "            pickle.dump(nn, handle)\n",
    "\n"
   ]
  },
  {
   "cell_type": "code",
   "execution_count": null,
   "metadata": {
    "collapsed": false
   },
   "outputs": [],
   "source": [
    "print(nn.output_vector, target, nn(inp))"
   ]
  },
  {
   "cell_type": "code",
   "execution_count": null,
   "metadata": {
    "collapsed": false
   },
   "outputs": [],
   "source": [
    "a = generate_all_moves_by_index()[8]\n",
    "tmp = np.zeros(49)\n",
    "tmp[a] = 1\n",
    "tmp[8] = -1\n",
    "square_print(tmp)"
   ]
  },
  {
   "cell_type": "code",
   "execution_count": null,
   "metadata": {
    "collapsed": false
   },
   "outputs": [],
   "source": [
    "joint_ind, n = move_convolution_indices()\n",
    "print(joint_ind[3],generate_all_moves_by_index()[3])"
   ]
  },
  {
   "cell_type": "code",
   "execution_count": null,
   "metadata": {
    "collapsed": false
   },
   "outputs": [],
   "source": [
    "if 0:\n",
    "    print('ok')"
   ]
  }
 ],
 "metadata": {
  "kernelspec": {
   "display_name": "Python 3",
   "language": "python",
   "name": "python3"
  },
  "language_info": {
   "codemirror_mode": {
    "name": "ipython",
    "version": 3
   },
   "file_extension": ".py",
   "mimetype": "text/x-python",
   "name": "python",
   "nbconvert_exporter": "python",
   "pygments_lexer": "ipython3",
   "version": "3.6.0"
  }
 },
 "nbformat": 4,
 "nbformat_minor": 2
}
