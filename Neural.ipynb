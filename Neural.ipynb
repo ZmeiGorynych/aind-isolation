{
 "cells": [
  {
   "cell_type": "code",
   "execution_count": 1,
   "metadata": {
    "collapsed": false
   },
   "outputs": [
    {
     "name": "stdout",
     "output_type": "stream",
     "text": [
      "1 797\n"
     ]
    }
   ],
   "source": [
    "from neural import *\n",
    "import copy"
   ]
  },
  {
   "cell_type": "code",
   "execution_count": 2,
   "metadata": {
    "collapsed": false
   },
   "outputs": [],
   "source": [
    "#%%timeit\n",
    "\n",
    "def grad_(nn):\n",
    "    nn2 = copy.deepcopy(nn)\n",
    "    val = nn.output_vector\n",
    "    dx = 0.01\n",
    "    grad_ = np.zeros([nn.coeff_len,nn.output_len])\n",
    "    coeff = nn2.get_coeff()\n",
    "    for i in range(len(coeff)):\n",
    "        tmp = coeff[i]\n",
    "        coeff[i]= coeff[i] + dx\n",
    "        nn2.set_coeff(coeff)\n",
    "        newval = nn2(inp)\n",
    "        grad_[i,:] = copy.copy(-(val - newval)/dx)\n",
    "        coeff[i] = tmp\n",
    "    return grad_\n",
    "\n",
    "\n"
   ]
  },
  {
   "cell_type": "code",
   "execution_count": 3,
   "metadata": {
    "collapsed": false
   },
   "outputs": [
    {
     "name": "stdout",
     "output_type": "stream",
     "text": [
      "53 53\n",
      "(53, 49)\n",
      "21.7715410571 4.64088310332e-13\n"
     ]
    }
   ],
   "source": [
    "\n",
    "nn = ConvolutionNetwork([1, 1], relu=False)\n",
    "print(nn.coeff_len, nn.stages[0].units[0][0].coeff_len)\n",
    "coeff = np.ones(nn.coeff_len)#+ 0.01*np.random.normal(size=nn.coeff_len)\n",
    "inp = np.ones(nn.input_len)\n",
    "nn.set_coeff(coeff)\n",
    "nn(inp)\n",
    "nn.grad()\n",
    "print(nn.grad().shape)\n",
    "#timeit \n",
    "g = grad_(nn)\n",
    "g2 = nn.grad()\n",
    "#print(g2)\n",
    "delta = g-g2\n",
    "#square_print((10*delta).astype(int))\n",
    "print(np.linalg.norm(g),np.linalg.norm(g-g2) )\n",
    "#square_print((g - g2).astype(int))\n",
    "\n",
    "#square_print((nn.grad() - g).astype(int))\n",
    "#print((10*delta).sum(0))\n",
    "if False:\n",
    "    n=0\n",
    "    while n*53 <len(coeff):\n",
    "        coeff[(n*53):(n*53+10)] = 0 # offsets\n",
    "        n += 1\n",
    "    try:\n",
    "        pass\n",
    "        #coeff[53:63] =0\n",
    "    except:\n",
    "        pass\n",
    "    #coeff[:] = 1 # self\n",
    "    #coeff = np.vectorize(abs)(10*np.random.normal(size=nn.coeff_len)).astype(int)\n",
    "    inp = np.zeros(nn.input_len)\n",
    "    inp[25] = 1\n",
    "    #mask = np.ones(49)\n",
    "    #mask[0:21] = 0\n",
    "    #inp = inp*mask\n",
    "    nn.set_coeff(coeff)\n",
    "    val = copy.copy(nn(inp))\n",
    "    square_print(val)\n",
    "    coeff[20] += 20\n",
    "    print(coeff)\n",
    "    nn.set_coeff(coeff)\n",
    "    square_print(nn(inp) - val)\n"
   ]
  },
  {
   "cell_type": "code",
   "execution_count": 4,
   "metadata": {
    "collapsed": false
   },
   "outputs": [
    {
     "name": "stdout",
     "output_type": "stream",
     "text": [
      "10 loops, best of 3: 38.9 ms per loop\n"
     ]
    },
    {
     "data": {
      "text/plain": [
       "11024"
      ]
     },
     "execution_count": 4,
     "metadata": {},
     "output_type": "execute_result"
    }
   ],
   "source": [
    "nn = ConvolutionNetwork([1,8,8,8,8,1])\n",
    "nn.set_coeff(np.ones(nn.coeff_len))\n",
    "%timeit(nn(np.ones(nn.output_len)))\n",
    "nn.coeff_len"
   ]
  },
  {
   "cell_type": "code",
   "execution_count": 6,
   "metadata": {
    "collapsed": false
   },
   "outputs": [
    {
     "name": "stdout",
     "output_type": "stream",
     "text": [
      "0 795\n",
      "(795, 2)\n"
     ]
    },
    {
     "ename": "ValueError",
     "evalue": "could not broadcast input array from shape (2) into shape (0)",
     "output_type": "error",
     "traceback": [
      "\u001b[1;31m---------------------------------------------------------------------------\u001b[0m",
      "\u001b[1;31mValueError\u001b[0m                                Traceback (most recent call last)",
      "\u001b[1;32m<ipython-input-6-288593029fcc>\u001b[0m in \u001b[0;36m<module>\u001b[1;34m()\u001b[0m\n\u001b[0;32m      5\u001b[0m \u001b[0mprint\u001b[0m\u001b[1;33m(\u001b[0m\u001b[0mval\u001b[0m\u001b[1;33m.\u001b[0m\u001b[0mnn\u001b[0m\u001b[1;33m.\u001b[0m\u001b[0moutput_len\u001b[0m\u001b[1;33m,\u001b[0m \u001b[0mval\u001b[0m\u001b[1;33m.\u001b[0m\u001b[0mnn\u001b[0m\u001b[1;33m.\u001b[0m\u001b[0mcoeff_len\u001b[0m\u001b[1;33m)\u001b[0m\u001b[1;33m\u001b[0m\u001b[0m\n\u001b[0;32m      6\u001b[0m \u001b[0mprint\u001b[0m\u001b[1;33m(\u001b[0m\u001b[0mval\u001b[0m\u001b[1;33m.\u001b[0m\u001b[0mnn\u001b[0m\u001b[1;33m.\u001b[0m\u001b[0mgrad\u001b[0m\u001b[1;33m(\u001b[0m\u001b[1;33m)\u001b[0m\u001b[1;33m.\u001b[0m\u001b[0mshape\u001b[0m\u001b[1;33m)\u001b[0m\u001b[1;33m\u001b[0m\u001b[0m\n\u001b[1;32m----> 7\u001b[1;33m \u001b[0mdelta\u001b[0m \u001b[1;33m=\u001b[0m \u001b[0mgrad_\u001b[0m\u001b[1;33m(\u001b[0m\u001b[0mval\u001b[0m\u001b[1;33m.\u001b[0m\u001b[0mnn\u001b[0m\u001b[1;33m)\u001b[0m \u001b[1;33m-\u001b[0m\u001b[0mval\u001b[0m\u001b[1;33m.\u001b[0m\u001b[0mnn\u001b[0m\u001b[1;33m.\u001b[0m\u001b[0mgrad\u001b[0m\u001b[1;33m(\u001b[0m\u001b[1;33m)\u001b[0m\u001b[1;33m\u001b[0m\u001b[0m\n\u001b[0m\u001b[0;32m      8\u001b[0m \u001b[0mprint\u001b[0m\u001b[1;33m(\u001b[0m\u001b[0mdelta\u001b[0m\u001b[1;33m.\u001b[0m\u001b[0mmax\u001b[0m\u001b[1;33m(\u001b[0m\u001b[1;33m)\u001b[0m\u001b[1;33m,\u001b[0m \u001b[0mdelta\u001b[0m\u001b[1;33m.\u001b[0m\u001b[0mmin\u001b[0m\u001b[1;33m(\u001b[0m\u001b[1;33m)\u001b[0m\u001b[1;33m)\u001b[0m\u001b[1;33m\u001b[0m\u001b[0m\n",
      "\u001b[1;32m<ipython-input-2-247bbfc16127>\u001b[0m in \u001b[0;36mgrad_\u001b[1;34m(nn)\u001b[0m\n\u001b[0;32m     12\u001b[0m         \u001b[0mnn2\u001b[0m\u001b[1;33m.\u001b[0m\u001b[0mset_coeff\u001b[0m\u001b[1;33m(\u001b[0m\u001b[0mcoeff\u001b[0m\u001b[1;33m)\u001b[0m\u001b[1;33m\u001b[0m\u001b[0m\n\u001b[0;32m     13\u001b[0m         \u001b[0mnewval\u001b[0m \u001b[1;33m=\u001b[0m \u001b[0mnn2\u001b[0m\u001b[1;33m(\u001b[0m\u001b[0minp\u001b[0m\u001b[1;33m)\u001b[0m\u001b[1;33m\u001b[0m\u001b[0m\n\u001b[1;32m---> 14\u001b[1;33m         \u001b[0mgrad_\u001b[0m\u001b[1;33m[\u001b[0m\u001b[0mi\u001b[0m\u001b[1;33m,\u001b[0m\u001b[1;33m:\u001b[0m\u001b[1;33m]\u001b[0m \u001b[1;33m=\u001b[0m \u001b[0mcopy\u001b[0m\u001b[1;33m.\u001b[0m\u001b[0mcopy\u001b[0m\u001b[1;33m(\u001b[0m\u001b[1;33m-\u001b[0m\u001b[1;33m(\u001b[0m\u001b[0mval\u001b[0m \u001b[1;33m-\u001b[0m \u001b[0mnewval\u001b[0m\u001b[1;33m)\u001b[0m\u001b[1;33m/\u001b[0m\u001b[0mdx\u001b[0m\u001b[1;33m)\u001b[0m\u001b[1;33m\u001b[0m\u001b[0m\n\u001b[0m\u001b[0;32m     15\u001b[0m         \u001b[0mcoeff\u001b[0m\u001b[1;33m[\u001b[0m\u001b[0mi\u001b[0m\u001b[1;33m]\u001b[0m \u001b[1;33m=\u001b[0m \u001b[0mtmp\u001b[0m\u001b[1;33m\u001b[0m\u001b[0m\n\u001b[0;32m     16\u001b[0m     \u001b[1;32mreturn\u001b[0m \u001b[0mgrad_\u001b[0m\u001b[1;33m\u001b[0m\u001b[0m\n",
      "\u001b[1;31mValueError\u001b[0m: could not broadcast input array from shape (2) into shape (0)"
     ]
    }
   ],
   "source": [
    "val = SelectionValueFunction([1, 3, 3])\n",
    "val.set_coeff(np.ones(val.coeff_len))\n",
    "val.nn.stages[-1].set_indices([23, 45])\n",
    "val.nn(np.ones(49), np.ones(49))\n",
    "print(val.nn.output_len, val.nn.coeff_len)\n",
    "print(val.nn.grad().shape)\n",
    "delta = grad_(val.nn) -val.nn.grad()\n",
    "print(delta.max(), delta.min())"
   ]
  },
  {
   "cell_type": "code",
   "execution_count": null,
   "metadata": {
    "collapsed": false,
    "deletable": true,
    "editable": true
   },
   "outputs": [],
   "source": [
    "val = NNValueFunction([1, 3, 3])\n",
    "val.set_coeff(np.ones(val.coeff_len))\n",
    "val.nn.stages[-1].set_loc(23, 45)\n",
    "val.nn(np.ones(49), np.ones(49))\n",
    "print(val.nn.output_len, val.nn.coeff_len)\n",
    "val.nn.grad().shape\n",
    "delta = grad_(val.nn) -val.nn.grad()\n",
    "print(delta.max(), delta.min())"
   ]
  },
  {
   "cell_type": "code",
   "execution_count": null,
   "metadata": {
    "collapsed": false
   },
   "outputs": [],
   "source": [
    "import pickle\n",
    "target = np.ones(49)\n",
    "inp = target.copy()\n",
    "nn = ConvolutionNetwork([1,3,1])\n",
    "coeff = np.random.normal(size=nn.coeff_len)\n",
    "\n",
    "n=0\n",
    "while n*53 < len(coeff):\n",
    "    coeff[(n*53):(n*53+10)] = 0\n",
    "    n += 1\n",
    "    \n",
    "nn.set_coeff(coeff)\n",
    "\n",
    "n=0\n",
    "while True:\n",
    "    diff = target - nn(inp)\n",
    "    #square_print(nn(inp))\n",
    "    #print(np.linalg.norm(diff))\n",
    "    gr = nn.grad()\n",
    "    gr = gr /(1 + np.linalg.norm(gr))\n",
    "    coeff = nn.get_coeff() + gr.dot(diff)*0.1\n",
    "    nn.set_coeff(coeff)\n",
    "    n+=1\n",
    "    if n%100 == 0 and n>0:\n",
    "        print(np.linalg.norm(diff))\n",
    "        with open('silly.pickle', 'wb') as handle:\n",
    "            pickle.dump(nn, handle)\n",
    "\n"
   ]
  },
  {
   "cell_type": "code",
   "execution_count": null,
   "metadata": {
    "collapsed": false
   },
   "outputs": [],
   "source": [
    "print(nn.output_vector, target, nn(inp))"
   ]
  },
  {
   "cell_type": "code",
   "execution_count": null,
   "metadata": {
    "collapsed": false
   },
   "outputs": [],
   "source": [
    "a = generate_all_moves_by_index()[8]\n",
    "tmp = np.zeros(49)\n",
    "tmp[a] = 1\n",
    "tmp[8] = -1\n",
    "square_print(tmp)"
   ]
  },
  {
   "cell_type": "code",
   "execution_count": null,
   "metadata": {
    "collapsed": false
   },
   "outputs": [],
   "source": [
    "joint_ind, n = move_convolution_indices()\n",
    "print(joint_ind[3],generate_all_moves_by_index()[3])"
   ]
  },
  {
   "cell_type": "code",
   "execution_count": null,
   "metadata": {
    "collapsed": false
   },
   "outputs": [],
   "source": [
    "if 0:\n",
    "    print('ok')"
   ]
  }
 ],
 "metadata": {
  "kernelspec": {
   "display_name": "Python 3",
   "language": "python",
   "name": "python3"
  },
  "language_info": {
   "codemirror_mode": {
    "name": "ipython",
    "version": 3
   },
   "file_extension": ".py",
   "mimetype": "text/x-python",
   "name": "python",
   "nbconvert_exporter": "python",
   "pygments_lexer": "ipython3",
   "version": "3.6.0"
  }
 },
 "nbformat": 4,
 "nbformat_minor": 2
}
