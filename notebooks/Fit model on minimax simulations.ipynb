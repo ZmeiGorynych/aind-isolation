{
 "cells": [
  {
   "cell_type": "code",
   "execution_count": 1,
   "metadata": {
    "collapsed": true
   },
   "outputs": [],
   "source": [
    "# generate the symmetry-corrected indices for move-based convolution\n",
    "import sys\n",
    "import numpy as np\n",
    "sys.path.append('..')"
   ]
  },
  {
   "cell_type": "code",
   "execution_count": 2,
   "metadata": {
    "collapsed": true
   },
   "outputs": [],
   "source": [
    "# test the coefficient generation logic the naive way\n",
    "cell = 4"
   ]
  },
  {
   "cell_type": "code",
   "execution_count": 3,
   "metadata": {},
   "outputs": [
    {
     "name": "stdout",
     "output_type": "stream",
     "text": [
      "(1, 1)\n",
      "[[ 0.  0.  0.  8.]\n",
      " [ 0.  3.  0.  0.]\n",
      " [ 0.  0.  0.  9.]\n",
      " [ 8.  0.  9.  0.]]\n"
     ]
    }
   ],
   "source": [
    "# display-only code, to visually check the coeffs are in the correct locations on the board\n",
    "from neural.neural_ import to_pair, generate_all_moves_by_index, move_convolution_indices\n",
    "from constants import BOARD_SIZE, BOARD_WIDTH, NUM_BIASES\n",
    "from math import floor\n",
    "\n",
    "all_inds, num_coeffs = move_convolution_indices()\n",
    "\n",
    "\n",
    "num_coeffs -= NUM_BIASES # the first 10 in the above function are biases, don't need them\n",
    "num_fields = BOARD_SIZE\n",
    "\n",
    "cell = cell+1\n",
    "tmp = all_inds[cell]\n",
    "a = np.zeros([BOARD_WIDTH,BOARD_WIDTH])\n",
    "for (ind, coeff) in tmp[1:]:\n",
    "    pair = to_pair(ind)\n",
    "    a[pair[0],pair[1]] = coeff - NUM_BIASES + 1\n",
    "\n",
    "print(to_pair(cell))\n",
    "print(a)"
   ]
  },
  {
   "cell_type": "code",
   "execution_count": 4,
   "metadata": {},
   "outputs": [
    {
     "name": "stdout",
     "output_type": "stream",
     "text": [
      "[2 3 2]\n",
      "[[[ 0.03371709  0.        ]\n",
      "  [ 0.55621392 -0.        ]\n",
      "  [-0.11715828  0.        ]]\n",
      "\n",
      " [[-0.36922401 -0.66139394]\n",
      "  [ 1.93253136  0.54527533]\n",
      "  [-1.76095617 -0.54405111]]]\n"
     ]
    }
   ],
   "source": [
    "# try calling conv_stack directly from Tensorflow\n",
    "import numpy as np\n",
    "import tensorflow as tf\n",
    "\n",
    "tf.reset_default_graph()\n",
    "\n",
    "from neural.tensorflow_utils import conv_stack\n",
    "\n",
    "with tf.Session() as sess:\n",
    "    in_fields_np = np.ones([2,num_fields])\n",
    "    in_fields_np[0,3] = 0\n",
    "    in_fields_np[0,5] = 0\n",
    "    my_pos = np.array([12, 12])\n",
    "    other_pos =  np.array([5,5])\n",
    "    inputs_np = np.concatenate([in_fields_np, my_pos[:,None], other_pos[:,None]],\n",
    "                              1)\n",
    "    #print(inputs_np.shape)\n",
    "    inputs =tf.constant(inputs_np)# tf.placeholder(shape =[None, num_fields+2], dtype = tf.float32) #\n",
    "    #print(sess.run(inputs))\n",
    "    out = conv_stack(inputs, 5,sess)\n",
    "    \n",
    "    dummy = np.array([50,50])[:,None]\n",
    "    #print(sess.run(get_random_index(inputs, tf.constant(dummy))))\n",
    "    \n",
    "    sess.run(tf.global_variables_initializer())\n",
    "    stack_result = sess.run(out)#, feed_dict={inputs:inputs_np})\n",
    "    print(stack_result)"
   ]
  },
  {
   "cell_type": "code",
   "execution_count": 5,
   "metadata": {},
   "outputs": [
    {
     "name": "stdout",
     "output_type": "stream",
     "text": [
      "12924\n"
     ]
    }
   ],
   "source": [
    "# load game simulation data\n",
    "import glob\n",
    "import sys\n",
    "import pickle\n",
    "from data_utils import load_simulation_data\n",
    "\n",
    "fn = '../data/states.pickle'\n",
    "if True:\n",
    "# try:\n",
    "#     with open(fn, 'rb') as f:\n",
    "#         states = pickle.load(f)\n",
    "# except:\n",
    "    files = glob.glob('../data/4x4tiny.pickle')\n",
    "    #files = glob.glob('../data/epsgreedy/*')\n",
    "    #files = glob.glob('../data/ID_x2_1000ms/result_ID*.pickle')\n",
    "    #print(files)\n",
    "    depths =load_simulation_data(files)\n",
    "    keys = list(depths.keys())\n",
    "    #print(keys)\n",
    "    games = depths[keys[0]]\n",
    "    #print(games[0])\n",
    "    states = [state for game in games for state in game if 'score' in state] \n",
    "    print(len(states))\n",
    "    with open(fn, 'wb') as f:\n",
    "        pickle.dump(states,f)"
   ]
  },
  {
   "cell_type": "code",
   "execution_count": 6,
   "metadata": {},
   "outputs": [
    {
     "name": "stdout",
     "output_type": "stream",
     "text": [
      "(12924, 16, 1) (12924, 16, 2) (12924, 1)\n"
     ]
    }
   ],
   "source": [
    "from data_utils import prepare_data_for_model\n",
    "board_full, player_pos,legal_moves,next_move,y = prepare_data_for_model(states,'simple_score')\n",
    "print(board_full.shape, player_pos.shape, y.shape)\n",
    "y[y ==float('-inf')] = 0\n",
    "y[y ==float('inf')] = 0"
   ]
  },
  {
   "cell_type": "code",
   "execution_count": 19,
   "metadata": {},
   "outputs": [
    {
     "name": "stdout",
     "output_type": "stream",
     "text": [
      "____________________________________________________________________________________________________\n",
      "Layer (type)                     Output Shape          Param #     Connected to                     \n",
      "====================================================================================================\n",
      "input_10 (InputLayer)            (None, 16, 1)         0                                            \n",
      "____________________________________________________________________________________________________\n",
      "input_9 (InputLayer)             (None, 16, 2)         0                                            \n",
      "____________________________________________________________________________________________________\n",
      "concatenate_5 (Concatenate)      (None, 16, 3)         0           input_10[0][0]                   \n",
      "                                                                   input_9[0][0]                    \n",
      "____________________________________________________________________________________________________\n",
      "conv1d_3 (Conv1D)                (None, 16, 8)         32          concatenate_5[0][0]              \n",
      "____________________________________________________________________________________________________\n",
      "batch_normalization_25 (BatchNor (None, 16, 8)         32          conv1d_3[0][0]                   \n",
      "____________________________________________________________________________________________________\n",
      "activation_31 (Activation)       (None, 16, 8)         0           batch_normalization_25[0][0]     \n",
      "____________________________________________________________________________________________________\n",
      "conv_by_move_layer_25 (ConvByMov (None, 16, 8)         600         activation_31[0][0]              \n",
      "____________________________________________________________________________________________________\n",
      "batch_normalization_26 (BatchNor (None, 16, 8)         32          conv_by_move_layer_25[0][0]      \n",
      "____________________________________________________________________________________________________\n",
      "activation_32 (Activation)       (None, 16, 8)         0           batch_normalization_26[0][0]     \n",
      "____________________________________________________________________________________________________\n",
      "conv_by_move_layer_26 (ConvByMov (None, 16, 8)         600         activation_32[0][0]              \n",
      "____________________________________________________________________________________________________\n",
      "dropout_13 (Dropout)             (None, 16, 8)         0           conv_by_move_layer_26[0][0]      \n",
      "____________________________________________________________________________________________________\n",
      "add_13 (Add)                     (None, 16, 8)         0           conv1d_3[0][0]                   \n",
      "                                                                   dropout_13[0][0]                 \n",
      "____________________________________________________________________________________________________\n",
      "batch_normalization_27 (BatchNor (None, 16, 8)         32          add_13[0][0]                     \n",
      "____________________________________________________________________________________________________\n",
      "activation_33 (Activation)       (None, 16, 8)         0           batch_normalization_27[0][0]     \n",
      "____________________________________________________________________________________________________\n",
      "conv_by_move_layer_27 (ConvByMov (None, 16, 8)         600         activation_33[0][0]              \n",
      "____________________________________________________________________________________________________\n",
      "batch_normalization_28 (BatchNor (None, 16, 8)         32          conv_by_move_layer_27[0][0]      \n",
      "____________________________________________________________________________________________________\n",
      "activation_34 (Activation)       (None, 16, 8)         0           batch_normalization_28[0][0]     \n",
      "____________________________________________________________________________________________________\n",
      "conv_by_move_layer_28 (ConvByMov (None, 16, 8)         600         activation_34[0][0]              \n",
      "____________________________________________________________________________________________________\n",
      "dropout_14 (Dropout)             (None, 16, 8)         0           conv_by_move_layer_28[0][0]      \n",
      "____________________________________________________________________________________________________\n",
      "add_14 (Add)                     (None, 16, 8)         0           add_13[0][0]                     \n",
      "                                                                   dropout_14[0][0]                 \n",
      "____________________________________________________________________________________________________\n",
      "activation_35 (Activation)       (None, 16, 8)         0           add_14[0][0]                     \n",
      "____________________________________________________________________________________________________\n",
      "input_11 (InputLayer)            (None, 16, 1)         0                                            \n",
      "____________________________________________________________________________________________________\n",
      "concatenate_6 (Concatenate)      (None, 16, 11)        0           activation_35[0][0]              \n",
      "                                                                   input_9[0][0]                    \n",
      "                                                                   input_11[0][0]                   \n",
      "____________________________________________________________________________________________________\n",
      "flatten_3 (Flatten)              (None, 176)           0           concatenate_6[0][0]              \n",
      "____________________________________________________________________________________________________\n",
      "dense_5 (Dense)                  (None, 48)            8496        flatten_3[0][0]                  \n",
      "____________________________________________________________________________________________________\n",
      "dense_6 (Dense)                  (None, 16)            784         dense_5[0][0]                    \n",
      "____________________________________________________________________________________________________\n",
      "reshape_3 (Reshape)              (None, 16, 1)         0           dense_6[0][0]                    \n",
      "____________________________________________________________________________________________________\n",
      "input_12 (InputLayer)            (None, 16, 1)         0                                            \n",
      "____________________________________________________________________________________________________\n",
      "multiply_6 (Multiply)            (None, 16, 1)         0           reshape_3[0][0]                  \n",
      "                                                                   input_12[0][0]                   \n",
      "____________________________________________________________________________________________________\n",
      "lambda_3 (Lambda)                (None, 1)             0           multiply_6[0][0]                 \n",
      "____________________________________________________________________________________________________\n",
      "activation_37 (Activation)       (None, 1)             0           lambda_3[0][0]                   \n",
      "====================================================================================================\n",
      "Total params: 11,840\n",
      "Trainable params: 11,776\n",
      "Non-trainable params: 64\n",
      "____________________________________________________________________________________________________\n"
     ]
    }
   ],
   "source": [
    "# fit the naive score as a first test of our network\n",
    "from neural.keras_utils import deep_model_fun\n",
    "model, Q_model = deep_model_fun(num_features = 8, num_res_modules = 2, drop_rate = 0.01, activation = 'linear')\n",
    "model.summary()\n",
    "model.compile(optimizer = 'adam',  loss='mean_squared_error')"
   ]
  },
  {
   "cell_type": "code",
   "execution_count": null,
   "metadata": {},
   "outputs": [
    {
     "name": "stdout",
     "output_type": "stream",
     "text": [
      "Epoch 1/10\n",
      " 6272/12924 [=============>................] - ETA: 3s - loss: 12.0246"
     ]
    }
   ],
   "source": [
    "model.fit(x = [board_full, player_pos,legal_moves,next_move],y = y, batch_size = 64, epochs=10, verbose =1)\n",
    "#Q_model.predict( [board_full, player_pos,legal_moves])[0]"
   ]
  },
  {
   "cell_type": "code",
   "execution_count": 9,
   "metadata": {},
   "outputs": [
    {
     "data": {
      "text/plain": [
       "{'G': 0.9431924358580646,\n",
       " 'active_player': None,\n",
       " 'allscores': None,\n",
       " 'depth': 10,\n",
       " 'game': array([ 1.,  1.,  1.,  1.,  1.,  1.,  1.,  1.,  1.,  1.,  1.,  1.,  1.,\n",
       "         1.,  0.,  0.]),\n",
       " 'game_': None,\n",
       " 'move': 8,\n",
       " 'pos': (14, 15),\n",
       " 'score': -inf,\n",
       " 'simple_score': -5.0,\n",
       " 'winner': 1.0}"
      ]
     },
     "execution_count": 9,
     "metadata": {},
     "output_type": "execute_result"
    }
   ],
   "source": [
    "states[0]"
   ]
  },
  {
   "cell_type": "code",
   "execution_count": 10,
   "metadata": {},
   "outputs": [
    {
     "name": "stdout",
     "output_type": "stream",
     "text": [
      "[]\n"
     ]
    }
   ],
   "source": [
    "test = [s for s,state in enumerate(states) if 'score' not in state ]\n",
    "print(test)"
   ]
  },
  {
   "cell_type": "code",
   "execution_count": 11,
   "metadata": {},
   "outputs": [
    {
     "name": "stdout",
     "output_type": "stream",
     "text": [
      "12924\n"
     ]
    }
   ],
   "source": [
    "# Now let's get all those games where tree search actually completed\n",
    "import numpy as np\n",
    "from sklearn.preprocessing import OneHotEncoder\n",
    "complete_states = [state for state in states]# if state['score'] == float('inf') or state['score'] == float('-inf')]\n",
    "print(len(complete_states))\n",
    "board_full_c, player_pos_c,legal_moves_c,next_move_c, y_c = prepare_data_for_model(complete_states,'G')\n",
    "# y_c[y_c==float('inf')] = 1\n",
    "# y_c[y_c==float('-inf')] = 0"
   ]
  },
  {
   "cell_type": "code",
   "execution_count": 12,
   "metadata": {},
   "outputs": [
    {
     "name": "stdout",
     "output_type": "stream",
     "text": [
      "{0.94319243585806456, 0.95219103750440226, 0.98029800499999997, 0.97074007470049994, 0.96137234721396003, 0.99004999999999999, 0.043241376258179587, 0.033967326046505042, 0.024504975050000044, 0.014850499999999989, 0.061239488500516082, 0.93437290638448911, 0.052330872870641809, 0.069970822679355782}\n"
     ]
    }
   ],
   "source": [
    "print(set(list(np.reshape(y_c,[-1]))))"
   ]
  },
  {
   "cell_type": "code",
   "execution_count": 13,
   "metadata": {
    "scrolled": true
   },
   "outputs": [
    {
     "name": "stdout",
     "output_type": "stream",
     "text": [
      "____________________________________________________________________________________________________\n",
      "Layer (type)                     Output Shape          Param #     Connected to                     \n",
      "====================================================================================================\n",
      "input_6 (InputLayer)             (None, 16, 1)         0                                            \n",
      "____________________________________________________________________________________________________\n",
      "input_5 (InputLayer)             (None, 16, 2)         0                                            \n",
      "____________________________________________________________________________________________________\n",
      "concatenate_3 (Concatenate)      (None, 16, 3)         0           input_6[0][0]                    \n",
      "                                                                   input_5[0][0]                    \n",
      "____________________________________________________________________________________________________\n",
      "conv1d_2 (Conv1D)                (None, 16, 32)        128         concatenate_3[0][0]              \n",
      "____________________________________________________________________________________________________\n",
      "batch_normalization_9 (BatchNorm (None, 16, 32)        128         conv1d_2[0][0]                   \n",
      "____________________________________________________________________________________________________\n",
      "activation_12 (Activation)       (None, 16, 32)        0           batch_normalization_9[0][0]      \n",
      "____________________________________________________________________________________________________\n",
      "conv_by_move_layer_9 (ConvByMove (None, 16, 32)        9312        activation_12[0][0]              \n",
      "____________________________________________________________________________________________________\n",
      "batch_normalization_10 (BatchNor (None, 16, 32)        128         conv_by_move_layer_9[0][0]       \n",
      "____________________________________________________________________________________________________\n",
      "activation_13 (Activation)       (None, 16, 32)        0           batch_normalization_10[0][0]     \n",
      "____________________________________________________________________________________________________\n",
      "conv_by_move_layer_10 (ConvByMov (None, 16, 32)        9312        activation_13[0][0]              \n",
      "____________________________________________________________________________________________________\n",
      "dropout_5 (Dropout)              (None, 16, 32)        0           conv_by_move_layer_10[0][0]      \n",
      "____________________________________________________________________________________________________\n",
      "add_5 (Add)                      (None, 16, 32)        0           conv1d_2[0][0]                   \n",
      "                                                                   dropout_5[0][0]                  \n",
      "____________________________________________________________________________________________________\n",
      "batch_normalization_11 (BatchNor (None, 16, 32)        128         add_5[0][0]                      \n",
      "____________________________________________________________________________________________________\n",
      "activation_14 (Activation)       (None, 16, 32)        0           batch_normalization_11[0][0]     \n",
      "____________________________________________________________________________________________________\n",
      "conv_by_move_layer_11 (ConvByMov (None, 16, 32)        9312        activation_14[0][0]              \n",
      "____________________________________________________________________________________________________\n",
      "batch_normalization_12 (BatchNor (None, 16, 32)        128         conv_by_move_layer_11[0][0]      \n",
      "____________________________________________________________________________________________________\n",
      "activation_15 (Activation)       (None, 16, 32)        0           batch_normalization_12[0][0]     \n",
      "____________________________________________________________________________________________________\n",
      "conv_by_move_layer_12 (ConvByMov (None, 16, 32)        9312        activation_15[0][0]              \n",
      "____________________________________________________________________________________________________\n",
      "dropout_6 (Dropout)              (None, 16, 32)        0           conv_by_move_layer_12[0][0]      \n",
      "____________________________________________________________________________________________________\n",
      "add_6 (Add)                      (None, 16, 32)        0           add_5[0][0]                      \n",
      "                                                                   dropout_6[0][0]                  \n",
      "____________________________________________________________________________________________________\n",
      "batch_normalization_13 (BatchNor (None, 16, 32)        128         add_6[0][0]                      \n",
      "____________________________________________________________________________________________________\n",
      "activation_16 (Activation)       (None, 16, 32)        0           batch_normalization_13[0][0]     \n",
      "____________________________________________________________________________________________________\n",
      "conv_by_move_layer_13 (ConvByMov (None, 16, 32)        9312        activation_16[0][0]              \n",
      "____________________________________________________________________________________________________\n",
      "batch_normalization_14 (BatchNor (None, 16, 32)        128         conv_by_move_layer_13[0][0]      \n",
      "____________________________________________________________________________________________________\n",
      "activation_17 (Activation)       (None, 16, 32)        0           batch_normalization_14[0][0]     \n",
      "____________________________________________________________________________________________________\n",
      "conv_by_move_layer_14 (ConvByMov (None, 16, 32)        9312        activation_17[0][0]              \n",
      "____________________________________________________________________________________________________\n",
      "dropout_7 (Dropout)              (None, 16, 32)        0           conv_by_move_layer_14[0][0]      \n",
      "____________________________________________________________________________________________________\n",
      "add_7 (Add)                      (None, 16, 32)        0           add_6[0][0]                      \n",
      "                                                                   dropout_7[0][0]                  \n",
      "____________________________________________________________________________________________________\n",
      "batch_normalization_15 (BatchNor (None, 16, 32)        128         add_7[0][0]                      \n",
      "____________________________________________________________________________________________________\n",
      "activation_18 (Activation)       (None, 16, 32)        0           batch_normalization_15[0][0]     \n",
      "____________________________________________________________________________________________________\n",
      "conv_by_move_layer_15 (ConvByMov (None, 16, 32)        9312        activation_18[0][0]              \n",
      "____________________________________________________________________________________________________\n",
      "batch_normalization_16 (BatchNor (None, 16, 32)        128         conv_by_move_layer_15[0][0]      \n",
      "____________________________________________________________________________________________________\n",
      "activation_19 (Activation)       (None, 16, 32)        0           batch_normalization_16[0][0]     \n",
      "____________________________________________________________________________________________________\n",
      "conv_by_move_layer_16 (ConvByMov (None, 16, 32)        9312        activation_19[0][0]              \n",
      "____________________________________________________________________________________________________\n",
      "dropout_8 (Dropout)              (None, 16, 32)        0           conv_by_move_layer_16[0][0]      \n",
      "____________________________________________________________________________________________________\n",
      "add_8 (Add)                      (None, 16, 32)        0           add_7[0][0]                      \n",
      "                                                                   dropout_8[0][0]                  \n",
      "____________________________________________________________________________________________________\n",
      "batch_normalization_17 (BatchNor (None, 16, 32)        128         add_8[0][0]                      \n",
      "____________________________________________________________________________________________________\n",
      "activation_20 (Activation)       (None, 16, 32)        0           batch_normalization_17[0][0]     \n",
      "____________________________________________________________________________________________________\n",
      "conv_by_move_layer_17 (ConvByMov (None, 16, 32)        9312        activation_20[0][0]              \n",
      "____________________________________________________________________________________________________\n",
      "batch_normalization_18 (BatchNor (None, 16, 32)        128         conv_by_move_layer_17[0][0]      \n",
      "____________________________________________________________________________________________________\n",
      "activation_21 (Activation)       (None, 16, 32)        0           batch_normalization_18[0][0]     \n",
      "____________________________________________________________________________________________________\n",
      "conv_by_move_layer_18 (ConvByMov (None, 16, 32)        9312        activation_21[0][0]              \n",
      "____________________________________________________________________________________________________\n",
      "dropout_9 (Dropout)              (None, 16, 32)        0           conv_by_move_layer_18[0][0]      \n",
      "____________________________________________________________________________________________________\n",
      "add_9 (Add)                      (None, 16, 32)        0           add_8[0][0]                      \n",
      "                                                                   dropout_9[0][0]                  \n",
      "____________________________________________________________________________________________________\n",
      "batch_normalization_19 (BatchNor (None, 16, 32)        128         add_9[0][0]                      \n",
      "____________________________________________________________________________________________________\n",
      "activation_22 (Activation)       (None, 16, 32)        0           batch_normalization_19[0][0]     \n",
      "____________________________________________________________________________________________________\n",
      "conv_by_move_layer_19 (ConvByMov (None, 16, 32)        9312        activation_22[0][0]              \n",
      "____________________________________________________________________________________________________\n",
      "batch_normalization_20 (BatchNor (None, 16, 32)        128         conv_by_move_layer_19[0][0]      \n",
      "____________________________________________________________________________________________________\n",
      "activation_23 (Activation)       (None, 16, 32)        0           batch_normalization_20[0][0]     \n",
      "____________________________________________________________________________________________________\n",
      "conv_by_move_layer_20 (ConvByMov (None, 16, 32)        9312        activation_23[0][0]              \n",
      "____________________________________________________________________________________________________\n",
      "dropout_10 (Dropout)             (None, 16, 32)        0           conv_by_move_layer_20[0][0]      \n",
      "____________________________________________________________________________________________________\n",
      "add_10 (Add)                     (None, 16, 32)        0           add_9[0][0]                      \n",
      "                                                                   dropout_10[0][0]                 \n",
      "____________________________________________________________________________________________________\n",
      "batch_normalization_21 (BatchNor (None, 16, 32)        128         add_10[0][0]                     \n",
      "____________________________________________________________________________________________________\n",
      "activation_24 (Activation)       (None, 16, 32)        0           batch_normalization_21[0][0]     \n",
      "____________________________________________________________________________________________________\n",
      "conv_by_move_layer_21 (ConvByMov (None, 16, 32)        9312        activation_24[0][0]              \n",
      "____________________________________________________________________________________________________\n",
      "batch_normalization_22 (BatchNor (None, 16, 32)        128         conv_by_move_layer_21[0][0]      \n",
      "____________________________________________________________________________________________________\n",
      "activation_25 (Activation)       (None, 16, 32)        0           batch_normalization_22[0][0]     \n",
      "____________________________________________________________________________________________________\n",
      "conv_by_move_layer_22 (ConvByMov (None, 16, 32)        9312        activation_25[0][0]              \n",
      "____________________________________________________________________________________________________\n",
      "dropout_11 (Dropout)             (None, 16, 32)        0           conv_by_move_layer_22[0][0]      \n",
      "____________________________________________________________________________________________________\n",
      "add_11 (Add)                     (None, 16, 32)        0           add_10[0][0]                     \n",
      "                                                                   dropout_11[0][0]                 \n",
      "____________________________________________________________________________________________________\n",
      "batch_normalization_23 (BatchNor (None, 16, 32)        128         add_11[0][0]                     \n",
      "____________________________________________________________________________________________________\n",
      "activation_26 (Activation)       (None, 16, 32)        0           batch_normalization_23[0][0]     \n",
      "____________________________________________________________________________________________________\n",
      "conv_by_move_layer_23 (ConvByMov (None, 16, 32)        9312        activation_26[0][0]              \n",
      "____________________________________________________________________________________________________\n",
      "batch_normalization_24 (BatchNor (None, 16, 32)        128         conv_by_move_layer_23[0][0]      \n",
      "____________________________________________________________________________________________________\n",
      "activation_27 (Activation)       (None, 16, 32)        0           batch_normalization_24[0][0]     \n",
      "____________________________________________________________________________________________________\n",
      "conv_by_move_layer_24 (ConvByMov (None, 16, 32)        9312        activation_27[0][0]              \n",
      "____________________________________________________________________________________________________\n",
      "dropout_12 (Dropout)             (None, 16, 32)        0           conv_by_move_layer_24[0][0]      \n",
      "____________________________________________________________________________________________________\n",
      "add_12 (Add)                     (None, 16, 32)        0           add_11[0][0]                     \n",
      "                                                                   dropout_12[0][0]                 \n",
      "____________________________________________________________________________________________________\n",
      "activation_28 (Activation)       (None, 16, 32)        0           add_12[0][0]                     \n",
      "____________________________________________________________________________________________________\n",
      "input_7 (InputLayer)             (None, 16, 1)         0                                            \n",
      "____________________________________________________________________________________________________\n",
      "concatenate_4 (Concatenate)      (None, 16, 35)        0           activation_28[0][0]              \n",
      "                                                                   input_5[0][0]                    \n",
      "                                                                   input_7[0][0]                    \n",
      "____________________________________________________________________________________________________\n",
      "flatten_2 (Flatten)              (None, 560)           0           concatenate_4[0][0]              \n",
      "____________________________________________________________________________________________________\n",
      "dense_3 (Dense)                  (None, 48)            26928       flatten_2[0][0]                  \n",
      "____________________________________________________________________________________________________\n",
      "dense_4 (Dense)                  (None, 16)            784         dense_3[0][0]                    \n",
      "____________________________________________________________________________________________________\n",
      "reshape_2 (Reshape)              (None, 16, 1)         0           dense_4[0][0]                    \n",
      "____________________________________________________________________________________________________\n",
      "input_8 (InputLayer)             (None, 16, 1)         0                                            \n",
      "____________________________________________________________________________________________________\n",
      "multiply_4 (Multiply)            (None, 16, 1)         0           reshape_2[0][0]                  \n",
      "                                                                   input_8[0][0]                    \n",
      "____________________________________________________________________________________________________\n",
      "lambda_2 (Lambda)                (None, 1)             0           multiply_4[0][0]                 \n",
      "____________________________________________________________________________________________________\n",
      "activation_30 (Activation)       (None, 1)             0           lambda_2[0][0]                   \n",
      "====================================================================================================\n",
      "Total params: 178,880\n",
      "Trainable params: 177,856\n",
      "Non-trainable params: 1,024\n",
      "____________________________________________________________________________________________________\n"
     ]
    }
   ],
   "source": [
    "from neural.keras_utils import deep_model_fun\n",
    "# width AND depth matter! (32, 8 seem about optimal on this dataset)\n",
    "deep_model, deep_Q_model = deep_model_fun(num_features =32, num_res_modules = 8, drop_rate = 0.1, activation = 'sigmoid')\n",
    "deep_model.summary()\n",
    "#deep_model.compile(optimizer = 'adam',  loss='binary_crossentropy', metrics =['acc'])deep_model.compile(optimizer = 'adam',  loss='binary_crossentropy', metrics =['acc'])\n",
    "deep_model.compile(optimizer = 'adam',  loss='mean_squared_error', metrics =['acc'])"
   ]
  },
  {
   "cell_type": "code",
   "execution_count": 14,
   "metadata": {
    "scrolled": true
   },
   "outputs": [
    {
     "name": "stdout",
     "output_type": "stream",
     "text": [
      "Train on 10339 samples, validate on 2585 samples\n",
      "Epoch 1/10\n",
      "10339/10339 [==============================] - 14s - loss: 0.2199 - acc: 0.0000e+00 - val_loss: 0.2216 - val_acc: 0.0000e+00\n",
      "Epoch 2/10\n",
      "10339/10339 [==============================] - 7s - loss: 0.1626 - acc: 0.0000e+00 - val_loss: 0.2141 - val_acc: 0.0000e+00\n",
      "Epoch 3/10\n",
      "10339/10339 [==============================] - 7s - loss: 0.1459 - acc: 0.0000e+00 - val_loss: 0.2077 - val_acc: 0.0000e+00\n",
      "Epoch 4/10\n",
      "10339/10339 [==============================] - 7s - loss: 0.1369 - acc: 0.0000e+00 - val_loss: 0.1951 - val_acc: 0.0000e+00\n",
      "Epoch 5/10\n",
      "10339/10339 [==============================] - 7s - loss: 0.1325 - acc: 0.0000e+00 - val_loss: 0.1687 - val_acc: 0.0000e+00\n",
      "Epoch 6/10\n",
      "10339/10339 [==============================] - 8s - loss: 0.1267 - acc: 0.0000e+00 - val_loss: 0.1653 - val_acc: 0.0000e+00\n",
      "Epoch 7/10\n",
      "10339/10339 [==============================] - 8s - loss: 0.1192 - acc: 0.0000e+00 - val_loss: 0.1490 - val_acc: 0.0000e+00\n",
      "Epoch 8/10\n",
      "10339/10339 [==============================] - 8s - loss: 0.1174 - acc: 0.0000e+00 - val_loss: 0.1408 - val_acc: 0.0000e+00\n",
      "Epoch 9/10\n",
      "10339/10339 [==============================] - 8s - loss: 0.1128 - acc: 0.0000e+00 - val_loss: 0.1499 - val_acc: 0.0000e+00\n",
      "Epoch 10/10\n",
      "10339/10339 [==============================] - 7s - loss: 0.1074 - acc: 0.0000e+00 - val_loss: 0.1333 - val_acc: 0.0000e+00\n"
     ]
    },
    {
     "data": {
      "text/plain": [
       "<keras.callbacks.History at 0x21c106b9cf8>"
      ]
     },
     "execution_count": 14,
     "metadata": {},
     "output_type": "execute_result"
    }
   ],
   "source": [
    "deep_model.fit([board_full_c, player_pos_c,legal_moves_c,next_move_c], y_c, batch_size = 128, epochs=10, verbose =1, validation_split = 0.2, shuffle = True)"
   ]
  },
  {
   "cell_type": "code",
   "execution_count": 15,
   "metadata": {
    "scrolled": false
   },
   "outputs": [],
   "source": [
    "deep_Q_model.save_weights('../data/deep_Q_model_weights.h5')"
   ]
  },
  {
   "cell_type": "code",
   "execution_count": 16,
   "metadata": {},
   "outputs": [
    {
     "data": {
      "text/plain": [
       "(8, 0.88798106)"
      ]
     },
     "execution_count": 16,
     "metadata": {},
     "output_type": "execute_result"
    }
   ],
   "source": [
    "%load_ext autoreload\n",
    "%autoreload 2\n",
    "from collections import namedtuple\n",
    "from copy import copy\n",
    "from neural.neural_ import get_legal_moves\n",
    "from neural.neural_agent import apply_move, get_best_move_from_model\n",
    "from data_utils import prepare_data_for_model\n",
    "\n",
    "board = np.ones(BOARD_SIZE)\n",
    "#print(list(board))\n",
    "board.sum()\n",
    "my_pos = None\n",
    "other_pos = None\n",
    "game = {'pos': np.array([my_pos, other_pos]), 'game': board, 'move': 0}\n",
    "game1 = apply_move(game, 0)\n",
    "game2 = apply_move(game1, 1)\n",
    "game3 = apply_move(game2,get_legal_moves(game2)[0])\n",
    "# board, pos, _ = possible_moves_for_model(game3)\n",
    "# print(board.shape, pos.shape)\n",
    "get_best_move_from_model(game3, deep_Q_model)\n",
    "#deep_Q_model.summary()"
   ]
  },
  {
   "cell_type": "code",
   "execution_count": 17,
   "metadata": {},
   "outputs": [
    {
     "data": {
      "text/plain": [
       "((0, 2),\n",
       " {'game': array([ 0.,  0.,  1.,  1.,  1.,  1.,  1.,  1.,  1.,  0.,  1.,  1.,  1.,\n",
       "          1.,  1.,  1.]),\n",
       "  'move': 8,\n",
       "  'n_score': 0.88798106,\n",
       "  'pos': array([1, 9])})"
      ]
     },
     "execution_count": 17,
     "metadata": {},
     "output_type": "execute_result"
    }
   ],
   "source": [
    "from neural.neural_agent import NeuralAgent\n",
    "my_agent = NeuralAgent(deep_Q_model)\n",
    "my_agent.get_move(game3)\n"
   ]
  },
  {
   "cell_type": "code",
   "execution_count": 18,
   "metadata": {
    "scrolled": true
   },
   "outputs": [
    {
     "name": "stdout",
     "output_type": "stream",
     "text": [
      "\n",
      "This script evaluates the performance of the custom heuristic function by\n",
      "comparing the strength of an agent using iterative deepening (ID) search with\n",
      "alpha-beta pruning against the strength rating of agents using other heuristic\n",
      "functions.  The `ID_Improved` agent provides a baseline by measuring the\n",
      "performance of a basic agent using Iterative Deepening and the \"improved\"\n",
      "heuristic (from lecture) on your hardware.  The `Student` agent then measures\n",
      "the performance of Iterative Deepening and the custom heuristic against the\n",
      "same opponents.\n",
      "\n",
      "\n",
      "*************************\n",
      "Evaluating: Neural Agent \n",
      "*************************\n",
      "\n",
      "Playing Matches:\n",
      "----------\n",
      "  Match 1: Neural Agent vs   Random    \tResult: 33 to 7\n",
      "  Match 2: Neural Agent vs   MM_Null   \tResult: 26 to 14\n",
      "  Match 3: Neural Agent vs   MM_Open   \tResult: 19 to 21\n",
      "  Match 4: Neural Agent vs MM_Improved \tResult: 23 to 17\n",
      "  Match 5: Neural Agent vs   AB_Null   \tResult: 24 to 16\n",
      "  Match 6: Neural Agent vs   AB_Open   \tResult: 22 to 18\n",
      "  Match 7: Neural Agent vs AB_Improved \tResult: 21 to 19\n",
      "\n",
      "\n",
      "Results:\n",
      "----------\n",
      "Neural Agent        60.00%\n"
     ]
    }
   ],
   "source": [
    "from tournament import tournament, Agent, RandomPlayer\n",
    "from neural.neural_agent import NeuralAgent\n",
    "\n",
    "my_agent = NeuralAgent(deep_Q_model)\n",
    "tournament(num_matches=10, time_limit=float('inf'), \n",
    "           test_agents=[Agent(my_agent,\"Neural Agent\")])\n",
    "a=1"
   ]
  }
 ],
 "metadata": {
  "kernelspec": {
   "display_name": "Python [conda env:aind]",
   "language": "python",
   "name": "conda-env-aind-py"
  },
  "language_info": {
   "codemirror_mode": {
    "name": "ipython",
    "version": 3
   },
   "file_extension": ".py",
   "mimetype": "text/x-python",
   "name": "python",
   "nbconvert_exporter": "python",
   "pygments_lexer": "ipython3",
   "version": "3.6.1"
  }
 },
 "nbformat": 4,
 "nbformat_minor": 2
}
