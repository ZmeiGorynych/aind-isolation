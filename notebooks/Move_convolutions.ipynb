{
 "cells": [
  {
   "cell_type": "code",
   "execution_count": 1,
   "metadata": {
    "collapsed": true
   },
   "outputs": [],
   "source": [
    "# generate the symmetry-corrected indices for move-based convolution\n",
    "import sys\n",
    "import numpy as np\n",
    "sys.path.append('..')"
   ]
  },
  {
   "cell_type": "code",
   "execution_count": 2,
   "metadata": {
    "collapsed": true
   },
   "outputs": [],
   "source": [
    "# test the coefficient generation logic the naive way\n",
    "cell = 22"
   ]
  },
  {
   "cell_type": "code",
   "execution_count": 3,
   "metadata": {},
   "outputs": [
    {
     "name": "stdout",
     "output_type": "stream",
     "text": [
      "(2, 3)\n",
      "[[  0.   0.  37.   0.  37.   0.   0.]\n",
      " [  0.  38.   0.   0.   0.  38.   0.]\n",
      " [  0.   0.   0.   9.   0.   0.   0.]\n",
      " [  0.  36.   0.   0.   0.  36.   0.]\n",
      " [  0.   0.  39.   0.  39.   0.   0.]\n",
      " [  0.   0.   0.   0.   0.   0.   0.]\n",
      " [  0.   0.   0.   0.   0.   0.   0.]]\n"
     ]
    }
   ],
   "source": [
    "# display-only code, to visually check the coeffs are in the correct locations on the board\n",
    "from neural.neural_ import to_pair, generate_all_moves_by_index, move_convolution_indices\n",
    "\n",
    "all_inds, num_coeffs = move_convolution_indices()\n",
    "num_coeffs -= 10 # the first 10 in the above function are biases, don't need them\n",
    "num_biases = 10\n",
    "num_fields = 7*7\n",
    "\n",
    "cell = cell+1\n",
    "tmp = all_inds[cell]\n",
    "a = np.zeros([7,7])\n",
    "for (ind, coeff) in tmp[1:]:\n",
    "    pair = to_pair(ind)\n",
    "    a[pair[0],pair[1]] = coeff - 9\n",
    "\n",
    "print(to_pair(cell))\n",
    "print(a)"
   ]
  },
  {
   "cell_type": "code",
   "execution_count": 4,
   "metadata": {},
   "outputs": [
    {
     "name": "stdout",
     "output_type": "stream",
     "text": [
      "[2 3 2]\n",
      "[[[  4.31470346 -10.12623596]\n",
      "  [  1.9507395   36.62452698]\n",
      "  [  4.29634714  17.55342102]]\n",
      "\n",
      " [[  4.38607407 -18.0837574 ]\n",
      "  [  1.8685627   42.87147522]\n",
      "  [  4.78937006  17.91110229]]]\n"
     ]
    }
   ],
   "source": [
    "# try calling conv_stack directly from Tensorflow\n",
    "import numpy as np\n",
    "import tensorflow as tf\n",
    "\n",
    "tf.reset_default_graph()\n",
    "\n",
    "from neural.tensorflow_utils import conv_stack\n",
    "\n",
    "with tf.Session() as sess:\n",
    "    in_fields_np = np.ones([2,num_fields])\n",
    "    in_fields_np[0,3] = 0\n",
    "    in_fields_np[0,5] = 0\n",
    "    my_pos = np.array([24, 24])\n",
    "    other_pos =  np.array([33,33])\n",
    "    inputs_np = np.concatenate([in_fields_np, my_pos[:,None], other_pos[:,None]],\n",
    "                              1)\n",
    "    #print(inputs_np.shape)\n",
    "    inputs =tf.constant(inputs_np)# tf.placeholder(shape =[None, num_fields+2], dtype = tf.float32) #\n",
    "    #print(sess.run(inputs))\n",
    "    out = conv_stack(inputs, 5,sess)\n",
    "    \n",
    "    dummy = np.array([50,50])[:,None]\n",
    "    #print(sess.run(get_random_index(inputs, tf.constant(dummy))))\n",
    "    \n",
    "    sess.run(tf.global_variables_initializer())\n",
    "    stack_result = sess.run(out)#, feed_dict={inputs:inputs_np})\n",
    "    print(stack_result)"
   ]
  },
  {
   "cell_type": "code",
   "execution_count": 5,
   "metadata": {
    "collapsed": true
   },
   "outputs": [],
   "source": [
    "# load game simulation data\n",
    "import glob\n",
    "import sys\n",
    "import pickle\n",
    "from neural.data_utils import load_simulation_data\n",
    "\n",
    "fn = '../data/states.pickle'\n",
    "try:\n",
    "    with open(fn, 'rb') as f:\n",
    "        states = pickle.load(f)\n",
    "except:\n",
    "    files = glob.glob('../data/ID_x2_1000ms/result_ID*.pickle')\n",
    "    #print(files)\n",
    "    depths =load_simulation_data(files)\n",
    "    keys = list(depths.keys())\n",
    "    #print(keys)\n",
    "    games = depths[keys[0]]\n",
    "    #print(games[0])\n",
    "    states = [state for game in games for state in game] \n",
    "    print(len(states))\n",
    "    with open(fn, 'wb') as f:\n",
    "        pickle.dump(states,f)"
   ]
  },
  {
   "cell_type": "code",
   "execution_count": 6,
   "metadata": {},
   "outputs": [
    {
     "name": "stdout",
     "output_type": "stream",
     "text": [
      "984694\n"
     ]
    }
   ],
   "source": [
    "from neural.data_utils import prepare_data_for_model\n",
    "board_full, player_pos, y = prepare_data_for_model(states)\n",
    "print(board_full.shape, player_pos.shape, y.shape)\n"
   ]
  },
  {
   "cell_type": "code",
   "execution_count": 8,
   "metadata": {},
   "outputs": [
    {
     "name": "stderr",
     "output_type": "stream",
     "text": [
      "Using TensorFlow backend.\n"
     ]
    },
    {
     "name": "stdout",
     "output_type": "stream",
     "text": [
      "____________________________________________________________________________________________________\n",
      "Layer (type)                     Output Shape          Param #     Connected to                     \n",
      "====================================================================================================\n",
      "input_2 (InputLayer)             (None, 49, 1)         0                                            \n",
      "____________________________________________________________________________________________________\n",
      "input_1 (InputLayer)             (None, 49, 2)         0                                            \n",
      "____________________________________________________________________________________________________\n",
      "concatenate_1 (Concatenate)      (None, 49, 3)         0           input_2[0][0]                    \n",
      "                                                                   input_1[0][0]                    \n",
      "____________________________________________________________________________________________________\n",
      "conv_by_move_layer_1 (ConvByMove (None, 49, 8)         1064        concatenate_1[0][0]              \n",
      "____________________________________________________________________________________________________\n",
      "batch_normalization_1 (BatchNorm (None, 49, 8)         32          conv_by_move_layer_1[0][0]       \n",
      "____________________________________________________________________________________________________\n",
      "activation_1 (Activation)        (None, 49, 8)         0           batch_normalization_1[0][0]      \n",
      "____________________________________________________________________________________________________\n",
      "conv_by_move_layer_2 (ConvByMove (None, 49, 8)         2704        activation_1[0][0]               \n",
      "____________________________________________________________________________________________________\n",
      "batch_normalization_2 (BatchNorm (None, 49, 8)         32          conv_by_move_layer_2[0][0]       \n",
      "____________________________________________________________________________________________________\n",
      "activation_2 (Activation)        (None, 49, 8)         0           batch_normalization_2[0][0]      \n",
      "____________________________________________________________________________________________________\n",
      "conv_by_move_layer_3 (ConvByMove (None, 49, 8)         2704        activation_2[0][0]               \n",
      "____________________________________________________________________________________________________\n",
      "dropout_1 (Dropout)              (None, 49, 8)         0           conv_by_move_layer_3[0][0]       \n",
      "____________________________________________________________________________________________________\n",
      "add_1 (Add)                      (None, 49, 8)         0           conv_by_move_layer_1[0][0]       \n",
      "                                                                   dropout_1[0][0]                  \n",
      "____________________________________________________________________________________________________\n",
      "batch_normalization_3 (BatchNorm (None, 49, 8)         32          add_1[0][0]                      \n",
      "____________________________________________________________________________________________________\n",
      "activation_3 (Activation)        (None, 49, 8)         0           batch_normalization_3[0][0]      \n",
      "____________________________________________________________________________________________________\n",
      "conv_by_move_layer_4 (ConvByMove (None, 49, 8)         2704        activation_3[0][0]               \n",
      "____________________________________________________________________________________________________\n",
      "batch_normalization_4 (BatchNorm (None, 49, 8)         32          conv_by_move_layer_4[0][0]       \n",
      "____________________________________________________________________________________________________\n",
      "activation_4 (Activation)        (None, 49, 8)         0           batch_normalization_4[0][0]      \n",
      "____________________________________________________________________________________________________\n",
      "conv_by_move_layer_5 (ConvByMove (None, 49, 8)         2704        activation_4[0][0]               \n",
      "____________________________________________________________________________________________________\n",
      "dropout_2 (Dropout)              (None, 49, 8)         0           conv_by_move_layer_5[0][0]       \n",
      "____________________________________________________________________________________________________\n",
      "add_2 (Add)                      (None, 49, 8)         0           add_1[0][0]                      \n",
      "                                                                   dropout_2[0][0]                  \n",
      "____________________________________________________________________________________________________\n",
      "batch_normalization_5 (BatchNorm (None, 49, 8)         32          add_2[0][0]                      \n",
      "____________________________________________________________________________________________________\n",
      "activation_5 (Activation)        (None, 49, 8)         0           batch_normalization_5[0][0]      \n",
      "____________________________________________________________________________________________________\n",
      "conv_by_move_layer_6 (ConvByMove (None, 49, 8)         2704        activation_5[0][0]               \n",
      "____________________________________________________________________________________________________\n",
      "batch_normalization_6 (BatchNorm (None, 49, 8)         32          conv_by_move_layer_6[0][0]       \n",
      "____________________________________________________________________________________________________\n",
      "activation_6 (Activation)        (None, 49, 8)         0           batch_normalization_6[0][0]      \n",
      "____________________________________________________________________________________________________\n",
      "conv_by_move_layer_7 (ConvByMove (None, 49, 8)         2704        activation_6[0][0]               \n",
      "____________________________________________________________________________________________________\n",
      "dropout_3 (Dropout)              (None, 49, 8)         0           conv_by_move_layer_7[0][0]       \n",
      "____________________________________________________________________________________________________\n",
      "add_3 (Add)                      (None, 49, 8)         0           add_2[0][0]                      \n",
      "                                                                   dropout_3[0][0]                  \n",
      "____________________________________________________________________________________________________\n",
      "batch_normalization_7 (BatchNorm (None, 49, 8)         32          add_3[0][0]                      \n",
      "____________________________________________________________________________________________________\n",
      "activation_7 (Activation)        (None, 49, 8)         0           batch_normalization_7[0][0]      \n",
      "____________________________________________________________________________________________________\n",
      "conv_by_move_layer_8 (ConvByMove (None, 49, 8)         2704        activation_7[0][0]               \n",
      "____________________________________________________________________________________________________\n",
      "batch_normalization_8 (BatchNorm (None, 49, 8)         32          conv_by_move_layer_8[0][0]       \n",
      "____________________________________________________________________________________________________\n",
      "activation_8 (Activation)        (None, 49, 8)         0           batch_normalization_8[0][0]      \n",
      "____________________________________________________________________________________________________\n",
      "conv_by_move_layer_9 (ConvByMove (None, 49, 8)         2704        activation_8[0][0]               \n",
      "____________________________________________________________________________________________________\n",
      "dropout_4 (Dropout)              (None, 49, 8)         0           conv_by_move_layer_9[0][0]       \n",
      "____________________________________________________________________________________________________\n",
      "add_4 (Add)                      (None, 49, 8)         0           add_3[0][0]                      \n",
      "                                                                   dropout_4[0][0]                  \n",
      "____________________________________________________________________________________________________\n",
      "activation_9 (Activation)        (None, 49, 8)         0           add_4[0][0]                      \n",
      "____________________________________________________________________________________________________\n",
      "concatenate_2 (Concatenate)      (None, 49, 10)        0           activation_9[0][0]               \n",
      "                                                                   input_1[0][0]                    \n",
      "____________________________________________________________________________________________________\n",
      "flatten_1 (Flatten)              (None, 490)           0           concatenate_2[0][0]              \n",
      "____________________________________________________________________________________________________\n",
      "dense_1 (Dense)                  (None, 10)            4910        flatten_1[0][0]                  \n",
      "____________________________________________________________________________________________________\n",
      "dense_2 (Dense)                  (None, 1)             11          dense_1[0][0]                    \n",
      "====================================================================================================\n",
      "Total params: 27,873\n",
      "Trainable params: 27,745\n",
      "Non-trainable params: 128\n",
      "____________________________________________________________________________________________________\n"
     ]
    }
   ],
   "source": [
    "# fit the naive score as a first test of our network\n",
    "from neural.keras_utils import deep_model_fun\n",
    "model = deep_model_fun(num_features = 8, num_res_modules = 4, drop_rate = 0.1, activation = 'linear')\n",
    "model.summary()\n",
    "model.compile(optimizer = 'adam',  loss='mean_squared_error')"
   ]
  },
  {
   "cell_type": "code",
   "execution_count": 9,
   "metadata": {},
   "outputs": [
    {
     "name": "stdout",
     "output_type": "stream",
     "text": [
      "Epoch 1/10\n",
      "984694/984694 [==============================] - 178s - loss: 4.6362   \n",
      "Epoch 2/10\n",
      " 54784/984694 [>.............................] - ETA: 206s - loss: 1.3160"
     ]
    },
    {
     "ename": "KeyboardInterrupt",
     "evalue": "",
     "output_type": "error",
     "traceback": [
      "\u001b[1;31m---------------------------------------------------------------------------\u001b[0m",
      "\u001b[1;31mKeyboardInterrupt\u001b[0m                         Traceback (most recent call last)",
      "\u001b[1;32m<ipython-input-9-a97c42c8647d>\u001b[0m in \u001b[0;36m<module>\u001b[1;34m()\u001b[0m\n\u001b[1;32m----> 1\u001b[1;33m \u001b[0mmodel\u001b[0m\u001b[1;33m.\u001b[0m\u001b[0mfit\u001b[0m\u001b[1;33m(\u001b[0m\u001b[0mx\u001b[0m \u001b[1;33m=\u001b[0m \u001b[1;33m[\u001b[0m\u001b[0mplayer_pos\u001b[0m\u001b[1;33m,\u001b[0m \u001b[0mboard_full\u001b[0m\u001b[1;33m]\u001b[0m\u001b[1;33m,\u001b[0m\u001b[0my\u001b[0m \u001b[1;33m=\u001b[0m \u001b[0my\u001b[0m\u001b[1;33m,\u001b[0m \u001b[0mbatch_size\u001b[0m \u001b[1;33m=\u001b[0m \u001b[1;36m256\u001b[0m\u001b[1;33m,\u001b[0m \u001b[0mepochs\u001b[0m\u001b[1;33m=\u001b[0m\u001b[1;36m10\u001b[0m\u001b[1;33m,\u001b[0m \u001b[0mverbose\u001b[0m \u001b[1;33m=\u001b[0m\u001b[1;36m1\u001b[0m\u001b[1;33m)\u001b[0m\u001b[1;33m\u001b[0m\u001b[0m\n\u001b[0m",
      "\u001b[1;32mC:\\Users\\egork\\Anaconda3\\envs\\aind\\lib\\site-packages\\keras\\engine\\training.py\u001b[0m in \u001b[0;36mfit\u001b[1;34m(self, x, y, batch_size, epochs, verbose, callbacks, validation_split, validation_data, shuffle, class_weight, sample_weight, initial_epoch, steps_per_epoch, validation_steps, **kwargs)\u001b[0m\n\u001b[0;32m   1596\u001b[0m                               \u001b[0minitial_epoch\u001b[0m\u001b[1;33m=\u001b[0m\u001b[0minitial_epoch\u001b[0m\u001b[1;33m,\u001b[0m\u001b[1;33m\u001b[0m\u001b[0m\n\u001b[0;32m   1597\u001b[0m                               \u001b[0msteps_per_epoch\u001b[0m\u001b[1;33m=\u001b[0m\u001b[0msteps_per_epoch\u001b[0m\u001b[1;33m,\u001b[0m\u001b[1;33m\u001b[0m\u001b[0m\n\u001b[1;32m-> 1598\u001b[1;33m                               validation_steps=validation_steps)\n\u001b[0m\u001b[0;32m   1599\u001b[0m \u001b[1;33m\u001b[0m\u001b[0m\n\u001b[0;32m   1600\u001b[0m     def evaluate(self, x, y,\n",
      "\u001b[1;32mC:\\Users\\egork\\Anaconda3\\envs\\aind\\lib\\site-packages\\keras\\engine\\training.py\u001b[0m in \u001b[0;36m_fit_loop\u001b[1;34m(self, f, ins, out_labels, batch_size, epochs, verbose, callbacks, val_f, val_ins, shuffle, callback_metrics, initial_epoch, steps_per_epoch, validation_steps)\u001b[0m\n\u001b[0;32m   1181\u001b[0m                     \u001b[0mbatch_logs\u001b[0m\u001b[1;33m[\u001b[0m\u001b[1;34m'size'\u001b[0m\u001b[1;33m]\u001b[0m \u001b[1;33m=\u001b[0m \u001b[0mlen\u001b[0m\u001b[1;33m(\u001b[0m\u001b[0mbatch_ids\u001b[0m\u001b[1;33m)\u001b[0m\u001b[1;33m\u001b[0m\u001b[0m\n\u001b[0;32m   1182\u001b[0m                     \u001b[0mcallbacks\u001b[0m\u001b[1;33m.\u001b[0m\u001b[0mon_batch_begin\u001b[0m\u001b[1;33m(\u001b[0m\u001b[0mbatch_index\u001b[0m\u001b[1;33m,\u001b[0m \u001b[0mbatch_logs\u001b[0m\u001b[1;33m)\u001b[0m\u001b[1;33m\u001b[0m\u001b[0m\n\u001b[1;32m-> 1183\u001b[1;33m                     \u001b[0mouts\u001b[0m \u001b[1;33m=\u001b[0m \u001b[0mf\u001b[0m\u001b[1;33m(\u001b[0m\u001b[0mins_batch\u001b[0m\u001b[1;33m)\u001b[0m\u001b[1;33m\u001b[0m\u001b[0m\n\u001b[0m\u001b[0;32m   1184\u001b[0m                     \u001b[1;32mif\u001b[0m \u001b[1;32mnot\u001b[0m \u001b[0misinstance\u001b[0m\u001b[1;33m(\u001b[0m\u001b[0mouts\u001b[0m\u001b[1;33m,\u001b[0m \u001b[0mlist\u001b[0m\u001b[1;33m)\u001b[0m\u001b[1;33m:\u001b[0m\u001b[1;33m\u001b[0m\u001b[0m\n\u001b[0;32m   1185\u001b[0m                         \u001b[0mouts\u001b[0m \u001b[1;33m=\u001b[0m \u001b[1;33m[\u001b[0m\u001b[0mouts\u001b[0m\u001b[1;33m]\u001b[0m\u001b[1;33m\u001b[0m\u001b[0m\n",
      "\u001b[1;32mC:\\Users\\egork\\Anaconda3\\envs\\aind\\lib\\site-packages\\keras\\backend\\tensorflow_backend.py\u001b[0m in \u001b[0;36m__call__\u001b[1;34m(self, inputs)\u001b[0m\n\u001b[0;32m   2271\u001b[0m         updated = session.run(self.outputs + [self.updates_op],\n\u001b[0;32m   2272\u001b[0m                               \u001b[0mfeed_dict\u001b[0m\u001b[1;33m=\u001b[0m\u001b[0mfeed_dict\u001b[0m\u001b[1;33m,\u001b[0m\u001b[1;33m\u001b[0m\u001b[0m\n\u001b[1;32m-> 2273\u001b[1;33m                               **self.session_kwargs)\n\u001b[0m\u001b[0;32m   2274\u001b[0m         \u001b[1;32mreturn\u001b[0m \u001b[0mupdated\u001b[0m\u001b[1;33m[\u001b[0m\u001b[1;33m:\u001b[0m\u001b[0mlen\u001b[0m\u001b[1;33m(\u001b[0m\u001b[0mself\u001b[0m\u001b[1;33m.\u001b[0m\u001b[0moutputs\u001b[0m\u001b[1;33m)\u001b[0m\u001b[1;33m]\u001b[0m\u001b[1;33m\u001b[0m\u001b[0m\n\u001b[0;32m   2275\u001b[0m \u001b[1;33m\u001b[0m\u001b[0m\n",
      "\u001b[1;32mC:\\Users\\egork\\Anaconda3\\envs\\aind\\lib\\site-packages\\tensorflow\\python\\client\\session.py\u001b[0m in \u001b[0;36mrun\u001b[1;34m(self, fetches, feed_dict, options, run_metadata)\u001b[0m\n\u001b[0;32m    893\u001b[0m     \u001b[1;32mtry\u001b[0m\u001b[1;33m:\u001b[0m\u001b[1;33m\u001b[0m\u001b[0m\n\u001b[0;32m    894\u001b[0m       result = self._run(None, fetches, feed_dict, options_ptr,\n\u001b[1;32m--> 895\u001b[1;33m                          run_metadata_ptr)\n\u001b[0m\u001b[0;32m    896\u001b[0m       \u001b[1;32mif\u001b[0m \u001b[0mrun_metadata\u001b[0m\u001b[1;33m:\u001b[0m\u001b[1;33m\u001b[0m\u001b[0m\n\u001b[0;32m    897\u001b[0m         \u001b[0mproto_data\u001b[0m \u001b[1;33m=\u001b[0m \u001b[0mtf_session\u001b[0m\u001b[1;33m.\u001b[0m\u001b[0mTF_GetBuffer\u001b[0m\u001b[1;33m(\u001b[0m\u001b[0mrun_metadata_ptr\u001b[0m\u001b[1;33m)\u001b[0m\u001b[1;33m\u001b[0m\u001b[0m\n",
      "\u001b[1;32mC:\\Users\\egork\\Anaconda3\\envs\\aind\\lib\\site-packages\\tensorflow\\python\\client\\session.py\u001b[0m in \u001b[0;36m_run\u001b[1;34m(self, handle, fetches, feed_dict, options, run_metadata)\u001b[0m\n\u001b[0;32m   1122\u001b[0m     \u001b[1;32mif\u001b[0m \u001b[0mfinal_fetches\u001b[0m \u001b[1;32mor\u001b[0m \u001b[0mfinal_targets\u001b[0m \u001b[1;32mor\u001b[0m \u001b[1;33m(\u001b[0m\u001b[0mhandle\u001b[0m \u001b[1;32mand\u001b[0m \u001b[0mfeed_dict_tensor\u001b[0m\u001b[1;33m)\u001b[0m\u001b[1;33m:\u001b[0m\u001b[1;33m\u001b[0m\u001b[0m\n\u001b[0;32m   1123\u001b[0m       results = self._do_run(handle, final_targets, final_fetches,\n\u001b[1;32m-> 1124\u001b[1;33m                              feed_dict_tensor, options, run_metadata)\n\u001b[0m\u001b[0;32m   1125\u001b[0m     \u001b[1;32melse\u001b[0m\u001b[1;33m:\u001b[0m\u001b[1;33m\u001b[0m\u001b[0m\n\u001b[0;32m   1126\u001b[0m       \u001b[0mresults\u001b[0m \u001b[1;33m=\u001b[0m \u001b[1;33m[\u001b[0m\u001b[1;33m]\u001b[0m\u001b[1;33m\u001b[0m\u001b[0m\n",
      "\u001b[1;32mC:\\Users\\egork\\Anaconda3\\envs\\aind\\lib\\site-packages\\tensorflow\\python\\client\\session.py\u001b[0m in \u001b[0;36m_do_run\u001b[1;34m(self, handle, target_list, fetch_list, feed_dict, options, run_metadata)\u001b[0m\n\u001b[0;32m   1319\u001b[0m     \u001b[1;32mif\u001b[0m \u001b[0mhandle\u001b[0m \u001b[1;32mis\u001b[0m \u001b[1;32mNone\u001b[0m\u001b[1;33m:\u001b[0m\u001b[1;33m\u001b[0m\u001b[0m\n\u001b[0;32m   1320\u001b[0m       return self._do_call(_run_fn, self._session, feeds, fetches, targets,\n\u001b[1;32m-> 1321\u001b[1;33m                            options, run_metadata)\n\u001b[0m\u001b[0;32m   1322\u001b[0m     \u001b[1;32melse\u001b[0m\u001b[1;33m:\u001b[0m\u001b[1;33m\u001b[0m\u001b[0m\n\u001b[0;32m   1323\u001b[0m       \u001b[1;32mreturn\u001b[0m \u001b[0mself\u001b[0m\u001b[1;33m.\u001b[0m\u001b[0m_do_call\u001b[0m\u001b[1;33m(\u001b[0m\u001b[0m_prun_fn\u001b[0m\u001b[1;33m,\u001b[0m \u001b[0mself\u001b[0m\u001b[1;33m.\u001b[0m\u001b[0m_session\u001b[0m\u001b[1;33m,\u001b[0m \u001b[0mhandle\u001b[0m\u001b[1;33m,\u001b[0m \u001b[0mfeeds\u001b[0m\u001b[1;33m,\u001b[0m \u001b[0mfetches\u001b[0m\u001b[1;33m)\u001b[0m\u001b[1;33m\u001b[0m\u001b[0m\n",
      "\u001b[1;32mC:\\Users\\egork\\Anaconda3\\envs\\aind\\lib\\site-packages\\tensorflow\\python\\client\\session.py\u001b[0m in \u001b[0;36m_do_call\u001b[1;34m(self, fn, *args)\u001b[0m\n\u001b[0;32m   1325\u001b[0m   \u001b[1;32mdef\u001b[0m \u001b[0m_do_call\u001b[0m\u001b[1;33m(\u001b[0m\u001b[0mself\u001b[0m\u001b[1;33m,\u001b[0m \u001b[0mfn\u001b[0m\u001b[1;33m,\u001b[0m \u001b[1;33m*\u001b[0m\u001b[0margs\u001b[0m\u001b[1;33m)\u001b[0m\u001b[1;33m:\u001b[0m\u001b[1;33m\u001b[0m\u001b[0m\n\u001b[0;32m   1326\u001b[0m     \u001b[1;32mtry\u001b[0m\u001b[1;33m:\u001b[0m\u001b[1;33m\u001b[0m\u001b[0m\n\u001b[1;32m-> 1327\u001b[1;33m       \u001b[1;32mreturn\u001b[0m \u001b[0mfn\u001b[0m\u001b[1;33m(\u001b[0m\u001b[1;33m*\u001b[0m\u001b[0margs\u001b[0m\u001b[1;33m)\u001b[0m\u001b[1;33m\u001b[0m\u001b[0m\n\u001b[0m\u001b[0;32m   1328\u001b[0m     \u001b[1;32mexcept\u001b[0m \u001b[0merrors\u001b[0m\u001b[1;33m.\u001b[0m\u001b[0mOpError\u001b[0m \u001b[1;32mas\u001b[0m \u001b[0me\u001b[0m\u001b[1;33m:\u001b[0m\u001b[1;33m\u001b[0m\u001b[0m\n\u001b[0;32m   1329\u001b[0m       \u001b[0mmessage\u001b[0m \u001b[1;33m=\u001b[0m \u001b[0mcompat\u001b[0m\u001b[1;33m.\u001b[0m\u001b[0mas_text\u001b[0m\u001b[1;33m(\u001b[0m\u001b[0me\u001b[0m\u001b[1;33m.\u001b[0m\u001b[0mmessage\u001b[0m\u001b[1;33m)\u001b[0m\u001b[1;33m\u001b[0m\u001b[0m\n",
      "\u001b[1;32mC:\\Users\\egork\\Anaconda3\\envs\\aind\\lib\\site-packages\\tensorflow\\python\\client\\session.py\u001b[0m in \u001b[0;36m_run_fn\u001b[1;34m(session, feed_dict, fetch_list, target_list, options, run_metadata)\u001b[0m\n\u001b[0;32m   1304\u001b[0m           return tf_session.TF_Run(session, options,\n\u001b[0;32m   1305\u001b[0m                                    \u001b[0mfeed_dict\u001b[0m\u001b[1;33m,\u001b[0m \u001b[0mfetch_list\u001b[0m\u001b[1;33m,\u001b[0m \u001b[0mtarget_list\u001b[0m\u001b[1;33m,\u001b[0m\u001b[1;33m\u001b[0m\u001b[0m\n\u001b[1;32m-> 1306\u001b[1;33m                                    status, run_metadata)\n\u001b[0m\u001b[0;32m   1307\u001b[0m \u001b[1;33m\u001b[0m\u001b[0m\n\u001b[0;32m   1308\u001b[0m     \u001b[1;32mdef\u001b[0m \u001b[0m_prun_fn\u001b[0m\u001b[1;33m(\u001b[0m\u001b[0msession\u001b[0m\u001b[1;33m,\u001b[0m \u001b[0mhandle\u001b[0m\u001b[1;33m,\u001b[0m \u001b[0mfeed_dict\u001b[0m\u001b[1;33m,\u001b[0m \u001b[0mfetch_list\u001b[0m\u001b[1;33m)\u001b[0m\u001b[1;33m:\u001b[0m\u001b[1;33m\u001b[0m\u001b[0m\n",
      "\u001b[1;31mKeyboardInterrupt\u001b[0m: "
     ]
    }
   ],
   "source": [
    "model.fit(x = [player_pos, board_full],y = y, batch_size = 256, epochs=10, verbose =1)"
   ]
  },
  {
   "cell_type": "code",
   "execution_count": 32,
   "metadata": {},
   "outputs": [
    {
     "name": "stdout",
     "output_type": "stream",
     "text": [
      "365201\n"
     ]
    }
   ],
   "source": [
    "# Now let's get all those games where tree search actually completed\n",
    "import numpy as np\n",
    "from sklearn.preprocessing import OneHotEncoder\n",
    "\n",
    "complete_states = [state for state in states if state['score'] == float('inf') or state['score'] == float('-inf')]\n",
    "print(len(complete_states))\n",
    "board_full_c, player_pos_c, y_c = prepare_data_for_model(complete_states,'score')\n",
    "y_c[y_c==float('inf')] = 1\n",
    "y_c[y_c==float('-inf')] = 0"
   ]
  },
  {
   "cell_type": "code",
   "execution_count": 33,
   "metadata": {},
   "outputs": [
    {
     "name": "stdout",
     "output_type": "stream",
     "text": [
      "{0.0, 1.0}\n"
     ]
    }
   ],
   "source": [
    "print(set(list(np.reshape(y_c,[-1]))))"
   ]
  },
  {
   "cell_type": "code",
   "execution_count": 34,
   "metadata": {
    "scrolled": true
   },
   "outputs": [
    {
     "name": "stdout",
     "output_type": "stream",
     "text": [
      "____________________________________________________________________________________________________\n",
      "Layer (type)                     Output Shape          Param #     Connected to                     \n",
      "====================================================================================================\n",
      "input_4 (InputLayer)             (None, 49, 1)         0                                            \n",
      "____________________________________________________________________________________________________\n",
      "input_3 (InputLayer)             (None, 49, 2)         0                                            \n",
      "____________________________________________________________________________________________________\n",
      "concatenate_3 (Concatenate)      (None, 49, 3)         0           input_4[0][0]                    \n",
      "                                                                   input_3[0][0]                    \n",
      "____________________________________________________________________________________________________\n",
      "conv_by_move_layer_10 (ConvByMov (None, 49, 16)        2128        concatenate_3[0][0]              \n",
      "____________________________________________________________________________________________________\n",
      "batch_normalization_9 (BatchNorm (None, 49, 16)        64          conv_by_move_layer_10[0][0]      \n",
      "____________________________________________________________________________________________________\n",
      "activation_10 (Activation)       (None, 49, 16)        0           batch_normalization_9[0][0]      \n",
      "____________________________________________________________________________________________________\n",
      "conv_by_move_layer_11 (ConvByMov (None, 49, 16)        10656       activation_10[0][0]              \n",
      "____________________________________________________________________________________________________\n",
      "batch_normalization_10 (BatchNor (None, 49, 16)        64          conv_by_move_layer_11[0][0]      \n",
      "____________________________________________________________________________________________________\n",
      "activation_11 (Activation)       (None, 49, 16)        0           batch_normalization_10[0][0]     \n",
      "____________________________________________________________________________________________________\n",
      "conv_by_move_layer_12 (ConvByMov (None, 49, 16)        10656       activation_11[0][0]              \n",
      "____________________________________________________________________________________________________\n",
      "dropout_5 (Dropout)              (None, 49, 16)        0           conv_by_move_layer_12[0][0]      \n",
      "____________________________________________________________________________________________________\n",
      "add_5 (Add)                      (None, 49, 16)        0           conv_by_move_layer_10[0][0]      \n",
      "                                                                   dropout_5[0][0]                  \n",
      "____________________________________________________________________________________________________\n",
      "batch_normalization_11 (BatchNor (None, 49, 16)        64          add_5[0][0]                      \n",
      "____________________________________________________________________________________________________\n",
      "activation_12 (Activation)       (None, 49, 16)        0           batch_normalization_11[0][0]     \n",
      "____________________________________________________________________________________________________\n",
      "conv_by_move_layer_13 (ConvByMov (None, 49, 16)        10656       activation_12[0][0]              \n",
      "____________________________________________________________________________________________________\n",
      "batch_normalization_12 (BatchNor (None, 49, 16)        64          conv_by_move_layer_13[0][0]      \n",
      "____________________________________________________________________________________________________\n",
      "activation_13 (Activation)       (None, 49, 16)        0           batch_normalization_12[0][0]     \n",
      "____________________________________________________________________________________________________\n",
      "conv_by_move_layer_14 (ConvByMov (None, 49, 16)        10656       activation_13[0][0]              \n",
      "____________________________________________________________________________________________________\n",
      "dropout_6 (Dropout)              (None, 49, 16)        0           conv_by_move_layer_14[0][0]      \n",
      "____________________________________________________________________________________________________\n",
      "add_6 (Add)                      (None, 49, 16)        0           add_5[0][0]                      \n",
      "                                                                   dropout_6[0][0]                  \n",
      "____________________________________________________________________________________________________\n",
      "batch_normalization_13 (BatchNor (None, 49, 16)        64          add_6[0][0]                      \n",
      "____________________________________________________________________________________________________\n",
      "activation_14 (Activation)       (None, 49, 16)        0           batch_normalization_13[0][0]     \n",
      "____________________________________________________________________________________________________\n",
      "conv_by_move_layer_15 (ConvByMov (None, 49, 16)        10656       activation_14[0][0]              \n",
      "____________________________________________________________________________________________________\n",
      "batch_normalization_14 (BatchNor (None, 49, 16)        64          conv_by_move_layer_15[0][0]      \n",
      "____________________________________________________________________________________________________\n",
      "activation_15 (Activation)       (None, 49, 16)        0           batch_normalization_14[0][0]     \n",
      "____________________________________________________________________________________________________\n",
      "conv_by_move_layer_16 (ConvByMov (None, 49, 16)        10656       activation_15[0][0]              \n",
      "____________________________________________________________________________________________________\n",
      "dropout_7 (Dropout)              (None, 49, 16)        0           conv_by_move_layer_16[0][0]      \n",
      "____________________________________________________________________________________________________\n",
      "add_7 (Add)                      (None, 49, 16)        0           add_6[0][0]                      \n",
      "                                                                   dropout_7[0][0]                  \n",
      "____________________________________________________________________________________________________\n",
      "batch_normalization_15 (BatchNor (None, 49, 16)        64          add_7[0][0]                      \n",
      "____________________________________________________________________________________________________\n",
      "activation_16 (Activation)       (None, 49, 16)        0           batch_normalization_15[0][0]     \n",
      "____________________________________________________________________________________________________\n",
      "conv_by_move_layer_17 (ConvByMov (None, 49, 16)        10656       activation_16[0][0]              \n",
      "____________________________________________________________________________________________________\n",
      "batch_normalization_16 (BatchNor (None, 49, 16)        64          conv_by_move_layer_17[0][0]      \n",
      "____________________________________________________________________________________________________\n",
      "activation_17 (Activation)       (None, 49, 16)        0           batch_normalization_16[0][0]     \n",
      "____________________________________________________________________________________________________\n",
      "conv_by_move_layer_18 (ConvByMov (None, 49, 16)        10656       activation_17[0][0]              \n",
      "____________________________________________________________________________________________________\n",
      "dropout_8 (Dropout)              (None, 49, 16)        0           conv_by_move_layer_18[0][0]      \n",
      "____________________________________________________________________________________________________\n",
      "add_8 (Add)                      (None, 49, 16)        0           add_7[0][0]                      \n",
      "                                                                   dropout_8[0][0]                  \n",
      "____________________________________________________________________________________________________\n",
      "batch_normalization_17 (BatchNor (None, 49, 16)        64          add_8[0][0]                      \n",
      "____________________________________________________________________________________________________\n",
      "activation_18 (Activation)       (None, 49, 16)        0           batch_normalization_17[0][0]     \n",
      "____________________________________________________________________________________________________\n",
      "conv_by_move_layer_19 (ConvByMov (None, 49, 16)        10656       activation_18[0][0]              \n",
      "____________________________________________________________________________________________________\n",
      "batch_normalization_18 (BatchNor (None, 49, 16)        64          conv_by_move_layer_19[0][0]      \n",
      "____________________________________________________________________________________________________\n",
      "activation_19 (Activation)       (None, 49, 16)        0           batch_normalization_18[0][0]     \n",
      "____________________________________________________________________________________________________\n",
      "conv_by_move_layer_20 (ConvByMov (None, 49, 16)        10656       activation_19[0][0]              \n",
      "____________________________________________________________________________________________________\n",
      "dropout_9 (Dropout)              (None, 49, 16)        0           conv_by_move_layer_20[0][0]      \n",
      "____________________________________________________________________________________________________\n",
      "add_9 (Add)                      (None, 49, 16)        0           add_8[0][0]                      \n",
      "                                                                   dropout_9[0][0]                  \n",
      "____________________________________________________________________________________________________\n",
      "batch_normalization_19 (BatchNor (None, 49, 16)        64          add_9[0][0]                      \n",
      "____________________________________________________________________________________________________\n",
      "activation_20 (Activation)       (None, 49, 16)        0           batch_normalization_19[0][0]     \n",
      "____________________________________________________________________________________________________\n",
      "conv_by_move_layer_21 (ConvByMov (None, 49, 16)        10656       activation_20[0][0]              \n",
      "____________________________________________________________________________________________________\n",
      "batch_normalization_20 (BatchNor (None, 49, 16)        64          conv_by_move_layer_21[0][0]      \n",
      "____________________________________________________________________________________________________\n",
      "activation_21 (Activation)       (None, 49, 16)        0           batch_normalization_20[0][0]     \n",
      "____________________________________________________________________________________________________\n",
      "conv_by_move_layer_22 (ConvByMov (None, 49, 16)        10656       activation_21[0][0]              \n",
      "____________________________________________________________________________________________________\n",
      "dropout_10 (Dropout)             (None, 49, 16)        0           conv_by_move_layer_22[0][0]      \n",
      "____________________________________________________________________________________________________\n",
      "add_10 (Add)                     (None, 49, 16)        0           add_9[0][0]                      \n",
      "                                                                   dropout_10[0][0]                 \n",
      "____________________________________________________________________________________________________\n",
      "batch_normalization_21 (BatchNor (None, 49, 16)        64          add_10[0][0]                     \n",
      "____________________________________________________________________________________________________\n",
      "activation_22 (Activation)       (None, 49, 16)        0           batch_normalization_21[0][0]     \n",
      "____________________________________________________________________________________________________\n",
      "conv_by_move_layer_23 (ConvByMov (None, 49, 16)        10656       activation_22[0][0]              \n",
      "____________________________________________________________________________________________________\n",
      "batch_normalization_22 (BatchNor (None, 49, 16)        64          conv_by_move_layer_23[0][0]      \n",
      "____________________________________________________________________________________________________\n",
      "activation_23 (Activation)       (None, 49, 16)        0           batch_normalization_22[0][0]     \n",
      "____________________________________________________________________________________________________\n",
      "conv_by_move_layer_24 (ConvByMov (None, 49, 16)        10656       activation_23[0][0]              \n",
      "____________________________________________________________________________________________________\n",
      "dropout_11 (Dropout)             (None, 49, 16)        0           conv_by_move_layer_24[0][0]      \n",
      "____________________________________________________________________________________________________\n",
      "add_11 (Add)                     (None, 49, 16)        0           add_10[0][0]                     \n",
      "                                                                   dropout_11[0][0]                 \n",
      "____________________________________________________________________________________________________\n",
      "batch_normalization_23 (BatchNor (None, 49, 16)        64          add_11[0][0]                     \n",
      "____________________________________________________________________________________________________\n",
      "activation_24 (Activation)       (None, 49, 16)        0           batch_normalization_23[0][0]     \n",
      "____________________________________________________________________________________________________\n",
      "conv_by_move_layer_25 (ConvByMov (None, 49, 16)        10656       activation_24[0][0]              \n"
     ]
    },
    {
     "name": "stdout",
     "output_type": "stream",
     "text": [
      "____________________________________________________________________________________________________\n",
      "batch_normalization_24 (BatchNor (None, 49, 16)        64          conv_by_move_layer_25[0][0]      \n",
      "____________________________________________________________________________________________________\n",
      "activation_25 (Activation)       (None, 49, 16)        0           batch_normalization_24[0][0]     \n",
      "____________________________________________________________________________________________________\n",
      "conv_by_move_layer_26 (ConvByMov (None, 49, 16)        10656       activation_25[0][0]              \n",
      "____________________________________________________________________________________________________\n",
      "dropout_12 (Dropout)             (None, 49, 16)        0           conv_by_move_layer_26[0][0]      \n",
      "____________________________________________________________________________________________________\n",
      "add_12 (Add)                     (None, 49, 16)        0           add_11[0][0]                     \n",
      "                                                                   dropout_12[0][0]                 \n",
      "____________________________________________________________________________________________________\n",
      "batch_normalization_25 (BatchNor (None, 49, 16)        64          add_12[0][0]                     \n",
      "____________________________________________________________________________________________________\n",
      "activation_26 (Activation)       (None, 49, 16)        0           batch_normalization_25[0][0]     \n",
      "____________________________________________________________________________________________________\n",
      "conv_by_move_layer_27 (ConvByMov (None, 49, 16)        10656       activation_26[0][0]              \n",
      "____________________________________________________________________________________________________\n",
      "batch_normalization_26 (BatchNor (None, 49, 16)        64          conv_by_move_layer_27[0][0]      \n",
      "____________________________________________________________________________________________________\n",
      "activation_27 (Activation)       (None, 49, 16)        0           batch_normalization_26[0][0]     \n",
      "____________________________________________________________________________________________________\n",
      "conv_by_move_layer_28 (ConvByMov (None, 49, 16)        10656       activation_27[0][0]              \n",
      "____________________________________________________________________________________________________\n",
      "dropout_13 (Dropout)             (None, 49, 16)        0           conv_by_move_layer_28[0][0]      \n",
      "____________________________________________________________________________________________________\n",
      "add_13 (Add)                     (None, 49, 16)        0           add_12[0][0]                     \n",
      "                                                                   dropout_13[0][0]                 \n",
      "____________________________________________________________________________________________________\n",
      "batch_normalization_27 (BatchNor (None, 49, 16)        64          add_13[0][0]                     \n",
      "____________________________________________________________________________________________________\n",
      "activation_28 (Activation)       (None, 49, 16)        0           batch_normalization_27[0][0]     \n",
      "____________________________________________________________________________________________________\n",
      "conv_by_move_layer_29 (ConvByMov (None, 49, 16)        10656       activation_28[0][0]              \n",
      "____________________________________________________________________________________________________\n",
      "batch_normalization_28 (BatchNor (None, 49, 16)        64          conv_by_move_layer_29[0][0]      \n",
      "____________________________________________________________________________________________________\n",
      "activation_29 (Activation)       (None, 49, 16)        0           batch_normalization_28[0][0]     \n",
      "____________________________________________________________________________________________________\n",
      "conv_by_move_layer_30 (ConvByMov (None, 49, 16)        10656       activation_29[0][0]              \n",
      "____________________________________________________________________________________________________\n",
      "dropout_14 (Dropout)             (None, 49, 16)        0           conv_by_move_layer_30[0][0]      \n",
      "____________________________________________________________________________________________________\n",
      "add_14 (Add)                     (None, 49, 16)        0           add_13[0][0]                     \n",
      "                                                                   dropout_14[0][0]                 \n",
      "____________________________________________________________________________________________________\n",
      "batch_normalization_29 (BatchNor (None, 49, 16)        64          add_14[0][0]                     \n",
      "____________________________________________________________________________________________________\n",
      "activation_30 (Activation)       (None, 49, 16)        0           batch_normalization_29[0][0]     \n",
      "____________________________________________________________________________________________________\n",
      "conv_by_move_layer_31 (ConvByMov (None, 49, 16)        10656       activation_30[0][0]              \n",
      "____________________________________________________________________________________________________\n",
      "batch_normalization_30 (BatchNor (None, 49, 16)        64          conv_by_move_layer_31[0][0]      \n",
      "____________________________________________________________________________________________________\n",
      "activation_31 (Activation)       (None, 49, 16)        0           batch_normalization_30[0][0]     \n",
      "____________________________________________________________________________________________________\n",
      "conv_by_move_layer_32 (ConvByMov (None, 49, 16)        10656       activation_31[0][0]              \n",
      "____________________________________________________________________________________________________\n",
      "dropout_15 (Dropout)             (None, 49, 16)        0           conv_by_move_layer_32[0][0]      \n",
      "____________________________________________________________________________________________________\n",
      "add_15 (Add)                     (None, 49, 16)        0           add_14[0][0]                     \n",
      "                                                                   dropout_15[0][0]                 \n",
      "____________________________________________________________________________________________________\n",
      "batch_normalization_31 (BatchNor (None, 49, 16)        64          add_15[0][0]                     \n",
      "____________________________________________________________________________________________________\n",
      "activation_32 (Activation)       (None, 49, 16)        0           batch_normalization_31[0][0]     \n",
      "____________________________________________________________________________________________________\n",
      "conv_by_move_layer_33 (ConvByMov (None, 49, 16)        10656       activation_32[0][0]              \n",
      "____________________________________________________________________________________________________\n",
      "batch_normalization_32 (BatchNor (None, 49, 16)        64          conv_by_move_layer_33[0][0]      \n",
      "____________________________________________________________________________________________________\n",
      "activation_33 (Activation)       (None, 49, 16)        0           batch_normalization_32[0][0]     \n",
      "____________________________________________________________________________________________________\n",
      "conv_by_move_layer_34 (ConvByMov (None, 49, 16)        10656       activation_33[0][0]              \n",
      "____________________________________________________________________________________________________\n",
      "dropout_16 (Dropout)             (None, 49, 16)        0           conv_by_move_layer_34[0][0]      \n",
      "____________________________________________________________________________________________________\n",
      "add_16 (Add)                     (None, 49, 16)        0           add_15[0][0]                     \n",
      "                                                                   dropout_16[0][0]                 \n",
      "____________________________________________________________________________________________________\n",
      "batch_normalization_33 (BatchNor (None, 49, 16)        64          add_16[0][0]                     \n",
      "____________________________________________________________________________________________________\n",
      "activation_34 (Activation)       (None, 49, 16)        0           batch_normalization_33[0][0]     \n",
      "____________________________________________________________________________________________________\n",
      "conv_by_move_layer_35 (ConvByMov (None, 49, 16)        10656       activation_34[0][0]              \n",
      "____________________________________________________________________________________________________\n",
      "batch_normalization_34 (BatchNor (None, 49, 16)        64          conv_by_move_layer_35[0][0]      \n",
      "____________________________________________________________________________________________________\n",
      "activation_35 (Activation)       (None, 49, 16)        0           batch_normalization_34[0][0]     \n",
      "____________________________________________________________________________________________________\n",
      "conv_by_move_layer_36 (ConvByMov (None, 49, 16)        10656       activation_35[0][0]              \n",
      "____________________________________________________________________________________________________\n",
      "dropout_17 (Dropout)             (None, 49, 16)        0           conv_by_move_layer_36[0][0]      \n",
      "____________________________________________________________________________________________________\n",
      "add_17 (Add)                     (None, 49, 16)        0           add_16[0][0]                     \n",
      "                                                                   dropout_17[0][0]                 \n",
      "____________________________________________________________________________________________________\n",
      "batch_normalization_35 (BatchNor (None, 49, 16)        64          add_17[0][0]                     \n",
      "____________________________________________________________________________________________________\n",
      "activation_36 (Activation)       (None, 49, 16)        0           batch_normalization_35[0][0]     \n",
      "____________________________________________________________________________________________________\n",
      "conv_by_move_layer_37 (ConvByMov (None, 49, 16)        10656       activation_36[0][0]              \n",
      "____________________________________________________________________________________________________\n",
      "batch_normalization_36 (BatchNor (None, 49, 16)        64          conv_by_move_layer_37[0][0]      \n",
      "____________________________________________________________________________________________________\n",
      "activation_37 (Activation)       (None, 49, 16)        0           batch_normalization_36[0][0]     \n",
      "____________________________________________________________________________________________________\n",
      "conv_by_move_layer_38 (ConvByMov (None, 49, 16)        10656       activation_37[0][0]              \n",
      "____________________________________________________________________________________________________\n",
      "dropout_18 (Dropout)             (None, 49, 16)        0           conv_by_move_layer_38[0][0]      \n",
      "____________________________________________________________________________________________________\n",
      "add_18 (Add)                     (None, 49, 16)        0           add_17[0][0]                     \n",
      "                                                                   dropout_18[0][0]                 \n",
      "____________________________________________________________________________________________________\n",
      "batch_normalization_37 (BatchNor (None, 49, 16)        64          add_18[0][0]                     \n",
      "____________________________________________________________________________________________________\n",
      "activation_38 (Activation)       (None, 49, 16)        0           batch_normalization_37[0][0]     \n",
      "____________________________________________________________________________________________________\n",
      "conv_by_move_layer_39 (ConvByMov (None, 49, 16)        10656       activation_38[0][0]              \n",
      "____________________________________________________________________________________________________\n",
      "batch_normalization_38 (BatchNor (None, 49, 16)        64          conv_by_move_layer_39[0][0]      \n",
      "____________________________________________________________________________________________________\n",
      "activation_39 (Activation)       (None, 49, 16)        0           batch_normalization_38[0][0]     \n",
      "____________________________________________________________________________________________________\n",
      "conv_by_move_layer_40 (ConvByMov (None, 49, 16)        10656       activation_39[0][0]              \n",
      "____________________________________________________________________________________________________\n",
      "dropout_19 (Dropout)             (None, 49, 16)        0           conv_by_move_layer_40[0][0]      \n",
      "____________________________________________________________________________________________________\n",
      "add_19 (Add)                     (None, 49, 16)        0           add_18[0][0]                     \n",
      "                                                                   dropout_19[0][0]                 \n",
      "____________________________________________________________________________________________________\n",
      "batch_normalization_39 (BatchNor (None, 49, 16)        64          add_19[0][0]                     \n",
      "____________________________________________________________________________________________________\n",
      "activation_40 (Activation)       (None, 49, 16)        0           batch_normalization_39[0][0]     \n",
      "____________________________________________________________________________________________________\n",
      "conv_by_move_layer_41 (ConvByMov (None, 49, 16)        10656       activation_40[0][0]              \n",
      "____________________________________________________________________________________________________\n",
      "batch_normalization_40 (BatchNor (None, 49, 16)        64          conv_by_move_layer_41[0][0]      \n",
      "____________________________________________________________________________________________________\n",
      "activation_41 (Activation)       (None, 49, 16)        0           batch_normalization_40[0][0]     \n",
      "____________________________________________________________________________________________________\n",
      "conv_by_move_layer_42 (ConvByMov (None, 49, 16)        10656       activation_41[0][0]              \n",
      "____________________________________________________________________________________________________\n",
      "dropout_20 (Dropout)             (None, 49, 16)        0           conv_by_move_layer_42[0][0]      \n",
      "____________________________________________________________________________________________________\n",
      "add_20 (Add)                     (None, 49, 16)        0           add_19[0][0]                     \n",
      "                                                                   dropout_20[0][0]                 \n",
      "____________________________________________________________________________________________________\n",
      "activation_42 (Activation)       (None, 49, 16)        0           add_20[0][0]                     \n",
      "____________________________________________________________________________________________________\n",
      "concatenate_4 (Concatenate)      (None, 49, 18)        0           activation_42[0][0]              \n",
      "                                                                   input_3[0][0]                    \n",
      "____________________________________________________________________________________________________\n",
      "flatten_2 (Flatten)              (None, 882)           0           concatenate_4[0][0]              \n",
      "____________________________________________________________________________________________________\n",
      "dense_3 (Dense)                  (None, 10)            8830        flatten_2[0][0]                  \n",
      "____________________________________________________________________________________________________\n",
      "dense_4 (Dense)                  (None, 1)             11          dense_3[0][0]                    \n",
      "====================================================================================================\n",
      "Total params: 354,009\n",
      "Trainable params: 352,985\n",
      "Non-trainable params: 1,024\n",
      "____________________________________________________________________________________________________\n"
     ]
    }
   ],
   "source": [
    "from neural.keras_utils import deep_model_fun\n",
    "deep_model = deep_model_fun(num_features = 16, num_res_modules = 16, drop_rate = 0.1, activation = 'sigmoid')\n",
    "deep_model.summary()\n",
    "deep_model.compile(optimizer = 'adam',  loss='binary_crossentropy', metrics =['acc'])"
   ]
  },
  {
   "cell_type": "code",
   "execution_count": 35,
   "metadata": {
    "scrolled": true
   },
   "outputs": [
    {
     "name": "stdout",
     "output_type": "stream",
     "text": [
      "Train on 328680 samples, validate on 36521 samples\n",
      "Epoch 1/1\n",
      "328680/328680 [==============================] - 345s - loss: 0.3444 - acc: 0.8435 - val_loss: 0.2480 - val_acc: 0.9066\n"
     ]
    },
    {
     "data": {
      "text/plain": [
       "<keras.callbacks.History at 0x18c976bea20>"
      ]
     },
     "execution_count": 35,
     "metadata": {},
     "output_type": "execute_result"
    }
   ],
   "source": [
    "deep_model.fit([player_pos_c, board_full_c], y_c, batch_size = 256, epochs=1, verbose =1, validation_split = 0.1)"
   ]
  },
  {
   "cell_type": "code",
   "execution_count": 12,
   "metadata": {},
   "outputs": [
    {
     "name": "stdout",
     "output_type": "stream",
     "text": [
      "[1.0, 1.0, 1.0, 1.0, 1.0, 1.0, 1.0, 1.0, 1.0, 1.0, 1.0, 1.0, 1.0, 1.0, 1.0, 1.0, 1.0, 1.0, 1.0, 1.0, 1.0, 1.0, 1.0, 1.0, 1.0, 1.0, 1.0, 1.0, 1.0, 1.0, 1.0, 1.0, 1.0, 1.0, 1.0, 1.0, 1.0, 1.0, 1.0, 1.0, 1.0, 1.0, 1.0, 1.0, 1.0, 1.0, 1.0, 1.0, 1.0]\n"
     ]
    },
    {
     "data": {
      "text/plain": [
       "(16, array([ 32.19636917], dtype=float32))"
      ]
     },
     "execution_count": 12,
     "metadata": {},
     "output_type": "execute_result"
    }
   ],
   "source": [
    "from collections import namedtuple\n",
    "from copy import copy\n",
    "from neural.neural_agent import apply_move, get_best_move_from_model\n",
    "\n",
    "board = np.ones(49)\n",
    "#print(list(board))\n",
    "board.sum()\n",
    "my_pos = None\n",
    "other_pos = None\n",
    "game = {'pos': np.array([my_pos, other_pos]), 'game': board}\n",
    "game1 = apply_move(game, 0)\n",
    "game2 = apply_move(game1, 1)\n",
    "game3 = apply_move(game2, 15)\n",
    "# board, pos, _ = possible_moves_for_model(game3)\n",
    "# print(board.shape, pos.shape)\n",
    "get_best_move_from_model(game3, model)\n"
   ]
  },
  {
   "cell_type": "code",
   "execution_count": 15,
   "metadata": {},
   "outputs": [
    {
     "name": "stdout",
     "output_type": "stream",
     "text": [
      "The autoreload extension is already loaded. To reload it, use:\n",
      "  %reload_ext autoreload\n"
     ]
    },
    {
     "data": {
      "text/plain": [
       "(16,\n",
       " {'game': array([ 0.,  0.,  1.,  1.,  1.,  1.,  1.,  1.,  1.,  1.,  1.,  1.,  1.,\n",
       "          1.,  1.,  0.,  1.,  1.,  1.,  1.,  1.,  1.,  1.,  1.,  1.,  1.,\n",
       "          1.,  1.,  1.,  1.,  1.,  1.,  1.,  1.,  1.,  1.,  1.,  1.,  1.,\n",
       "          1.,  1.,  1.,  1.,  1.,  1.,  1.,  1.,  1.,  1.]),\n",
       "  'move': 16,\n",
       "  'n_score': array([ 32.19636917], dtype=float32),\n",
       "  'pos': array([ 1, 15])})"
      ]
     },
     "execution_count": 15,
     "metadata": {},
     "output_type": "execute_result"
    }
   ],
   "source": [
    "%load_ext autoreload\n",
    "%autoreload 2\n",
    "\n",
    "my_agent.get_move(game3)"
   ]
  },
  {
   "cell_type": "code",
   "execution_count": 39,
   "metadata": {},
   "outputs": [
    {
     "name": "stdout",
     "output_type": "stream",
     "text": [
      "\n",
      "This script evaluates the performance of the custom heuristic function by\n",
      "comparing the strength of an agent using iterative deepening (ID) search with\n",
      "alpha-beta pruning against the strength rating of agents using other heuristic\n",
      "functions.  The `ID_Improved` agent provides a baseline by measuring the\n",
      "performance of a basic agent using Iterative Deepening and the \"improved\"\n",
      "heuristic (from lecture) on your hardware.  The `Student` agent then measures\n",
      "the performance of Iterative Deepening and the custom heuristic against the\n",
      "same opponents.\n",
      "\n",
      "\n",
      "*************************\n",
      "Evaluating: Neural Agent \n",
      "*************************\n",
      "\n",
      "Playing Matches:\n",
      "----------\n",
      "  Match 1: Neural Agent vs ID_Improved timeout!\n"
     ]
    },
    {
     "name": "stderr",
     "output_type": "stream",
     "text": [
      "..\\tournament.py:106: UserWarning: One or more agents lost a match this round due to timeout. The get_move() function must return before time_left() reaches 0 ms. You will need to leave some time for the function to return, and may need to increase this margin to avoid timeouts during  tournament play.\n",
      "  warnings.warn(TIMEOUT_WARNING)\n"
     ]
    },
    {
     "name": "stdout",
     "output_type": "stream",
     "text": [
      "\tResult: 29 to 51\n",
      "\n",
      "\n",
      "Results:\n",
      "----------\n",
      "Neural Agent        36.25%\n"
     ]
    }
   ],
   "source": [
    "from tournament import tournament, Agent, RandomPlayer\n",
    "from neural.neural_agent import NeuralAgent\n",
    "\n",
    "my_agent = NeuralAgent(deep_model)\n",
    "tournament(num_matches=20, time_limit=500, \n",
    "           test_agents=[Agent(my_agent,\"Neural Agent\")])\n",
    "a=1"
   ]
  },
  {
   "cell_type": "code",
   "execution_count": null,
   "metadata": {
    "collapsed": true
   },
   "outputs": [],
   "source": [
    "# sort all games by number of moves. \n",
    "states_by_num_moves = [[] for _ in range(49)]\n",
    "\n",
    "for state in states:\n",
    "    moves_made = 49 - state['game'].sum()\n",
    "    states_by_num_moves[int(moves_made)].append(state)\n",
    "    \n",
    "for n in range(49):\n",
    "    print(n,len(states_by_num_moves[n]))"
   ]
  },
  {
   "cell_type": "code",
   "execution_count": null,
   "metadata": {
    "collapsed": true
   },
   "outputs": [],
   "source": [
    "# Iteratively populate all non-+-inf values in layer n from evaluating model in layer n+1, then include these into the fitting set\n",
    "# after each pass, refresh the values for earlier layers\n",
    "def recursively_fill_scores(states, model = deep_model):\n",
    "    print(len(states))\n",
    "    scores = np.zeros([len(states)])\n",
    "    for n,state in enumerate(states):\n",
    "        if state['score']  == float('inf'):\n",
    "            scores[n] = 1\n",
    "        elif state['score'] == float('-inf'):\n",
    "            scores[n] = 0\n",
    "        else:\n",
    "            _ , scores[n] = get_best_move_from_model(state, model)\n",
    "        if n%1000 == 0:\n",
    "            print(n)\n",
    "    return scores\n",
    "\n",
    "prepared_data = [None for _ in range(49)]\n",
    "\n",
    "for n in range(18,49):\n",
    "    if len(states_by_num_moves[n]):\n",
    "        board, pos, _  = prepare_data_for_model( states_by_num_moves[n], None) # board, player_pos, score\n",
    "        scores = recursively_fill_scores( states_by_num_moves[n])\n",
    "        prepared_data[n] = (pos, board, scores)\n",
    "        print(len(scores),len(set(list(scores))))\n",
    "# TODO: is my position always first in those dumps???\n",
    "    \n",
    "\n",
    "            \n",
    "\n",
    "\n",
    "            \n"
   ]
  }
 ],
 "metadata": {
  "kernelspec": {
   "display_name": "Python 3",
   "language": "python",
   "name": "python3"
  },
  "language_info": {
   "codemirror_mode": {
    "name": "ipython",
    "version": 3
   },
   "file_extension": ".py",
   "mimetype": "text/x-python",
   "name": "python",
   "nbconvert_exporter": "python",
   "pygments_lexer": "ipython3",
   "version": "3.6.1"
  }
 },
 "nbformat": 4,
 "nbformat_minor": 2
}
