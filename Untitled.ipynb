{
 "cells": [
  {
   "cell_type": "code",
   "execution_count": 17,
   "metadata": {
    "collapsed": false
   },
   "outputs": [
    {
     "data": {
      "text/plain": [
       "[(0, 0),\n",
       " (1, 0),\n",
       " (2, 0),\n",
       " (3, 0),\n",
       " (4, 0),\n",
       " (5, 0),\n",
       " (6, 0),\n",
       " (0, 1),\n",
       " (1, 1),\n",
       " (2, 1),\n",
       " (3, 1),\n",
       " (4, 1),\n",
       " (5, 1),\n",
       " (6, 1),\n",
       " (0, 2),\n",
       " (1, 2),\n",
       " (2, 2),\n",
       " (3, 2),\n",
       " (4, 2),\n",
       " (5, 2),\n",
       " (6, 2),\n",
       " (0, 3),\n",
       " (1, 3),\n",
       " (2, 3),\n",
       " (3, 3),\n",
       " (4, 3),\n",
       " (5, 3),\n",
       " (6, 3),\n",
       " (0, 4),\n",
       " (1, 4),\n",
       " (2, 4),\n",
       " (3, 4),\n",
       " (4, 4),\n",
       " (5, 4),\n",
       " (6, 4),\n",
       " (0, 5),\n",
       " (1, 5),\n",
       " (2, 5),\n",
       " (3, 5),\n",
       " (4, 5),\n",
       " (5, 5),\n",
       " (6, 5),\n",
       " (0, 6),\n",
       " (1, 6),\n",
       " (2, 6),\n",
       " (3, 6),\n",
       " (4, 6),\n",
       " (5, 6),\n",
       " (6, 6)]"
      ]
     },
     "execution_count": 17,
     "metadata": {},
     "output_type": "execute_result"
    }
   ],
   "source": [
    "import sys\n",
    "sys.path.append('.')\n",
    "from isolation import Board\n",
    "from sample_players import RandomPlayer, GreedyPlayer\n",
    "\n",
    "# create an isolation board (by default 7x7)\n",
    "player1 = RandomPlayer()\n",
    "player2 = GreedyPlayer()\n",
    "game = Board(player1, player2)\n",
    "a = game.get_player_location(player1)\n",
    "game.get_legal_moves(player1)"
   ]
  },
  {
   "cell_type": "code",
   "execution_count": 2,
   "metadata": {
    "collapsed": false
   },
   "outputs": [
    {
     "name": "stdout",
     "output_type": "stream",
     "text": [
      " |   |   |   |   |   | 2 |   | \n",
      "\r",
      " |   |   |   |   |   |   |   | \n",
      "\r",
      " |   |   |   | 1 |   |   |   | \n",
      "\r",
      " |   |   |   |   |   |   |   | \n",
      "\r",
      " |   |   |   |   |   |   |   | \n",
      "\r",
      " |   |   |   |   |   |   |   | \n",
      "\r",
      " |   |   |   |   |   |   |   | \n",
      "\r\n"
     ]
    }
   ],
   "source": [
    "# place player 1 on the board at row 2, column 3, then place player 2 on\n",
    "# the board at row 0, column 5; display the resulting board state.  Note\n",
    "# that .apply_move() changes the calling object\n",
    "game.apply_move((2, 3))\n",
    "game.apply_move((0, 5))\n",
    "print(game.to_string())\n"
   ]
  },
  {
   "cell_type": "code",
   "execution_count": 3,
   "metadata": {
    "collapsed": false
   },
   "outputs": [
    {
     "name": "stdout",
     "output_type": "stream",
     "text": [
      "[(0, 2), (0, 4), (1, 1), (1, 5), (3, 1), (3, 5), (4, 2), (4, 4)]\n"
     ]
    }
   ],
   "source": [
    "# players take turns moving on the board, so player1 should be next to move\n",
    "assert(player1 == game.active_player)\n",
    "\n",
    "# get a list of the legal moves available to the active player\n",
    "print(game.get_legal_moves())"
   ]
  },
  {
   "cell_type": "code",
   "execution_count": 4,
   "metadata": {
    "collapsed": false
   },
   "outputs": [
    {
     "name": "stdout",
     "output_type": "stream",
     "text": [
      "\n",
      "Old state:\n",
      " |   |   |   |   |   | 2 |   | \n",
      "\r",
      " |   |   |   |   |   |   |   | \n",
      "\r",
      " |   |   |   | 1 |   |   |   | \n",
      "\r",
      " |   |   |   |   |   |   |   | \n",
      "\r",
      " |   |   |   |   |   |   |   | \n",
      "\r",
      " |   |   |   |   |   |   |   | \n",
      "\r",
      " |   |   |   |   |   |   |   | \n",
      "\r\n",
      "\n",
      "New state:\n",
      " |   |   |   |   |   | 2 |   | \n",
      "\r",
      " |   | 1 |   |   |   |   |   | \n",
      "\r",
      " |   |   |   | - |   |   |   | \n",
      "\r",
      " |   |   |   |   |   |   |   | \n",
      "\r",
      " |   |   |   |   |   |   |   | \n",
      "\r",
      " |   |   |   |   |   |   |   | \n",
      "\r",
      " |   |   |   |   |   |   |   | \n",
      "\r\n"
     ]
    }
   ],
   "source": [
    "# get a successor of the current state by making a copy of the board and\n",
    "# applying a move. Notice that this does NOT change the calling object\n",
    "# (unlike .apply_move()).\n",
    "new_game = game.forecast_move((1, 1))\n",
    "assert(new_game.to_string() != game.to_string())\n",
    "print(\"\\nOld state:\\n{}\".format(game.to_string()))\n",
    "print(\"\\nNew state:\\n{}\".format(new_game.to_string()))"
   ]
  },
  {
   "cell_type": "code",
   "execution_count": 5,
   "metadata": {
    "collapsed": false
   },
   "outputs": [
    {
     "name": "stdout",
     "output_type": "stream",
     "text": [
      "\n",
      "Winner: <sample_players.GreedyPlayer object at 0x000001FDD781AC88>\n",
      "Outcome: illegal move\n",
      " |   |   |   |   | - | - |   | \n",
      "\r",
      " |   |   |   | - |   |   | - | \n",
      "\r",
      " |   | - | - | - | - | - |   | \n",
      "\r",
      " |   |   | - | - | - | - |   | \n",
      "\r",
      " |   | - | 2 | - | - | - |   | \n",
      "\r",
      " |   |   | - | - | - |   |   | \n",
      "\r",
      " | - |   | - |   |   |   | 1 | \n",
      "\r\n",
      "Move history:\n",
      "[[(0, 4), (2, 4)], [(1, 6), (4, 3)], [(3, 5), (2, 2)], [(5, 4), (3, 4)], [(6, 2), (5, 3)], [(4, 1), (3, 2)], [(6, 0), (4, 4)], [(5, 2), (2, 5)], [(3, 3), (1, 3)], [(4, 5), (2, 1)], [(6, 6), (4, 2)], [(-1, -1)]]\n"
     ]
    }
   ],
   "source": [
    "# play the remainder of the game automatically -- outcome can be \"illegal\n",
    "# move\" or \"timeout\"; it should _always_ be \"illegal move\" in this example\n",
    "winner, history, outcome = game.play()\n",
    "print(\"\\nWinner: {}\\nOutcome: {}\".format(winner, outcome))\n",
    "print(game.to_string())\n",
    "print(\"Move history:\\n{!s}\".format(history))"
   ]
  },
  {
   "cell_type": "code",
   "execution_count": 6,
   "metadata": {
    "collapsed": false
   },
   "outputs": [
    {
     "data": {
      "text/plain": [
       "4"
      ]
     },
     "execution_count": 6,
     "metadata": {},
     "output_type": "execute_result"
    }
   ],
   "source": [
    "max([1,2,3,4])\n"
   ]
  },
  {
   "cell_type": "code",
   "execution_count": 16,
   "metadata": {
    "collapsed": false
   },
   "outputs": [
    {
     "data": {
      "text/plain": [
       "1"
      ]
     },
     "execution_count": 16,
     "metadata": {},
     "output_type": "execute_result"
    }
   ],
   "source": [
    "from subprocess import call\n",
    "call(['python', 'agent_test.py', '-v'])"
   ]
  }
 ],
 "metadata": {
  "anaconda-cloud": {},
  "kernelspec": {
   "display_name": "Python [conda env:aind]",
   "language": "python",
   "name": "conda-env-aind-py"
  },
  "language_info": {
   "codemirror_mode": {
    "name": "ipython",
    "version": 3
   },
   "file_extension": ".py",
   "mimetype": "text/x-python",
   "name": "python",
   "nbconvert_exporter": "python",
   "pygments_lexer": "ipython3",
   "version": "3.6.0"
  }
 },
 "nbformat": 4,
 "nbformat_minor": 1
}
