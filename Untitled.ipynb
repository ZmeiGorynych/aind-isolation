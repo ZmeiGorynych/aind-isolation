{
 "cells": [
  {
   "cell_type": "code",
   "execution_count": 1,
   "metadata": {
    "collapsed": false,
    "deletable": true,
    "editable": true
   },
   "outputs": [
    {
     "name": "stdout",
     "output_type": "stream",
     "text": [
      "True\n"
     ]
    }
   ],
   "source": [
    "a ={'a':1}\n",
    "def test(x):\n",
    "    x['a'] = 2\n",
    "    \n",
    "test(a)\n",
    "a['a']\n",
    "a = float('-inf')\n",
    "print(a == float('-inf'))"
   ]
  },
  {
   "cell_type": "code",
   "execution_count": 2,
   "metadata": {
    "collapsed": false,
    "deletable": true,
    "editable": true
   },
   "outputs": [
    {
     "name": "stdout",
     "output_type": "stream",
     "text": [
      "None [(0, 0), (1, 0), (2, 0), (3, 0), (4, 0), (5, 0), (6, 0), (0, 1), (1, 1), (2, 1), (3, 1), (4, 1), (5, 1), (6, 1), (0, 2), (1, 2), (2, 2), (3, 2), (4, 2), (5, 2), (6, 2), (0, 3), (1, 3), (2, 3), (3, 3), (4, 3), (5, 3), (6, 3), (0, 4), (1, 4), (2, 4), (3, 4), (4, 4), (5, 4), (6, 4), (0, 5), (1, 5), (2, 5), (3, 5), (4, 5), (5, 5), (6, 5), (0, 6), (1, 6), (2, 6), (3, 6), (4, 6), (5, 6), (6, 6)] [0, 0, 0, 0, 0, 0, 0, 0, 0, 0, 0, 0, 0, 0, 0, 0, 0, 0, 0, 0, 0, 0, 0, 0, 0, 0, 0, 0, 0, 0, 0, 0, 0, 0, 0, 0, 0, 0, 0, 0, 0, 0, 0, 0, 0, 0, 0, 0, 0, 0, None, None]\n"
     ]
    }
   ],
   "source": [
    "import sys\n",
    "sys.path.append('.')\n",
    "from isolation import Board\n",
    "from sample_players import RandomPlayer, GreedyPlayer\n",
    "\n",
    "# create an isolation board (by default 7x7)\n",
    "player1 = RandomPlayer()\n",
    "player2 = GreedyPlayer()\n",
    "game = Board(player1, player2)\n",
    "a = game.get_player_location(player1)\n",
    "print(a,game.get_blank_spaces(), game._board_state)"
   ]
  },
  {
   "cell_type": "code",
   "execution_count": null,
   "metadata": {
    "collapsed": true
   },
   "outputs": [],
   "source": []
  },
  {
   "cell_type": "code",
   "execution_count": null,
   "metadata": {
    "collapsed": false,
    "deletable": true,
    "editable": true
   },
   "outputs": [
    {
     "name": "stdout",
     "output_type": "stream",
     "text": [
      "49\n",
      "{(1, 2), (2, 1)}\n"
     ]
    }
   ],
   "source": [
    "def generate_all_moves():\n",
    "    move_dict = {}\n",
    "    player1 = RandomPlayer()\n",
    "    player2 = GreedyPlayer()\n",
    "    game = Board(player1, player2)\n",
    "    all_moves = game.get_legal_moves(player1)\n",
    "    print(len(all_moves))\n",
    "    for move in all_moves:\n",
    "        new_game = game.forecast_move(move)\n",
    "        move_dict[move] = set(new_game.get_legal_moves(player1))\n",
    "        #print(len(move_dict[move]))\n",
    "    return move_dict\n",
    "\n",
    "move_dict = generate_all_moves()\n",
    "print(move_dict[0,0])"
   ]
  },
  {
   "cell_type": "code",
   "execution_count": null,
   "metadata": {
    "collapsed": true,
    "deletable": true,
    "editable": true
   },
   "outputs": [],
   "source": [
    "from joblib import Parallel, delayed\n",
    "import multiprocessing\n",
    "\n",
    "# what are your inputs, and what operation do you want to\n",
    "# perform on each input. For example...\n",
    "inputs = range(10)\n",
    "def processInput(i):\n",
    "    return i * i\n",
    "\n",
    "num_cores = multiprocessing.cpu_count()\n",
    "#results = Parallel(n_jobs=num_cores)(delayed(processInput)(i) for i in inputs)"
   ]
  },
  {
   "cell_type": "code",
   "execution_count": null,
   "metadata": {
    "collapsed": false,
    "deletable": true,
    "editable": true
   },
   "outputs": [],
   "source": [
    "def partition(game, move_dict, my_pos, other_pos = None):\n",
    "    this_component_size = 1\n",
    "    prev_nodes = {}\n",
    "    latest_nodes = set([my_pos])\n",
    "    while len(latest_nodes):\n",
    "        next_nodes = set()\n",
    "        for x in latest_nodes:\n",
    "            # what are the moves we can get to from the current boundary?\n",
    "            for move in move_dict[x]:\n",
    "                if move == other_pos:\n",
    "                    return 0 # we're in the same component of the board\n",
    "                if move not in prev_nodes and game.move_is_legal(move):\n",
    "                    next_nodes.add(move)\n",
    "        prev_nodes = latest_nodes\n",
    "        latest_nodes = next_nodes\n",
    "        this_component_size += len(latest_nodes)\n",
    "        print(this_component_size)\n",
    "    \n",
    "    # if we got this far, the two players are in unconnected components of the board\n",
    "    if other_pos is None:\n",
    "        return this_component_size\n",
    "    else:\n",
    "        return this_component_size - partition(other_pos)\n",
    "    \n",
    "        \n",
    "partition(game, move_dict, (0,0), (4,4))                \n",
    "        \n",
    "        \n",
    "    \n",
    "    "
   ]
  },
  {
   "cell_type": "code",
   "execution_count": null,
   "metadata": {
    "collapsed": false,
    "deletable": true,
    "editable": true
   },
   "outputs": [],
   "source": [
    "# place player 1 on the board at row 2, column 3, then place player 2 on\n",
    "# the board at row 0, column 5; display the resulting board state.  Note\n",
    "# that .apply_move() changes the calling object\n",
    "game.apply_move((2, 3))\n",
    "#game.apply_move((0, 5))\n",
    "print(game.to_string())\n"
   ]
  },
  {
   "cell_type": "code",
   "execution_count": null,
   "metadata": {
    "collapsed": false,
    "deletable": true,
    "editable": true
   },
   "outputs": [],
   "source": [
    "# players take turns moving on the board, so player1 should be next to move\n",
    "assert(player1 == game.active_player)\n",
    "\n",
    "# get a list of the legal moves available to the active player\n",
    "print(game.get_legal_moves())"
   ]
  },
  {
   "cell_type": "code",
   "execution_count": null,
   "metadata": {
    "collapsed": false,
    "deletable": true,
    "editable": true
   },
   "outputs": [],
   "source": [
    "# get a successor of the current state by making a copy of the board and\n",
    "# applying a move. Notice that this does NOT change the calling object\n",
    "# (unlike .apply_move()).\n",
    "new_game = game.forecast_move((1, 1))\n",
    "assert(new_game.to_string() != game.to_string())\n",
    "print(\"\\nOld state:\\n{}\".format(game.to_string()))\n",
    "print(\"\\nNew state:\\n{}\".format(new_game.to_string()))"
   ]
  },
  {
   "cell_type": "code",
   "execution_count": null,
   "metadata": {
    "collapsed": false,
    "deletable": true,
    "editable": true
   },
   "outputs": [],
   "source": [
    "# play the remainder of the game automatically -- outcome can be \"illegal\n",
    "# move\" or \"timeout\"; it should _always_ be \"illegal move\" in this example\n",
    "winner, history, outcome = game.play()\n",
    "print(\"\\nWinner: {}\\nOutcome: {}\".format(winner, outcome))\n",
    "print(game.to_string())\n",
    "print(\"Move history:\\n{!s}\".format(history))"
   ]
  },
  {
   "cell_type": "code",
   "execution_count": null,
   "metadata": {
    "collapsed": false,
    "deletable": true,
    "editable": true
   },
   "outputs": [],
   "source": [
    "max([1,2,3,4])\n"
   ]
  },
  {
   "cell_type": "code",
   "execution_count": null,
   "metadata": {
    "collapsed": false
   },
   "outputs": [],
   "source": [
    "int(-0.9)"
   ]
  },
  {
   "cell_type": "code",
   "execution_count": null,
   "metadata": {
    "collapsed": false
   },
   "outputs": [],
   "source": [
    "import numpy as np\n",
    "a = np.array([[-1, 0],[0, 1]])\n",
    "b = np.array((1, 1))\n",
    "a.dot(b) + 0.1"
   ]
  },
  {
   "cell_type": "code",
   "execution_count": null,
   "metadata": {
    "collapsed": false,
    "deletable": true,
    "editable": true
   },
   "outputs": [],
   "source": [
    "from subprocess import call\n",
    "call(['python', 'agent_test.py', '-v'])"
   ]
  }
 ],
 "metadata": {
  "anaconda-cloud": {},
  "kernelspec": {
   "display_name": "Python 3",
   "language": "python",
   "name": "python3"
  },
  "language_info": {
   "codemirror_mode": {
    "name": "ipython",
    "version": 3
   },
   "file_extension": ".py",
   "mimetype": "text/x-python",
   "name": "python",
   "nbconvert_exporter": "python",
   "pygments_lexer": "ipython3",
   "version": "3.6.0"
  }
 },
 "nbformat": 4,
 "nbformat_minor": 1
}
