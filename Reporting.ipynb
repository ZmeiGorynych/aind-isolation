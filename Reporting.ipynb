{
 "cells": [
  {
   "cell_type": "code",
   "execution_count": 1,
   "metadata": {
    "collapsed": false,
    "deletable": true,
    "editable": true
   },
   "outputs": [],
   "source": [
    "from tournament import tournament\n",
    "from reporting import Reporting\n",
    "import importlib\n",
    "from collections import namedtuple\n",
    "from game_agent_comp import CustomPlayerComp\n",
    "from value_functions import improved_score_fast_x2,improved_score_fast,\\\n",
    "    improved_score_fast_x3, partition_score_x2\n",
    "from sample_players import null_score\n",
    "from policy import SimplePolicy\n",
    "#importlib.reload(reporting)\n",
    "Agent = namedtuple(\"Agent\", [\"player\", \"name\"])\n",
    "\n",
    "#r = Reporting()\n",
    "#r.report = []\n",
    "if False:\n",
    "    CUSTOM_ARGS = {\"method\": 'alphabeta', 'iterative': True}\n",
    "\n",
    "    my_part_x2 = Agent(CustomPlayerComp(score_fn=partition_score_x2, **CUSTOM_ARGS),\n",
    "                       \"Partitioning with two steps\")\n",
    "    my_x3 = Agent(CustomPlayerComp(score_fn=improved_score_fast_x3, **CUSTOM_ARGS),\n",
    "          \"improved, three steps exact\")\n",
    "    my_x1 = Agent(CustomPlayerComp(score_fn=improved_score_fast, **CUSTOM_ARGS),\n",
    "          \"Faster improved\")                        \n",
    "\n",
    "    my_x2 = Agent(CustomPlayerComp(score_fn=improved_score_fast_x2,**CUSTOM_ARGS), \n",
    "                      \"improved, two steps exact, with reporting\")\n",
    "\n",
    "    my_null = Agent(CustomPlayerComp(score_fn=null_score,method = 'minimax', iterative = True),\n",
    "                           \"Null score minimax ID\")\n",
    "\n",
    "    policy_5 = SimplePolicy(5,  improved_score_fast_x2 )\n",
    "    policy_3 = SimplePolicy(3,  improved_score_fast_x2 )\n",
    "\n",
    "    my_policy_x2_5 = Agent(CustomPlayerComp(score_fn=improved_score_fast_x2,\n",
    "                                            policy = policy_5, **CUSTOM_ARGS), \n",
    "                      \"simple policy, max 3 moves\")\n",
    "\n",
    "    my_policy_x2_3 = Agent(CustomPlayerComp(score_fn=improved_score_fast_x2,\n",
    "                                            policy = policy_3, **CUSTOM_ARGS), \n",
    "                      \"simple policy, max 5 moves\")\n",
    "\n",
    "    #test_agents = [my_policy_x2]#my_null,my_x1, my_x2 , my_x3, my_part_x2]\n",
    "\n",
    "    test_agents = [my_policy_x2_3, my_policy_x2_5, my_x1, my_x2 , my_x3, my_part_x2]\n",
    "\n",
    "    tournament(num_matches = 10, test_agents = test_agents)"
   ]
  },
  {
   "cell_type": "code",
   "execution_count": 2,
   "metadata": {
    "collapsed": false,
    "deletable": true,
    "editable": true
   },
   "outputs": [],
   "source": [
    "if False:# process the moves statistics\n",
    "    test_agents = [my_null,my_x1, my_x2, my_x3, my_part_x2,my_policy_x2_3,my_policy_x2_5]\n",
    "\n",
    "    r = Reporting()\n",
    "\n",
    "    depths = get_depths(r.report, test_agents, lambda x: (x['depth'],x['score']))\n",
    "    print(depths)"
   ]
  },
  {
   "cell_type": "code",
   "execution_count": 3,
   "metadata": {
    "collapsed": false,
    "deletable": true,
    "editable": true
   },
   "outputs": [
    {
     "name": "stdout",
     "output_type": "stream",
     "text": [
      "['data\\\\result_ID_x2_1.pickle', 'data\\\\result_ID_x2_2.pickle', 'data\\\\result_ID_x2_3.pickle', 'data\\\\result_ID_x2_4.pickle', 'data\\\\result_ID_x2_5.pickle', 'data\\\\result_ID_x2_6.pickle']\n",
      "dict_keys(['improved, two steps exact, with reporting'])\n"
     ]
    }
   ],
   "source": [
    "import pickle, glob\n",
    "\n",
    "files = glob.glob('data/result_ID*.pickle')\n",
    "print(files)\n",
    "\n",
    "depths = {}\n",
    "for file in files:\n",
    "    try:\n",
    "        with open(file, 'rb') as handle:\n",
    "            old_depths = pickle.load(handle)\n",
    "            #print(old_depths)\n",
    "    except:\n",
    "        old_depths={}\n",
    "\n",
    "    #print(old_depths)\n",
    "    for d in old_depths:\n",
    "        for p, v in d.items():\n",
    "            if p not in depths:\n",
    "                depths[p]=v\n",
    "            else:\n",
    "                depths[p] = depths[p]+v\n",
    "\n",
    "#with open('result.pickle', 'wb') as handle:\n",
    "#    pickle.dump(depths, handle)\n",
    "#print(depths)\n",
    "\n",
    "print(depths.keys())"
   ]
  },
  {
   "cell_type": "code",
   "execution_count": 4,
   "metadata": {
    "collapsed": false,
    "deletable": true,
    "editable": true
   },
   "outputs": [
    {
     "name": "stdout",
     "output_type": "stream",
     "text": [
      "35158\n"
     ]
    }
   ],
   "source": [
    "# collate all moves in one big list\n",
    "moves = []\n",
    "#for player, games in depths.items():\n",
    "games=depths['improved, two steps exact, with reporting']\n",
    "for game in games:\n",
    "    for move in game:\n",
    "        if move['score'] != float('inf') and move['score'] != float('-inf'):\n",
    "            moves.append(move)\n",
    "print(len(moves))\n",
    "#print(nice_allscores(moves[0]['allscores']))"
   ]
  },
  {
   "cell_type": "code",
   "execution_count": 5,
   "metadata": {
    "collapsed": false,
    "deletable": true,
    "editable": true
   },
   "outputs": [],
   "source": [
    "def transpose_list_of_lists(lol):\n",
    "    \n",
    "    transp = []\n",
    "\n",
    "    for game in lol:\n",
    "        for m, move_depth in enumerate(game):\n",
    "            if len(transp) <= m:\n",
    "                transp.append([])\n",
    "            transp[m].append(move_depth)\n",
    "    return transp\n",
    "\n"
   ]
  },
  {
   "cell_type": "code",
   "execution_count": 6,
   "metadata": {
    "collapsed": false,
    "deletable": true,
    "editable": true
   },
   "outputs": [],
   "source": [
    "#%pdb\n",
    "from statistics import mean, stdev, median\n",
    "import numpy as np\n",
    "\n",
    "def get_mean_std(lol):\n",
    "    result = {'mu':[], 'std':[],'median':[], 'strict_win':[], 'strict_loss':[]}\n",
    "    \n",
    "    for move in lol:\n",
    "        if len(move) > 2:\n",
    "            result['mu'].append(mean([m['depth'] for m in move]))\n",
    "            result['std'].append(stdev([m['depth'] for m in move]))\n",
    "            result['median'].append(median([m['depth'] for m in move]))\n",
    "            result['strict_win'].append(\\\n",
    "                len([ m['score'] for m in move if m['score'] == float('inf')]) / len(move))\n",
    "            result['strict_loss'].append(\\\n",
    "                len([ m['score'] for m in move if m['score'] == float('-inf')]) / len(move))\n",
    "            \n",
    "            \n",
    "    result['mu'] = np.array(result['mu'] )\n",
    "    result['std'] = np.array(result['std'])\n",
    "    result['median'] = np.array(result['median'])\n",
    "    result['strict_win'] = np.array(result['strict_win'])\n",
    "    result['strict_loss'] = np.array(result['strict_loss'])\n",
    "    return result\n",
    "\n",
    "player_stats = {}\n",
    "for p, d in depths.items():\n",
    "    tmp = transpose_list_of_lists(d)\n",
    "    #print(tmp)\n",
    "    player_stats[p] = get_mean_std(transpose_list_of_lists(d))\n"
   ]
  },
  {
   "cell_type": "code",
   "execution_count": 7,
   "metadata": {
    "collapsed": false,
    "deletable": true,
    "editable": true
   },
   "outputs": [
    {
     "data": {
      "image/png": "[encoded data removed]",
      "text/plain": [
       "<matplotlib.figure.Figure at 0x23e3c0035c0>"
      ]
     },
     "metadata": {},
     "output_type": "display_data"
    }
   ],
   "source": [
    "#import numpy as np\n",
    "import matplotlib.pyplot as plt\n",
    "%matplotlib inline\n",
    "\n",
    "plt.figure()\n",
    "ax = plt.axes()\n",
    "#ax.set_yscale(\"log\")\n",
    "lines = []\n",
    "legend = []\n",
    "n=0\n",
    "lastpt = 12\n",
    "for p, stats in player_stats.items():\n",
    "    lines.append(\\\n",
    "        plt.errorbar(np.array(range(lastpt))+n,stats['mu'][0:lastpt], \n",
    "                     yerr=stats['std'][0:lastpt], fmt='o'))\n",
    "    legend.append(p)\n",
    "    n+= 0.1\n",
    "\n",
    "plt.legend(lines,legend)\n",
    "plt.show()"
   ]
  },
  {
   "cell_type": "code",
   "execution_count": 8,
   "metadata": {
    "collapsed": false,
    "deletable": true,
    "editable": true
   },
   "outputs": [
    {
     "data": {
      "image/png": "[encoded data removed]",
      "text/plain": [
       "<matplotlib.figure.Figure at 0x23e3c2c3860>"
      ]
     },
     "metadata": {},
     "output_type": "display_data"
    }
   ],
   "source": [
    "plt.figure()\n",
    "ax = plt.axes()\n",
    "#ax.set_yscale(\"log\")\n",
    "lines = []\n",
    "legend =[]\n",
    "for p, stats in player_stats.items():\n",
    "    lines.append(\\\n",
    "        plt.plot(range(len(stats['mu'])),stats['strict_win'] + stats['strict_loss']))\n",
    "    legend.append(p)\n",
    "plt.legend(legend)\n",
    "plt.grid()\n",
    "plt.show()"
   ]
  },
  {
   "cell_type": "code",
   "execution_count": 9,
   "metadata": {
    "collapsed": false,
    "deletable": true,
    "editable": true
   },
   "outputs": [
    {
     "data": {
      "image/png": "[encoded data removed]",
      "text/plain": [
       "<matplotlib.figure.Figure at 0x23e3f132710>"
      ]
     },
     "metadata": {},
     "output_type": "display_data"
    }
   ],
   "source": [
    "plt.figure()\n",
    "ax = plt.axes()\n",
    "#ax.set_yscale(\"log\")\n",
    "lines = []\n",
    "legend =[]\n",
    "for p, stats in player_stats.items():\n",
    "    lines.append(\\\n",
    "        plt.plot(range(len(stats['mu'])),stats['strict_win']-stats['strict_loss']))\n",
    "    legend.append(p)\n",
    "plt.legend(legend)\n",
    "plt.grid()\n",
    "plt.show()"
   ]
  }
 ],
 "metadata": {
  "kernelspec": {
   "display_name": "Python 3",
   "language": "python",
   "name": "python3"
  },
  "language_info": {
   "codemirror_mode": {
    "name": "ipython",
    "version": 3
   },
   "file_extension": ".py",
   "mimetype": "text/x-python",
   "name": "python",
   "nbconvert_exporter": "python",
   "pygments_lexer": "ipython3",
   "version": "3.6.0"
  }
 },
 "nbformat": 4,
 "nbformat_minor": 2
}
