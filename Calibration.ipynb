{
 "cells": [
  {
   "cell_type": "code",
   "execution_count": 1,
   "metadata": {
    "collapsed": false,
    "deletable": true,
    "editable": true
   },
   "outputs": [],
   "source": [
    "from tournament import tournament\n",
    "from reporting import Reporting\n",
    "import importlib\n",
    "from collections import namedtuple\n",
    "from game_agent_comp import CustomPlayerComp\n",
    "from value_functions import improved_score_fast_x2,improved_score_fast,\\\n",
    "    improved_score_fast_x3, partition_score_x2\n",
    "from sample_players import null_score\n",
    "from policy import SimplePolicy\n",
    "import numpy as np\n",
    "from copy import copy\n",
    "#importlib.reload(reporting)"
   ]
  },
  {
   "cell_type": "code",
   "execution_count": 2,
   "metadata": {
    "collapsed": false,
    "deletable": true,
    "editable": true
   },
   "outputs": [
    {
     "name": "stdout",
     "output_type": "stream",
     "text": [
      "['data\\\\result_ID_x2_1.pickle', 'data\\\\result_ID_x2_2.pickle', 'data\\\\result_ID_x2_3.pickle', 'data\\\\result_ID_x2_4.pickle', 'data\\\\result_ID_x2_5.pickle', 'data\\\\result_ID_x2_6.pickle', 'data\\\\result_ID_x2_7.pickle', 'data\\\\result_ID_x2_8.pickle', 'data\\\\result_ID_x2_9.pickle']\n",
      "dict_keys(['improved, two steps exact'])\n"
     ]
    }
   ],
   "source": [
    "import pickle, glob\n",
    "\n",
    "files = glob.glob('data/result_ID*.pickle')\n",
    "print(files)\n",
    "\n",
    "depths = {}\n",
    "for file in files:#[:3]:\n",
    "    try:\n",
    "        with open(file, 'rb') as handle:\n",
    "            old_depths = pickle.load(handle)\n",
    "            #print(old_depths)\n",
    "    except:\n",
    "        old_depths={}\n",
    "\n",
    "    #print(old_depths)\n",
    "    for d in old_depths:\n",
    "        for p, v in d.items():\n",
    "            if p not in depths:\n",
    "                depths[p]=v\n",
    "            else:\n",
    "                depths[p] = depths[p]+v\n",
    "\n",
    "#with open('result.pickle', 'wb') as handle:\n",
    "#    pickle.dump(depths, handle)\n",
    "print(depths.keys())\n",
    "\n"
   ]
  },
  {
   "cell_type": "code",
   "execution_count": 3,
   "metadata": {
    "collapsed": false,
    "deletable": true,
    "editable": true
   },
   "outputs": [
    {
     "name": "stdout",
     "output_type": "stream",
     "text": [
      "None\n"
     ]
    },
    {
     "ename": "TypeError",
     "evalue": "'NoneType' object is not iterable",
     "output_type": "error",
     "traceback": [
      "\u001b[1;31m---------------------------------------------------------------------------\u001b[0m",
      "\u001b[1;31mTypeError\u001b[0m                                 Traceback (most recent call last)",
      "\u001b[1;32m<ipython-input-3-f209af9806cc>\u001b[0m in \u001b[0;36m<module>\u001b[1;34m()\u001b[0m\n\u001b[0;32m     15\u001b[0m     \u001b[1;32mreturn\u001b[0m \u001b[0msoftmax\u001b[0m\u001b[1;33m(\u001b[0m\u001b[0mscores\u001b[0m\u001b[1;33m)\u001b[0m\u001b[1;33m,\u001b[0m \u001b[0minds\u001b[0m\u001b[1;33m\u001b[0m\u001b[0m\n\u001b[0;32m     16\u001b[0m \u001b[1;33m\u001b[0m\u001b[0m\n\u001b[1;32m---> 17\u001b[1;33m \u001b[0mprint\u001b[0m\u001b[1;33m(\u001b[0m\u001b[0mnice_allscores\u001b[0m\u001b[1;33m(\u001b[0m\u001b[0mmove\u001b[0m\u001b[1;33m[\u001b[0m\u001b[1;34m'allscores'\u001b[0m\u001b[1;33m]\u001b[0m\u001b[1;33m)\u001b[0m\u001b[1;33m)\u001b[0m\u001b[1;33m\u001b[0m\u001b[0m\n\u001b[0m",
      "\u001b[1;32m<ipython-input-3-f209af9806cc>\u001b[0m in \u001b[0;36mnice_allscores\u001b[1;34m(x)\u001b[0m\n\u001b[0;32m     11\u001b[0m \u001b[1;33m\u001b[0m\u001b[0m\n\u001b[0;32m     12\u001b[0m \u001b[1;32mdef\u001b[0m \u001b[0mnice_allscores\u001b[0m\u001b[1;33m(\u001b[0m\u001b[0mx\u001b[0m\u001b[1;33m)\u001b[0m\u001b[1;33m:\u001b[0m\u001b[1;33m\u001b[0m\u001b[0m\n\u001b[1;32m---> 13\u001b[1;33m     \u001b[0mscores\u001b[0m \u001b[1;33m=\u001b[0m\u001b[1;33m[\u001b[0m\u001b[0mscore\u001b[0m \u001b[1;32mfor\u001b[0m \u001b[0mscore\u001b[0m\u001b[1;33m,\u001b[0m \u001b[0mcell\u001b[0m \u001b[1;32min\u001b[0m \u001b[0mx\u001b[0m\u001b[1;33m]\u001b[0m\u001b[1;33m\u001b[0m\u001b[0m\n\u001b[0m\u001b[0;32m     14\u001b[0m     \u001b[0minds\u001b[0m \u001b[1;33m=\u001b[0m \u001b[1;33m[\u001b[0m\u001b[0mto_index\u001b[0m\u001b[1;33m(\u001b[0m\u001b[0mcell\u001b[0m\u001b[1;33m)\u001b[0m \u001b[1;32mfor\u001b[0m \u001b[0mscore\u001b[0m\u001b[1;33m,\u001b[0m \u001b[0mcell\u001b[0m \u001b[1;32min\u001b[0m \u001b[0mx\u001b[0m\u001b[1;33m]\u001b[0m\u001b[1;33m\u001b[0m\u001b[0m\n\u001b[0;32m     15\u001b[0m     \u001b[1;32mreturn\u001b[0m \u001b[0msoftmax\u001b[0m\u001b[1;33m(\u001b[0m\u001b[0mscores\u001b[0m\u001b[1;33m)\u001b[0m\u001b[1;33m,\u001b[0m \u001b[0minds\u001b[0m\u001b[1;33m\u001b[0m\u001b[0m\n",
      "\u001b[1;31mTypeError\u001b[0m: 'NoneType' object is not iterable"
     ]
    }
   ],
   "source": [
    "def softmax(x):\n",
    "    \"\"\"Compute softmax values for each sets of scores in x.\"\"\"\n",
    "    e_x = np.exp(x - np.max(x))\n",
    "    return e_x / e_x.sum()\n",
    "\n",
    "example = depths['improved, two steps exact'][0]\n",
    "move = example[1]\n",
    "print(move['allscores'])\n",
    "\n",
    "from value_functions import to_index\n",
    "\n",
    "def nice_allscores(x):\n",
    "    scores =[score for score, cell in x]\n",
    "    inds = [to_index(cell) for score, cell in x]\n",
    "    return softmax(scores), inds\n",
    "    \n",
    "#print(nice_allscores(move['allscores']))"
   ]
  },
  {
   "cell_type": "code",
   "execution_count": 5,
   "metadata": {
    "collapsed": false,
    "deletable": true,
    "editable": true
   },
   "outputs": [],
   "source": [
    "# collate all moves in one big list\n",
    "moves = []\n",
    "final_moves =[]\n",
    "#for player, games in depths.items():\n",
    "games=depths['improved, two steps exact']\n",
    "def get_moves()\n",
    "for game in games:\n",
    "    for m, move in enumerate(game):\n",
    "        if move['score'] != float('inf') and move['score'] != float('-inf'):\n",
    "            moves.append(move)\n",
    "        else:\n",
    "            move_ = copy(move)\n",
    "            if move['score'] == float('inf'):\n",
    "                move_['score'] = 1\n",
    "            else:\n",
    "                move_['score'] = -1\n",
    "            final_moves.append(move_)\n",
    "            \n",
    "depths = {}            \n",
    "        \n",
    "#print(len(moves), len(final_moves))\n",
    "#print(nice_allscores(moves[0]['allscores']))"
   ]
  },
  {
   "cell_type": "code",
   "execution_count": null,
   "metadata": {
    "collapsed": false,
    "deletable": true,
    "editable": true
   },
   "outputs": [],
   "source": [
    "np.zeros([0,5])"
   ]
  },
  {
   "cell_type": "code",
   "execution_count": null,
   "metadata": {
    "collapsed": false,
    "deletable": true,
    "editable": true,
    "scrolled": false
   },
   "outputs": [],
   "source": [
    "\n",
    "\n",
    "from neural import NNValueFunction, SelectionValueFunction, SingleValueFunction\n",
    "import numpy as np\n",
    "from copy import copy\n",
    "from sklearn.model_selection import train_test_split\n",
    "import math \n",
    "import random\n",
    "\n",
    "train_final_scores = True\n",
    "\n",
    "s = 1\n",
    "if train_final_scores:\n",
    "    train_moves, test_moves = train_test_split(final_moves, test_size = 0.1)\n",
    "    sizes = [[5], [2, 2, 2], [5,5], [8,8]]\n",
    "    val = SingleValueFunction(sizes[s])\n",
    "else:\n",
    "    train_moves, test_moves = train_test_split(moves, test_size = 0.1)\n",
    "    sizes = [[5], [ 2, 2, 2] ,[5,5,5,5,5], [8,8,8,8] ]\n",
    "    val = SelectionValueFunction(sizes[s])\n",
    "\n",
    "coeff = np.random.normal(size =val.coeff_len)*0.1\n",
    "n = 0\n",
    "while 53*n < len(coeff):\n",
    "    coeff[53*n:(53*n+10)] = 0\n",
    "    n+=1\n",
    "    \n",
    "val.set_coeff(coeff)\n",
    "\n",
    "\n",
    "\n",
    "n = 0\n",
    "train_diff = np.zeros(len(train_moves))\n",
    "train_base = copy(train_diff)\n",
    "test_diff = np.zeros(len(test_moves))\n",
    "test_base = copy(test_diff)\n",
    "\n",
    "timed = False\n",
    "while True:\n",
    "    print('entering calibration next epoch...')\n",
    "    dcoeff = np.zeros(val.coeff_len)\n",
    "    random.shuffle(train_moves)\n",
    "    # just run one batch\n",
    "    for m, move in  enumerate(train_moves[:100]):\n",
    "        if train_final_scores:\n",
    "            thisvalue = val(input_vec = move['game'],pos = move['pos'], mask = move['game'])\n",
    "            diff = move['score'] - thisvalue\n",
    "            train_base[m] = move['score']\n",
    "        else:\n",
    "            scores, inds = nice_allscores(move['allscores'])\n",
    "            thisvalue = val(input_vec = move['game'],pos = move['pos'], indices = inds, mask = move['game'])\n",
    "            diff = scores - thisvalue\n",
    "            train_base[m] = np.linalg.norm(scores - scores.mean())\n",
    "        train_diff[m] = np.linalg.norm(diff)\n",
    "        \n",
    "        #square_print(nn(inp))\n",
    "        #print(np.linalg.norm(diff))\n",
    "        gr = val.nn.grad()\n",
    "        #gr = gr /(1 + np.linalg.norm(gr))\n",
    "        delta = gr.dot(diff).transpose()*0.01\n",
    "        #print(diff,dcoeff,delta)\n",
    "        try:\n",
    "            dcoeff += delta\n",
    "        except:\n",
    "            dcoeff += delta[0]\n",
    "            \n",
    "        if m%20 ==0:\n",
    "            #print(np.linalg.norm(dcoeff), np.linalg.norm(val.nn.get_coeff()))\n",
    "            #dnorm = np.linalg.norm(dcoeff)\n",
    "            #cnorm = np.linalg.norm(val.nn.get_coeff())\n",
    "            #dcoeff = math.sqrt(cnorm/dnorm)*dcoeff\n",
    "            #if m%50 == 0 and m>0:\n",
    "                #print(np.linalg.norm(dcoeff), np.linalg.norm(val.nn.get_coeff()))\n",
    "                #print('test: ',np.linalg.norm(train_diff)/np.linalg.norm(train_base))\n",
    "            coeff = val.nn.get_coeff() + dcoeff\n",
    "            #print(coeff.shape)\n",
    "            val.nn.set_coeff(coeff)\n",
    "            dcoeff = np.zeros(val.coeff_len)\n",
    "        #if m%100 == 0\n",
    "    random.shuffle(test_moves)\n",
    "    for m,move in enumerate(test_moves[:500]):\n",
    "        if train_final_scores:\n",
    "            thisvalue = val(input_vec = move['game'],pos = move['pos'], mask = move['game'])\n",
    "            diff = move['score'] - thisvalue\n",
    "            test_base[m] = move['score']\n",
    "        else:\n",
    "            scores, inds = nice_allscores(move['allscores'])\n",
    "            thisvalue = val(input_vec = move['game'],pos = move['pos'], indices = inds, mask = move['game'])\n",
    "            diff = scores - thisvalue\n",
    "            test_base[m] = np.linalg.norm(scores-scores.mean())\n",
    "            \n",
    "        test_diff[m] = np.linalg.norm(diff)\n",
    "        \n",
    "    print(np.linalg.norm(dcoeff), np.linalg.norm(val.nn.get_coeff()))\n",
    "    print('train: ',(np.linalg.norm(train_diff)/np.linalg.norm(train_base))**2)\n",
    "    print('test: ',(np.linalg.norm(test_diff)/np.linalg.norm(test_base))**2)\n"
   ]
  },
  {
   "cell_type": "code",
   "execution_count": null,
   "metadata": {
    "collapsed": false,
    "deletable": true,
    "editable": true,
    "scrolled": true
   },
   "outputs": [],
   "source": [
    "from neural import NNValueFunction\n",
    "import numpy as np\n",
    "from copy import copy\n",
    "from sklearn.model_selection import train_test_split\n",
    "\n",
    "train_moves, test_moves = train_test_split(moves, test_size = 0.2)\n",
    "\n",
    "\n",
    "val = NNValueFunction([1,3,3])\n",
    "val.set_coeff(np.random.normal(size =val.coeff_len)*0.3)\n",
    "n = 0\n",
    "train_diff = np.zeros(len(train_moves))\n",
    "train_base = copy(train_diff)\n",
    "test_diff = np.zeros(len(test_moves))\n",
    "test_base = copy(test_diff)\n",
    "while True:\n",
    "    for m, move in  enumerate(train_moves):\n",
    "        train_diff[m] = move['score'] - val(input_vec = move['game'], pos = move['pos'])\n",
    "        train_base[m] = move['score']\n",
    "        #square_print(nn(inp))\n",
    "        #print(np.linalg.norm(diff))\n",
    "        gr = val.nn.grad()\n",
    "        gr = gr /(1 + np.linalg.norm(gr))\n",
    "        coeff = val.nn.get_coeff() + gr.dot(train_diff[m]).transpose()[0]*0.001\n",
    "        #print(coeff.shape)\n",
    "        val.nn.set_coeff(coeff)\n",
    "        #if m%100 == 0\n",
    "    for m,move in enumerate(test_moves):\n",
    "        test_diff[m] = move['score'] - val(input_vec = move['game'], pos = move['pos'])\n",
    "        test_base[m] = move['score']\n",
    "    print('train: ',np.linalg.norm(train_diff)/np.linalg.norm(train_base))\n",
    "    print('test: ',np.linalg.norm(test_diff)/np.linalg.norm(test_base))\n"
   ]
  },
  {
   "cell_type": "code",
   "execution_count": null,
   "metadata": {
    "collapsed": false,
    "deletable": true,
    "editable": true
   },
   "outputs": [],
   "source": [
    "def transpose_list_of_lists(lol):\n",
    "    \n",
    "    transp = []\n",
    "\n",
    "    for game in lol:\n",
    "        for m, move_depth in enumerate(game):\n",
    "            if len(transp) <= m:\n",
    "                transp.append([])\n",
    "            transp[m].append(move_depth)\n",
    "    return transp\n",
    "\n"
   ]
  },
  {
   "cell_type": "code",
   "execution_count": null,
   "metadata": {
    "collapsed": false,
    "deletable": true,
    "editable": true
   },
   "outputs": [],
   "source": [
    "#%pdb\n",
    "from statistics import mean, stdev, median\n",
    "import numpy as np\n",
    "\n",
    "def get_mean_std(lol):\n",
    "    result = {'mu':[], 'std':[],'median':[], 'strict_win':[], 'strict_loss':[]}\n",
    "    \n",
    "    for move in lol:\n",
    "        if len(move) > 2:\n",
    "            result['mu'].append(mean([m['depth'] for m in move]))\n",
    "            result['std'].append(stdev([m['depth'] for m in move]))\n",
    "            result['median'].append(median([m['depth'] for m in move]))\n",
    "            result['strict_win'].append(\\\n",
    "                len([ m['score'] for m in move if m['score'] == float('inf')]) / len(move))\n",
    "            result['strict_loss'].append(\\\n",
    "                len([ m['score'] for m in move if m['score'] == float('-inf')]) / len(move))\n",
    "            \n",
    "            \n",
    "    result['mu'] = np.array(result['mu'] )\n",
    "    result['std'] = np.array(result['std'])\n",
    "    result['median'] = np.array(result['median'])\n",
    "    result['strict_win'] = np.array(result['strict_win'])\n",
    "    result['strict_loss'] = np.array(result['strict_loss'])\n",
    "    return result\n",
    "\n",
    "player_stats = {}\n",
    "for p, d in depths.items():\n",
    "    tmp = transpose_list_of_lists(d)\n",
    "    #print(tmp)\n",
    "    player_stats[p] = get_mean_std(transpose_list_of_lists(d))\n"
   ]
  },
  {
   "cell_type": "code",
   "execution_count": null,
   "metadata": {
    "collapsed": false,
    "deletable": true,
    "editable": true
   },
   "outputs": [],
   "source": [
    "player_stats\n"
   ]
  },
  {
   "cell_type": "code",
   "execution_count": null,
   "metadata": {
    "collapsed": false,
    "deletable": true,
    "editable": true
   },
   "outputs": [],
   "source": [
    "#import numpy as np\n",
    "import matplotlib.pyplot as plt\n",
    "%matplotlib inline\n",
    "\n",
    "plt.figure()\n",
    "ax = plt.axes()\n",
    "#ax.set_yscale(\"log\")\n",
    "lines = []\n",
    "legend = []\n",
    "n=0\n",
    "lastpt = 12\n",
    "for p, stats in player_stats.items():\n",
    "    lines.append(\\\n",
    "        plt.errorbar(np.array(range(lastpt))+n,stats['mu'][0:lastpt], \n",
    "                     yerr=stats['std'][0:lastpt], fmt='o'))\n",
    "    legend.append(p)\n",
    "    n+= 0.1\n",
    "\n",
    "plt.legend(lines,legend)\n",
    "plt.show()"
   ]
  },
  {
   "cell_type": "code",
   "execution_count": null,
   "metadata": {
    "collapsed": false,
    "deletable": true,
    "editable": true
   },
   "outputs": [],
   "source": [
    "plt.figure()\n",
    "ax = plt.axes()\n",
    "#ax.set_yscale(\"log\")\n",
    "lines = []\n",
    "legend =[]\n",
    "for p, stats in player_stats.items():\n",
    "    lines.append(\\\n",
    "        plt.plot(range(len(stats['mu'])),stats['strict_win'] + stats['strict_loss']))\n",
    "    legend.append(p)\n",
    "plt.legend(legend)\n",
    "plt.grid()\n",
    "plt.show()"
   ]
  },
  {
   "cell_type": "code",
   "execution_count": null,
   "metadata": {
    "collapsed": false,
    "deletable": true,
    "editable": true
   },
   "outputs": [],
   "source": [
    "plt.figure()\n",
    "ax = plt.axes()\n",
    "#ax.set_yscale(\"log\")\n",
    "lines = []\n",
    "legend =[]\n",
    "for p, stats in player_stats.items():\n",
    "    lines.append(\\\n",
    "        plt.plot(range(len(stats['mu'])),stats['strict_win']-stats['strict_loss']))\n",
    "    legend.append(p)\n",
    "plt.legend(legend)\n",
    "plt.grid()\n",
    "plt.show()"
   ]
  }
 ],
 "metadata": {
  "kernelspec": {
   "display_name": "Python 3",
   "language": "python",
   "name": "python3"
  },
  "language_info": {
   "codemirror_mode": {
    "name": "ipython",
    "version": 3
   },
   "file_extension": ".py",
   "mimetype": "text/x-python",
   "name": "python",
   "nbconvert_exporter": "python",
   "pygments_lexer": "ipython3",
   "version": "3.6.0"
  }
 },
 "nbformat": 4,
 "nbformat_minor": 2
}
