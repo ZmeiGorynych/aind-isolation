{
 "cells": [
  {
   "cell_type": "code",
   "execution_count": 1,
   "metadata": {
    "collapsed": false,
    "deletable": true,
    "editable": true
   },
   "outputs": [],
   "source": [
    "from tournament import tournament\n",
    "from reporting import Reporting\n",
    "import importlib\n",
    "from collections import namedtuple\n",
    "from game_agent_comp import CustomPlayerComp\n",
    "from value_functions import improved_score_fast_x2,improved_score_fast,\\\n",
    "    improved_score_fast_x3, partition_score_x2\n",
    "from sample_players import null_score\n",
    "from policy import SimplePolicy\n",
    "import numpy as np\n",
    "from copy import copy\n",
    "#importlib.reload(reporting)"
   ]
  },
  {
   "cell_type": "code",
   "execution_count": 2,
   "metadata": {
    "collapsed": false,
    "deletable": true,
    "editable": true
   },
   "outputs": [
    {
     "name": "stdout",
     "output_type": "stream",
     "text": [
      "['result0.pickle', 'result1.pickle', 'result2.pickle', 'result3.pickle', 'result4.pickle', 'result5.pickle', 'result6.pickle', 'result7.pickle', 'result8.pickle', 'result9.pickle']\n",
      "dict_keys(['Faster improved', 'improved, two steps exact, with reporting', 'improved, three steps exact'])\n"
     ]
    }
   ],
   "source": [
    "import pickle, glob\n",
    "\n",
    "files = glob.glob('result*.pickle')\n",
    "print(files)\n",
    "\n",
    "depths = {}\n",
    "for file in files[:3]:\n",
    "    try:\n",
    "        with open(file, 'rb') as handle:\n",
    "            old_depths = pickle.load(handle)\n",
    "            #print(old_depths)\n",
    "    except:\n",
    "        old_depths={}\n",
    "\n",
    "    #print(old_depths)\n",
    "    for d in old_depths:\n",
    "        for p, v in d.items():\n",
    "            if p not in depths:\n",
    "                depths[p]=v\n",
    "            else:\n",
    "                depths[p] = depths[p]+v\n",
    "\n",
    "#with open('result.pickle', 'wb') as handle:\n",
    "#    pickle.dump(depths, handle)\n",
    "print(depths.keys())\n",
    "\n"
   ]
  },
  {
   "cell_type": "code",
   "execution_count": 3,
   "metadata": {
    "collapsed": false,
    "deletable": true,
    "editable": true
   },
   "outputs": [
    {
     "name": "stdout",
     "output_type": "stream",
     "text": [
      "[(-1.0, (0, 3)), (0.0, (3, 2)), (-1.0, (3, 0))]\n",
      "(array([ 0.21194156,  0.57611688,  0.21194156]), [21, 17, 3])\n"
     ]
    }
   ],
   "source": [
    "def softmax(x):\n",
    "    \"\"\"Compute softmax values for each sets of scores in x.\"\"\"\n",
    "    e_x = np.exp(x - np.max(x))\n",
    "    return e_x / e_x.sum()\n",
    "\n",
    "example = depths['improved, three steps exact'][0]\n",
    "move = example[1]\n",
    "print(move['allscores'])\n",
    "\n",
    "from value_functions import to_index\n",
    "\n",
    "def nice_allscores(x):\n",
    "    scores =[score for score, cell in x]\n",
    "    inds = [to_index(cell) for score, cell in x]\n",
    "    return softmax(scores), inds\n",
    "    \n",
    "print(nice_allscores(move['allscores']))"
   ]
  },
  {
   "cell_type": "code",
   "execution_count": 4,
   "metadata": {
    "collapsed": false,
    "deletable": true,
    "editable": true
   },
   "outputs": [
    {
     "name": "stdout",
     "output_type": "stream",
     "text": [
      "7850 1605\n",
      "(array([ 0.25,  0.25,  0.25,  0.25]), [23, 3, 21, 17])\n"
     ]
    }
   ],
   "source": [
    "# collate all moves in one big list\n",
    "moves = []\n",
    "final_moves =[]\n",
    "#for player, games in depths.items():\n",
    "games=depths['Faster improved']\n",
    "for game in games:\n",
    "    for move in game:\n",
    "        if move['score'] != float('inf') and move['score'] != float('-inf'):\n",
    "            moves.append(move)\n",
    "        else:\n",
    "            move_ = copy(move)\n",
    "            if move['score'] == float('inf'):\n",
    "                move_['score'] = 1\n",
    "            else:\n",
    "                move_['score'] = -1\n",
    "            final_moves.append(move_)\n",
    "            \n",
    "            \n",
    "        \n",
    "print(len(moves), len(final_moves))\n",
    "print(nice_allscores(moves[0]['allscores']))"
   ]
  },
  {
   "cell_type": "code",
   "execution_count": null,
   "metadata": {
    "collapsed": false,
    "deletable": true,
    "editable": true
   },
   "outputs": [
    {
     "data": {
      "text/plain": [
       "array([], shape=(0, 5), dtype=float64)"
      ]
     },
     "execution_count": 5,
     "metadata": {},
     "output_type": "execute_result"
    }
   ],
   "source": [
    "np.zeros([0,5])"
   ]
  },
  {
   "cell_type": "code",
   "execution_count": null,
   "metadata": {
    "collapsed": false,
    "deletable": true,
    "editable": true,
    "scrolled": true
   },
   "outputs": [
    {
     "name": "stdout",
     "output_type": "stream",
     "text": [
      "2 212\n",
      "(212, 2)\n",
      "1.21865559764e-40 -0.0\n",
      "entering calibration next epoch...\n",
      "0.000994863010134 4.46800424387\n",
      "test:  0.998453634727\n",
      "0.000864695438716 4.46808201831\n",
      "test:  0.998141478513\n",
      "0.000157950605399 4.46816719538\n",
      "test:  0.998108443433\n",
      "0.000966024285468 4.46821878482\n",
      "test:  0.99815584624\n",
      "0.000880396338428 4.46830847128\n",
      "test:  0.998082503728\n",
      "train:  0.998141748424\n",
      "test:  0.996693861952\n",
      "entering calibration next epoch...\n",
      "0.00106376656697 4.46843482878\n",
      "test:  0.998064092143\n",
      "0.00040520253221 4.46856253511\n",
      "test:  0.998354608201\n",
      "0.000830179359571 4.46866073941\n",
      "test:  0.998443352794\n",
      "0.000506305877889 4.46882647324\n",
      "test:  0.998461854452\n",
      "0.000393206754928 4.46897536224\n",
      "test:  0.998534590741\n",
      "train:  0.998421064257\n",
      "test:  0.997048746226\n",
      "entering calibration next epoch...\n",
      "0.000835114731941 4.46917791588\n",
      "test:  0.998473641367\n"
     ]
    }
   ],
   "source": [
    "#%pdb\n",
    "\n",
    "from neural import NNValueFunction, SelectionValueFunction\n",
    "import numpy as np\n",
    "from copy import copy\n",
    "from sklearn.model_selection import train_test_split\n",
    "import math \n",
    "import random\n",
    "\n",
    "train_moves, test_moves = train_test_split(moves, test_size = 0.3)\n",
    "\n",
    "\n",
    "val = SelectionValueFunction([5,5])\n",
    "\n",
    "coeff = np.random.normal(size =val.coeff_len)*0.1\n",
    "n = 0\n",
    "while 53*n < len(coeff):\n",
    "    coeff[53*n:(53*n+10)] = 0\n",
    "    n+=1\n",
    "    \n",
    "val.set_coeff(coeff)\n",
    "\n",
    "\n",
    "\n",
    "n = 0\n",
    "train_diff = np.zeros(len(train_moves))\n",
    "train_base = copy(train_diff)\n",
    "test_diff = np.zeros(len(test_moves))\n",
    "test_base = copy(test_diff)\n",
    "\n",
    "while True:\n",
    "    print('entering calibration next epoch...')\n",
    "    dcoeff = np.zeros(val.coeff_len)\n",
    "    random.shuffle(train_moves)\n",
    "    for m, move in  enumerate(train_moves):\n",
    "        scores, inds = nice_allscores(move['allscores'])\n",
    "        diff = scores - val(input_vec = move['game'],\n",
    "                        pos = move['pos'], indices = inds, mask = move['game'])\n",
    "        train_diff[m] = np.linalg.norm(diff)\n",
    "        train_base[m] = np.linalg.norm(scores - scores.mean())\n",
    "        #square_print(nn(inp))\n",
    "        #print(np.linalg.norm(diff))\n",
    "        gr = val.nn.grad()\n",
    "        #gr = gr /(1 + np.linalg.norm(gr))\n",
    "        dcoeff += gr.dot(diff).transpose()[0]*0.01\n",
    "        if m%100 ==0:\n",
    "            #print(np.linalg.norm(dcoeff), np.linalg.norm(val.nn.get_coeff()))\n",
    "            #dnorm = np.linalg.norm(dcoeff)\n",
    "            #cnorm = np.linalg.norm(val.nn.get_coeff())\n",
    "            #dcoeff = math.sqrt(cnorm/dnorm)*dcoeff\n",
    "            if m%1000 == 0 and m>0:\n",
    "                print(np.linalg.norm(dcoeff), np.linalg.norm(val.nn.get_coeff()))\n",
    "                print('test: ',np.linalg.norm(train_diff)/np.linalg.norm(train_base))\n",
    "            coeff = val.nn.get_coeff() + dcoeff\n",
    "            #print(coeff.shape)\n",
    "            val.nn.set_coeff(coeff)\n",
    "            dcoeff = np.zeros(val.coeff_len)\n",
    "        #if m%100 == 0\n",
    "    \n",
    "    for m,move in enumerate(test_moves):\n",
    "        scores, inds = nice_allscores(move['allscores'])\n",
    "        diff = scores - val(input_vec = move['game'],\n",
    "                        pos = move['pos'], indices = inds)\n",
    "        test_diff[m] = np.linalg.norm(diff)\n",
    "        test_base[m] = np.linalg.norm(scores-scores.mean())\n",
    "    print('train: ',np.linalg.norm(train_diff)/np.linalg.norm(train_base))\n",
    "    print('test: ',np.linalg.norm(test_diff)/np.linalg.norm(test_base))\n"
   ]
  },
  {
   "cell_type": "code",
   "execution_count": null,
   "metadata": {
    "collapsed": false,
    "deletable": true,
    "editable": true,
    "scrolled": true
   },
   "outputs": [],
   "source": [
    "from neural import NNValueFunction\n",
    "import numpy as np\n",
    "from copy import copy\n",
    "from sklearn.model_selection import train_test_split\n",
    "\n",
    "train_moves, test_moves = train_test_split(moves, test_size = 0.2)\n",
    "\n",
    "\n",
    "val = NNValueFunction([1,3,3])\n",
    "val.set_coeff(np.random.normal(size =val.coeff_len)*0.3)\n",
    "n = 0\n",
    "train_diff = np.zeros(len(train_moves))\n",
    "train_base = copy(train_diff)\n",
    "test_diff = np.zeros(len(test_moves))\n",
    "test_base = copy(test_diff)\n",
    "while True:\n",
    "    for m, move in  enumerate(train_moves):\n",
    "        train_diff[m] = move['score'] - val(input_vec = move['game'], pos = move['pos'])\n",
    "        train_base[m] = move['score']\n",
    "        #square_print(nn(inp))\n",
    "        #print(np.linalg.norm(diff))\n",
    "        gr = val.nn.grad()\n",
    "        gr = gr /(1 + np.linalg.norm(gr))\n",
    "        coeff = val.nn.get_coeff() + gr.dot(train_diff[m]).transpose()[0]*0.001\n",
    "        #print(coeff.shape)\n",
    "        val.nn.set_coeff(coeff)\n",
    "        #if m%100 == 0\n",
    "    for m,move in enumerate(test_moves):\n",
    "        test_diff[m] = move['score'] - val(input_vec = move['game'], pos = move['pos'])\n",
    "        test_base[m] = move['score']\n",
    "    print('train: ',np.linalg.norm(train_diff)/np.linalg.norm(train_base))\n",
    "    print('test: ',np.linalg.norm(test_diff)/np.linalg.norm(test_base))\n"
   ]
  },
  {
   "cell_type": "code",
   "execution_count": null,
   "metadata": {
    "collapsed": false,
    "deletable": true,
    "editable": true
   },
   "outputs": [],
   "source": [
    "def transpose_list_of_lists(lol):\n",
    "    \n",
    "    transp = []\n",
    "\n",
    "    for game in lol:\n",
    "        for m, move_depth in enumerate(game):\n",
    "            if len(transp) <= m:\n",
    "                transp.append([])\n",
    "            transp[m].append(move_depth)\n",
    "    return transp\n",
    "\n"
   ]
  },
  {
   "cell_type": "code",
   "execution_count": null,
   "metadata": {
    "collapsed": false,
    "deletable": true,
    "editable": true
   },
   "outputs": [],
   "source": [
    "#%pdb\n",
    "from statistics import mean, stdev, median\n",
    "import numpy as np\n",
    "\n",
    "def get_mean_std(lol):\n",
    "    result = {'mu':[], 'std':[],'median':[], 'strict_win':[], 'strict_loss':[]}\n",
    "    \n",
    "    for move in lol:\n",
    "        if len(move) > 2:\n",
    "            result['mu'].append(mean([m['depth'] for m in move]))\n",
    "            result['std'].append(stdev([m['depth'] for m in move]))\n",
    "            result['median'].append(median([m['depth'] for m in move]))\n",
    "            result['strict_win'].append(\\\n",
    "                len([ m['score'] for m in move if m['score'] == float('inf')]) / len(move))\n",
    "            result['strict_loss'].append(\\\n",
    "                len([ m['score'] for m in move if m['score'] == float('-inf')]) / len(move))\n",
    "            \n",
    "            \n",
    "    result['mu'] = np.array(result['mu'] )\n",
    "    result['std'] = np.array(result['std'])\n",
    "    result['median'] = np.array(result['median'])\n",
    "    result['strict_win'] = np.array(result['strict_win'])\n",
    "    result['strict_loss'] = np.array(result['strict_loss'])\n",
    "    return result\n",
    "\n",
    "player_stats = {}\n",
    "for p, d in depths.items():\n",
    "    tmp = transpose_list_of_lists(d)\n",
    "    #print(tmp)\n",
    "    player_stats[p] = get_mean_std(transpose_list_of_lists(d))\n"
   ]
  },
  {
   "cell_type": "code",
   "execution_count": null,
   "metadata": {
    "collapsed": false,
    "deletable": true,
    "editable": true
   },
   "outputs": [],
   "source": [
    "player_stats\n"
   ]
  },
  {
   "cell_type": "code",
   "execution_count": null,
   "metadata": {
    "collapsed": false,
    "deletable": true,
    "editable": true
   },
   "outputs": [],
   "source": [
    "#import numpy as np\n",
    "import matplotlib.pyplot as plt\n",
    "%matplotlib inline\n",
    "\n",
    "plt.figure()\n",
    "ax = plt.axes()\n",
    "#ax.set_yscale(\"log\")\n",
    "lines = []\n",
    "legend = []\n",
    "n=0\n",
    "lastpt = 12\n",
    "for p, stats in player_stats.items():\n",
    "    lines.append(\\\n",
    "        plt.errorbar(np.array(range(lastpt))+n,stats['mu'][0:lastpt], \n",
    "                     yerr=stats['std'][0:lastpt], fmt='o'))\n",
    "    legend.append(p)\n",
    "    n+= 0.1\n",
    "\n",
    "plt.legend(lines,legend)\n",
    "plt.show()"
   ]
  },
  {
   "cell_type": "code",
   "execution_count": null,
   "metadata": {
    "collapsed": false,
    "deletable": true,
    "editable": true
   },
   "outputs": [],
   "source": [
    "plt.figure()\n",
    "ax = plt.axes()\n",
    "#ax.set_yscale(\"log\")\n",
    "lines = []\n",
    "legend =[]\n",
    "for p, stats in player_stats.items():\n",
    "    lines.append(\\\n",
    "        plt.plot(range(len(stats['mu'])),stats['strict_win'] + stats['strict_loss']))\n",
    "    legend.append(p)\n",
    "plt.legend(legend)\n",
    "plt.grid()\n",
    "plt.show()"
   ]
  },
  {
   "cell_type": "code",
   "execution_count": null,
   "metadata": {
    "collapsed": false,
    "deletable": true,
    "editable": true
   },
   "outputs": [],
   "source": [
    "plt.figure()\n",
    "ax = plt.axes()\n",
    "#ax.set_yscale(\"log\")\n",
    "lines = []\n",
    "legend =[]\n",
    "for p, stats in player_stats.items():\n",
    "    lines.append(\\\n",
    "        plt.plot(range(len(stats['mu'])),stats['strict_win']-stats['strict_loss']))\n",
    "    legend.append(p)\n",
    "plt.legend(legend)\n",
    "plt.grid()\n",
    "plt.show()"
   ]
  }
 ],
 "metadata": {
  "kernelspec": {
   "display_name": "Python 3",
   "language": "python",
   "name": "python3"
  },
  "language_info": {
   "codemirror_mode": {
    "name": "ipython",
    "version": 3
   },
   "file_extension": ".py",
   "mimetype": "text/x-python",
   "name": "python",
   "nbconvert_exporter": "python",
   "pygments_lexer": "ipython3",
   "version": "3.6.0"
  }
 },
 "nbformat": 4,
 "nbformat_minor": 2
}
