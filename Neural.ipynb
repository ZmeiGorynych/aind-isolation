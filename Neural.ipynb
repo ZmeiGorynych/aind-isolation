{
 "cells": [
  {
   "cell_type": "code",
   "execution_count": 1,
   "metadata": {
    "collapsed": false
   },
   "outputs": [
    {
     "name": "stdout",
     "output_type": "stream",
     "text": [
      "53\n",
      "[ 0.  0.  0.  0.  0.  0.  0.]\n",
      "[ 0.  0.  0.  0.  0.  0.  0.]\n",
      "[ 0.  0.  0.  0.  0.  0.  0.]\n",
      "[ 0.  0.  0.  0.  0.  1.  0.]\n",
      "[ 0.  0.  0.  0.  0.  0.  0.]\n",
      "[ 0.  0.  0.  0.  0.  0.  0.]\n",
      "[ 0.  0.  0.  0.  0.  0.  0.]\n",
      "******\n",
      "\n",
      "\n",
      "\n",
      "\n",
      "\n",
      "\n",
      "[ 0.  0.  0.  0.  0.  0.  0.]\n",
      "[ 0.  0.  0.  0.  1.  0.  1.]\n",
      "[ 0.  0.  0.  1.  0.  0.  0.]\n",
      "[ 0.  0.  0.  0.  0. -1.  0.]\n",
      "[ 0.  0.  0.  1.  0.  0.  0.]\n",
      "[ 0.  0.  0.  0.  1.  0.  1.]\n",
      "[ 0.  0.  0.  0.  0.  0.  0.]\n"
     ]
    }
   ],
   "source": [
    "from neural import *\n",
    "nn = ConvolutionNetwork([1,1])\n",
    "print(nn.stages[0].units[0][0].coeff_len)\n",
    "coeff = np.ones(nn.coeff_len)\n",
    "coeff[0:10] = 0 # offsets\n",
    "coeff[10:20] = -1 # self\n",
    "#coeff = np.vectorize(abs)(10*np.random.normal(size=nn.coeff_len)).astype(int)\n",
    "inp = np.zeros(nn.input_len)\n",
    "inp[26] = 1\n",
    "#mask = np.ones(49)\n",
    "#mask[0:21] = 0\n",
    "#inp = inp*mask\n",
    "nn.set_coeff(coeff)\n",
    "square_print(inp)\n",
    "square_print('******')\n",
    "square_print(nn(inp))"
   ]
  },
  {
   "cell_type": "code",
   "execution_count": 2,
   "metadata": {
    "collapsed": false
   },
   "outputs": [
    {
     "name": "stdout",
     "output_type": "stream",
     "text": [
      "[ 0.  0.  0.  1.  0.  0.  0.]\n",
      "[ 0. -1.  0.  0.  0.  0.  0.]\n",
      "[ 0.  0.  0.  1.  0.  0.  0.]\n",
      "[ 1.  0.  1.  0.  0.  0.  0.]\n",
      "[ 0.  0.  0.  0.  0.  0.  0.]\n",
      "[ 0.  0.  0.  0.  0.  0.  0.]\n",
      "[ 0.  0.  0.  0.  0.  0.  0.]\n"
     ]
    }
   ],
   "source": [
    "a = generate_all_moves_by_index()[8]\n",
    "tmp = np.zeros(49)\n",
    "tmp[a] = 1\n",
    "tmp[8] = -1\n",
    "square_print(tmp)"
   ]
  },
  {
   "cell_type": "code",
   "execution_count": 3,
   "metadata": {
    "collapsed": false
   },
   "outputs": [
    {
     "name": "stdout",
     "output_type": "stream",
     "text": [
      "[(-1, 6), (3, 16), (8, 40), (16, 41), (18, 41), (12, 40)] [18, 12, 8, 16]\n"
     ]
    }
   ],
   "source": [
    "joint_ind, n = move_convolution_indices()\n",
    "print(joint_ind[3],generate_all_moves_by_index()[3])"
   ]
  }
 ],
 "metadata": {
  "kernelspec": {
   "display_name": "Python 3",
   "language": "python",
   "name": "python3"
  },
  "language_info": {
   "codemirror_mode": {
    "name": "ipython",
    "version": 3
   },
   "file_extension": ".py",
   "mimetype": "text/x-python",
   "name": "python",
   "nbconvert_exporter": "python",
   "pygments_lexer": "ipython3",
   "version": "3.6.0"
  }
 },
 "nbformat": 4,
 "nbformat_minor": 2
}
